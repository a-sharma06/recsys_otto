{
 "cells": [
  {
   "cell_type": "markdown",
   "id": "aad8d1fb",
   "metadata": {
    "papermill": {
     "duration": 0.015153,
     "end_time": "2025-01-20T20:18:43.530600",
     "exception": false,
     "start_time": "2025-01-20T20:18:43.515447",
     "status": "completed"
    },
    "tags": []
   },
   "source": [
    "# Exploratory Data Analysis"
   ]
  },
  {
   "cell_type": "markdown",
   "id": "72d0ca6e",
   "metadata": {
    "papermill": {
     "duration": 0.012876,
     "end_time": "2025-01-20T20:18:43.557418",
     "exception": false,
     "start_time": "2025-01-20T20:18:43.544542",
     "status": "completed"
    },
    "tags": []
   },
   "source": [
    "# Intro\n",
    "\n",
    "This notebook is for exploratory data analysis of the data provided in the OTTO – Multi-Objective Recommender System project. In this notebook, we will be understanding the properties of the dataset. After understanding the data, in other notebooks we will be benchmarking various machine learning approaches for building a recommendation system."
   ]
  },
  {
   "cell_type": "markdown",
   "id": "f91170a3",
   "metadata": {
    "papermill": {
     "duration": 0.012906,
     "end_time": "2025-01-20T20:18:43.584481",
     "exception": false,
     "start_time": "2025-01-20T20:18:43.571575",
     "status": "completed"
    },
    "tags": []
   },
   "source": [
    "# Objective\n",
    "\n",
    "The data description on the OTTO competition page on Kaggle mentions that for each `session`, we have the `ts` (time stamps), `aid` (article IDs), and `type` (event type). The `type` can be one of `clicks`, `carts`, and `orders`. The EDA in this notebook investigates the following in the training data:\n",
    "\n",
    "1. Quantification: # of rows, counts of `session`, count of `aid`\n",
    "2. Understanding User Behavior: count of unique `aid` per session (i.e. how many unique items the user is interested in), `clicks` per `session` (how much does the user browse), `carts` per `session` (how many items are added to cart), `orders` per `session` (are there multiple orders in a single session)\n",
    "3. Understanding Articles: `clicks` per `aid` (i.e. most to least clicked articles), `carts` per `aid` (which items are added to cart the most), `orders` per `aid` (are there specific articles which trigger the ordering), co-occurence of `aid` (how likely are two `aid` to co-occur in a session), transition matrix of `aid` (which article will be clicked on next)\n",
    "5. Understanding Time Spent: calculate difference of last and first `ts` as time elapsed, time elapsed per `session` (how much tiime does a user spend per session), time elapsed per `aid` (how much time is spent per article), time elapsed on an `aid` right before `carts` (how much time is spent on an article before adding to cart), time elapsed on `aid` added to cart and those `aid` not added to cart"
   ]
  },
  {
   "cell_type": "markdown",
   "id": "7b7c96f3",
   "metadata": {
    "papermill": {
     "duration": 0.012765,
     "end_time": "2025-01-20T20:18:43.611670",
     "exception": false,
     "start_time": "2025-01-20T20:18:43.598905",
     "status": "completed"
    },
    "tags": []
   },
   "source": [
    "Note: The training data set is very large (~13M sessions and ~217M events). Analyzing such large data for exploratory analysis only using the resources available on Kaggle would be quite challening. Therefore, we are using sample size of 150K. Techniques for performing exploratory data analyis on large datasets includes using the `multiprocessing` or `dask` packages. Another alternative would be, `pyspark`."
   ]
  },
  {
   "cell_type": "markdown",
   "id": "31f9062e",
   "metadata": {
    "papermill": {
     "duration": 0.012742,
     "end_time": "2025-01-20T20:18:43.637483",
     "exception": false,
     "start_time": "2025-01-20T20:18:43.624741",
     "status": "completed"
    },
    "tags": []
   },
   "source": [
    "Note: As we proceed through the exploratory analysis in this notebook, our findings are summarized for each objective in cells beginning with **Findings**."
   ]
  },
  {
   "cell_type": "markdown",
   "id": "31964302",
   "metadata": {
    "papermill": {
     "duration": 0.012807,
     "end_time": "2025-01-20T20:18:43.663403",
     "exception": false,
     "start_time": "2025-01-20T20:18:43.650596",
     "status": "completed"
    },
    "tags": []
   },
   "source": [
    "# References\n",
    "\n",
    "1. https://www.kaggle.com/code/edwardcrookenden/otto-getting-started-eda-baseline\n",
    "2. https://www.kaggle.com/code/inversion/read-a-chunk-of-jsonl\n",
    "3. https://stackoverflow.com/questions/35562789/how-do-i-calculate-a-word-word-co-occurrence-matrix-with-sklearn\n",
    "4. https://stackoverflow.com/a/49819594\n",
    "5. https://developer.nvidia.com/blog/build-efficient-recommender-systems-with-co-visitation-matrices-and-rapids-cudf/\n",
    "6. https://colab.research.google.com/drive/1CKxPGGjfdR7YUZ3BkATTMGZFV8Vjerwy?usp=sharing#scrollTo=0gI5U82Zh30a"
   ]
  },
  {
   "cell_type": "markdown",
   "id": "cb009cfa",
   "metadata": {
    "papermill": {
     "duration": 0.012845,
     "end_time": "2025-01-20T20:18:43.689270",
     "exception": false,
     "start_time": "2025-01-20T20:18:43.676425",
     "status": "completed"
    },
    "tags": []
   },
   "source": [
    "# Virtual Env Freezing"
   ]
  },
  {
   "cell_type": "markdown",
   "id": "4e3706fc",
   "metadata": {
    "papermill": {
     "duration": 0.012609,
     "end_time": "2025-01-20T20:18:43.714788",
     "exception": false,
     "start_time": "2025-01-20T20:18:43.702179",
     "status": "completed"
    },
    "tags": []
   },
   "source": [
    "#### Freezing the virtual environment on Kaggle\n",
    "By documenting our environment, we want to ensures reproduceability."
   ]
  },
  {
   "cell_type": "code",
   "execution_count": 1,
   "id": "de74d391",
   "metadata": {
    "execution": {
     "iopub.execute_input": "2025-01-20T20:18:43.742076Z",
     "iopub.status.busy": "2025-01-20T20:18:43.741722Z",
     "iopub.status.idle": "2025-01-20T20:18:47.967461Z",
     "shell.execute_reply": "2025-01-20T20:18:47.965760Z"
    },
    "papermill": {
     "duration": 4.241764,
     "end_time": "2025-01-20T20:18:47.969524",
     "exception": false,
     "start_time": "2025-01-20T20:18:43.727760",
     "status": "completed"
    },
    "tags": []
   },
   "outputs": [],
   "source": [
    "!pip freeze > requirements.txt"
   ]
  },
  {
   "cell_type": "markdown",
   "id": "fc50f267",
   "metadata": {
    "papermill": {
     "duration": 0.013066,
     "end_time": "2025-01-20T20:18:47.996594",
     "exception": false,
     "start_time": "2025-01-20T20:18:47.983528",
     "status": "completed"
    },
    "tags": []
   },
   "source": [
    "# Reading Data"
   ]
  },
  {
   "cell_type": "code",
   "execution_count": 2,
   "id": "97e9af07",
   "metadata": {
    "execution": {
     "iopub.execute_input": "2025-01-20T20:18:48.026375Z",
     "iopub.status.busy": "2025-01-20T20:18:48.025806Z",
     "iopub.status.idle": "2025-01-20T20:18:51.012674Z",
     "shell.execute_reply": "2025-01-20T20:18:51.011622Z"
    },
    "papermill": {
     "duration": 3.004596,
     "end_time": "2025-01-20T20:18:51.014680",
     "exception": false,
     "start_time": "2025-01-20T20:18:48.010084",
     "status": "completed"
    },
    "tags": []
   },
   "outputs": [],
   "source": [
    "import numpy as np\n",
    "import pandas as pd\n",
    "\n",
    "import seaborn as sns\n",
    "from datetime import timedelta\n",
    "\n",
    "import os\n",
    "\n",
    "from sklearn.feature_extraction.text import CountVectorizer\n",
    "from scipy.sparse import triu\n",
    "\n",
    "# Apply the default theme\n",
    "sns.set_theme()\n",
    "\n",
    "data_path = r\"/kaggle/input/otto-recommender-system/\""
   ]
  },
  {
   "cell_type": "code",
   "execution_count": 3,
   "id": "c082b5c0",
   "metadata": {
    "execution": {
     "iopub.execute_input": "2025-01-20T20:18:51.043113Z",
     "iopub.status.busy": "2025-01-20T20:18:51.042616Z",
     "iopub.status.idle": "2025-01-20T20:18:51.047367Z",
     "shell.execute_reply": "2025-01-20T20:18:51.046116Z"
    },
    "papermill": {
     "duration": 0.021207,
     "end_time": "2025-01-20T20:18:51.049125",
     "exception": false,
     "start_time": "2025-01-20T20:18:51.027918",
     "status": "completed"
    },
    "tags": []
   },
   "outputs": [],
   "source": [
    "import warnings\n",
    "warnings.filterwarnings(\"ignore\", \"use_inf_as_na\")"
   ]
  },
  {
   "cell_type": "code",
   "execution_count": 4,
   "id": "902382bd",
   "metadata": {
    "execution": {
     "iopub.execute_input": "2025-01-20T20:18:51.077749Z",
     "iopub.status.busy": "2025-01-20T20:18:51.077375Z",
     "iopub.status.idle": "2025-01-20T20:19:09.291170Z",
     "shell.execute_reply": "2025-01-20T20:19:09.289860Z"
    },
    "papermill": {
     "duration": 18.230155,
     "end_time": "2025-01-20T20:19:09.293197",
     "exception": false,
     "start_time": "2025-01-20T20:18:51.063042",
     "status": "completed"
    },
    "tags": []
   },
   "outputs": [],
   "source": [
    "# Load in a sample to a pandas df\n",
    "\n",
    "sample_size = 150000\n",
    "\n",
    "chunks = pd.read_json(data_path+'/train.jsonl', lines=True, chunksize = sample_size)\n",
    "\n",
    "for c in chunks:\n",
    "    sample_train_df = c\n",
    "    break"
   ]
  },
  {
   "cell_type": "code",
   "execution_count": 5,
   "id": "82f4f9fc",
   "metadata": {
    "execution": {
     "iopub.execute_input": "2025-01-20T20:19:09.321187Z",
     "iopub.status.busy": "2025-01-20T20:19:09.320829Z",
     "iopub.status.idle": "2025-01-20T20:19:09.375875Z",
     "shell.execute_reply": "2025-01-20T20:19:09.374661Z"
    },
    "papermill": {
     "duration": 0.071226,
     "end_time": "2025-01-20T20:19:09.377810",
     "exception": false,
     "start_time": "2025-01-20T20:19:09.306584",
     "status": "completed"
    },
    "tags": []
   },
   "outputs": [
    {
     "data": {
      "text/html": [
       "<div>\n",
       "<style scoped>\n",
       "    .dataframe tbody tr th:only-of-type {\n",
       "        vertical-align: middle;\n",
       "    }\n",
       "\n",
       "    .dataframe tbody tr th {\n",
       "        vertical-align: top;\n",
       "    }\n",
       "\n",
       "    .dataframe thead th {\n",
       "        text-align: right;\n",
       "    }\n",
       "</style>\n",
       "<table border=\"1\" class=\"dataframe\">\n",
       "  <thead>\n",
       "    <tr style=\"text-align: right;\">\n",
       "      <th></th>\n",
       "      <th>session</th>\n",
       "      <th>events</th>\n",
       "    </tr>\n",
       "  </thead>\n",
       "  <tbody>\n",
       "    <tr>\n",
       "      <th>0</th>\n",
       "      <td>0</td>\n",
       "      <td>[{'aid': 1517085, 'ts': 1659304800025, 'type':...</td>\n",
       "    </tr>\n",
       "    <tr>\n",
       "      <th>1</th>\n",
       "      <td>1</td>\n",
       "      <td>[{'aid': 424964, 'ts': 1659304800025, 'type': ...</td>\n",
       "    </tr>\n",
       "    <tr>\n",
       "      <th>2</th>\n",
       "      <td>2</td>\n",
       "      <td>[{'aid': 763743, 'ts': 1659304800038, 'type': ...</td>\n",
       "    </tr>\n",
       "  </tbody>\n",
       "</table>\n",
       "</div>"
      ],
      "text/plain": [
       "   session                                             events\n",
       "0        0  [{'aid': 1517085, 'ts': 1659304800025, 'type':...\n",
       "1        1  [{'aid': 424964, 'ts': 1659304800025, 'type': ...\n",
       "2        2  [{'aid': 763743, 'ts': 1659304800038, 'type': ..."
      ]
     },
     "execution_count": 5,
     "metadata": {},
     "output_type": "execute_result"
    }
   ],
   "source": [
    "sample_train_df.head(3)"
   ]
  },
  {
   "cell_type": "code",
   "execution_count": 6,
   "id": "5bd21e96",
   "metadata": {
    "execution": {
     "iopub.execute_input": "2025-01-20T20:19:09.407738Z",
     "iopub.status.busy": "2025-01-20T20:19:09.407408Z",
     "iopub.status.idle": "2025-01-20T20:19:09.414933Z",
     "shell.execute_reply": "2025-01-20T20:19:09.413670Z"
    },
    "papermill": {
     "duration": 0.025181,
     "end_time": "2025-01-20T20:19:09.416815",
     "exception": false,
     "start_time": "2025-01-20T20:19:09.391634",
     "status": "completed"
    },
    "tags": []
   },
   "outputs": [
    {
     "data": {
      "text/plain": [
       "[{'aid': 1517085, 'ts': 1659304800025, 'type': 'clicks'},\n",
       " {'aid': 1563459, 'ts': 1659304904511, 'type': 'clicks'},\n",
       " {'aid': 1309446, 'ts': 1659367439426, 'type': 'clicks'}]"
      ]
     },
     "execution_count": 6,
     "metadata": {},
     "output_type": "execute_result"
    }
   ],
   "source": [
    "sample_train_df.loc[0, \"events\"][0:3]"
   ]
  },
  {
   "cell_type": "code",
   "execution_count": 7,
   "id": "234fd2ca",
   "metadata": {
    "execution": {
     "iopub.execute_input": "2025-01-20T20:19:09.446054Z",
     "iopub.status.busy": "2025-01-20T20:19:09.445719Z",
     "iopub.status.idle": "2025-01-20T20:19:11.068614Z",
     "shell.execute_reply": "2025-01-20T20:19:11.067487Z"
    },
    "papermill": {
     "duration": 1.639479,
     "end_time": "2025-01-20T20:19:11.070494",
     "exception": false,
     "start_time": "2025-01-20T20:19:09.431015",
     "status": "completed"
    },
    "tags": []
   },
   "outputs": [
    {
     "data": {
      "text/html": [
       "<div>\n",
       "<style scoped>\n",
       "    .dataframe tbody tr th:only-of-type {\n",
       "        vertical-align: middle;\n",
       "    }\n",
       "\n",
       "    .dataframe tbody tr th {\n",
       "        vertical-align: top;\n",
       "    }\n",
       "\n",
       "    .dataframe thead th {\n",
       "        text-align: right;\n",
       "    }\n",
       "</style>\n",
       "<table border=\"1\" class=\"dataframe\">\n",
       "  <thead>\n",
       "    <tr style=\"text-align: right;\">\n",
       "      <th></th>\n",
       "      <th>session</th>\n",
       "      <th>events</th>\n",
       "    </tr>\n",
       "  </thead>\n",
       "  <tbody>\n",
       "    <tr>\n",
       "      <th>0</th>\n",
       "      <td>0</td>\n",
       "      <td>{'aid': 1517085, 'ts': 1659304800025, 'type': ...</td>\n",
       "    </tr>\n",
       "    <tr>\n",
       "      <th>1</th>\n",
       "      <td>0</td>\n",
       "      <td>{'aid': 1563459, 'ts': 1659304904511, 'type': ...</td>\n",
       "    </tr>\n",
       "    <tr>\n",
       "      <th>2</th>\n",
       "      <td>0</td>\n",
       "      <td>{'aid': 1309446, 'ts': 1659367439426, 'type': ...</td>\n",
       "    </tr>\n",
       "  </tbody>\n",
       "</table>\n",
       "</div>"
      ],
      "text/plain": [
       "   session                                             events\n",
       "0        0  {'aid': 1517085, 'ts': 1659304800025, 'type': ...\n",
       "1        0  {'aid': 1563459, 'ts': 1659304904511, 'type': ...\n",
       "2        0  {'aid': 1309446, 'ts': 1659367439426, 'type': ..."
      ]
     },
     "execution_count": 7,
     "metadata": {},
     "output_type": "execute_result"
    }
   ],
   "source": [
    "# Expand the 'events' column into individual rows\n",
    "expanded_df = sample_train_df.explode('events').reset_index(drop=True)\n",
    "expanded_df.head(3)"
   ]
  },
  {
   "cell_type": "code",
   "execution_count": 8,
   "id": "5916d268",
   "metadata": {
    "execution": {
     "iopub.execute_input": "2025-01-20T20:19:11.100106Z",
     "iopub.status.busy": "2025-01-20T20:19:11.099741Z",
     "iopub.status.idle": "2025-01-20T20:19:42.321377Z",
     "shell.execute_reply": "2025-01-20T20:19:42.320096Z"
    },
    "papermill": {
     "duration": 31.252151,
     "end_time": "2025-01-20T20:19:42.336627",
     "exception": false,
     "start_time": "2025-01-20T20:19:11.084476",
     "status": "completed"
    },
    "tags": []
   },
   "outputs": [
    {
     "data": {
      "text/html": [
       "<div>\n",
       "<style scoped>\n",
       "    .dataframe tbody tr th:only-of-type {\n",
       "        vertical-align: middle;\n",
       "    }\n",
       "\n",
       "    .dataframe tbody tr th {\n",
       "        vertical-align: top;\n",
       "    }\n",
       "\n",
       "    .dataframe thead th {\n",
       "        text-align: right;\n",
       "    }\n",
       "</style>\n",
       "<table border=\"1\" class=\"dataframe\">\n",
       "  <thead>\n",
       "    <tr style=\"text-align: right;\">\n",
       "      <th></th>\n",
       "      <th>session</th>\n",
       "      <th>aid</th>\n",
       "      <th>ts</th>\n",
       "      <th>type</th>\n",
       "    </tr>\n",
       "  </thead>\n",
       "  <tbody>\n",
       "    <tr>\n",
       "      <th>0</th>\n",
       "      <td>0</td>\n",
       "      <td>1517085</td>\n",
       "      <td>1659304800025</td>\n",
       "      <td>clicks</td>\n",
       "    </tr>\n",
       "    <tr>\n",
       "      <th>1</th>\n",
       "      <td>0</td>\n",
       "      <td>1563459</td>\n",
       "      <td>1659304904511</td>\n",
       "      <td>clicks</td>\n",
       "    </tr>\n",
       "    <tr>\n",
       "      <th>2</th>\n",
       "      <td>0</td>\n",
       "      <td>1309446</td>\n",
       "      <td>1659367439426</td>\n",
       "      <td>clicks</td>\n",
       "    </tr>\n",
       "  </tbody>\n",
       "</table>\n",
       "</div>"
      ],
      "text/plain": [
       "   session      aid             ts    type\n",
       "0        0  1517085  1659304800025  clicks\n",
       "1        0  1563459  1659304904511  clicks\n",
       "2        0  1309446  1659367439426  clicks"
      ]
     },
     "execution_count": 8,
     "metadata": {},
     "output_type": "execute_result"
    }
   ],
   "source": [
    "# Convert the dictionaries in 'events' column into separate columns\n",
    "expanded_df[[\"aid\", \"ts\", \"type\"]] = pd.json_normalize(expanded_df['events'])\n",
    "expanded_df = expanded_df.drop('events', axis=1)\n",
    "expanded_df.head(3)"
   ]
  },
  {
   "cell_type": "code",
   "execution_count": 9,
   "id": "dcce1144",
   "metadata": {
    "execution": {
     "iopub.execute_input": "2025-01-20T20:19:42.365409Z",
     "iopub.status.busy": "2025-01-20T20:19:42.365001Z",
     "iopub.status.idle": "2025-01-20T20:19:42.370970Z",
     "shell.execute_reply": "2025-01-20T20:19:42.369810Z"
    },
    "papermill": {
     "duration": 0.022483,
     "end_time": "2025-01-20T20:19:42.372998",
     "exception": false,
     "start_time": "2025-01-20T20:19:42.350515",
     "status": "completed"
    },
    "tags": []
   },
   "outputs": [
    {
     "data": {
      "text/plain": [
       "(7841827, 4)"
      ]
     },
     "execution_count": 9,
     "metadata": {},
     "output_type": "execute_result"
    }
   ],
   "source": [
    "expanded_df.shape"
   ]
  },
  {
   "cell_type": "markdown",
   "id": "ec96c126",
   "metadata": {
    "papermill": {
     "duration": 0.013935,
     "end_time": "2025-01-20T20:19:42.405117",
     "exception": false,
     "start_time": "2025-01-20T20:19:42.391182",
     "status": "completed"
    },
    "tags": []
   },
   "source": [
    "# Quantification"
   ]
  },
  {
   "cell_type": "markdown",
   "id": "05977515",
   "metadata": {
    "papermill": {
     "duration": 0.015327,
     "end_time": "2025-01-20T20:19:42.435041",
     "exception": false,
     "start_time": "2025-01-20T20:19:42.419714",
     "status": "completed"
    },
    "tags": []
   },
   "source": [
    "### # of rows"
   ]
  },
  {
   "cell_type": "code",
   "execution_count": 10,
   "id": "a9dcebc6",
   "metadata": {
    "execution": {
     "iopub.execute_input": "2025-01-20T20:19:42.468485Z",
     "iopub.status.busy": "2025-01-20T20:19:42.467981Z",
     "iopub.status.idle": "2025-01-20T20:19:42.472644Z",
     "shell.execute_reply": "2025-01-20T20:19:42.471247Z"
    },
    "papermill": {
     "duration": 0.023758,
     "end_time": "2025-01-20T20:19:42.474447",
     "exception": false,
     "start_time": "2025-01-20T20:19:42.450689",
     "status": "completed"
    },
    "tags": []
   },
   "outputs": [],
   "source": [
    "# %%time \n",
    "\n",
    "# num_lines = sum(1 for line in open(data_path+'/train.jsonl'))\n",
    "# print(f'number of lines in train: {num_lines:,}')"
   ]
  },
  {
   "cell_type": "code",
   "execution_count": 11,
   "id": "7468a171",
   "metadata": {
    "execution": {
     "iopub.execute_input": "2025-01-20T20:19:42.505258Z",
     "iopub.status.busy": "2025-01-20T20:19:42.504843Z",
     "iopub.status.idle": "2025-01-20T20:19:42.566774Z",
     "shell.execute_reply": "2025-01-20T20:19:42.565451Z"
    },
    "papermill": {
     "duration": 0.079406,
     "end_time": "2025-01-20T20:19:42.568857",
     "exception": false,
     "start_time": "2025-01-20T20:19:42.489451",
     "status": "completed"
    },
    "tags": []
   },
   "outputs": [
    {
     "name": "stdout",
     "output_type": "stream",
     "text": [
      "number of sessions in the sample of training data: 150,000\n"
     ]
    }
   ],
   "source": [
    "print(f'number of sessions in the sample of training data: {len(expanded_df[\"session\"].unique()):,}')"
   ]
  },
  {
   "cell_type": "code",
   "execution_count": 12,
   "id": "9a7c16c6",
   "metadata": {
    "execution": {
     "iopub.execute_input": "2025-01-20T20:19:42.599491Z",
     "iopub.status.busy": "2025-01-20T20:19:42.599066Z",
     "iopub.status.idle": "2025-01-20T20:19:42.816882Z",
     "shell.execute_reply": "2025-01-20T20:19:42.815323Z"
    },
    "papermill": {
     "duration": 0.23518,
     "end_time": "2025-01-20T20:19:42.818867",
     "exception": false,
     "start_time": "2025-01-20T20:19:42.583687",
     "status": "completed"
    },
    "tags": []
   },
   "outputs": [
    {
     "name": "stdout",
     "output_type": "stream",
     "text": [
      "number of aid in the sample of training data: 830,140\n"
     ]
    }
   ],
   "source": [
    "print(f'number of aid in the sample of training data: {len(expanded_df[\"aid\"].unique()):,}')"
   ]
  },
  {
   "cell_type": "markdown",
   "id": "77a844f9",
   "metadata": {
    "papermill": {
     "duration": 0.014966,
     "end_time": "2025-01-20T20:19:42.849023",
     "exception": false,
     "start_time": "2025-01-20T20:19:42.834057",
     "status": "completed"
    },
    "tags": []
   },
   "source": [
    "# Understanding User Behavior"
   ]
  },
  {
   "cell_type": "markdown",
   "id": "84000305",
   "metadata": {
    "papermill": {
     "duration": 0.014823,
     "end_time": "2025-01-20T20:19:42.880025",
     "exception": false,
     "start_time": "2025-01-20T20:19:42.865202",
     "status": "completed"
    },
    "tags": []
   },
   "source": [
    "### Count of unique aid per session\n",
    "\n",
    "How many unique items the user is interested in?"
   ]
  },
  {
   "cell_type": "code",
   "execution_count": 13,
   "id": "e5e3c209",
   "metadata": {
    "execution": {
     "iopub.execute_input": "2025-01-20T20:19:42.910498Z",
     "iopub.status.busy": "2025-01-20T20:19:42.910069Z",
     "iopub.status.idle": "2025-01-20T20:19:45.770361Z",
     "shell.execute_reply": "2025-01-20T20:19:45.769174Z"
    },
    "papermill": {
     "duration": 2.877199,
     "end_time": "2025-01-20T20:19:45.772357",
     "exception": false,
     "start_time": "2025-01-20T20:19:42.895158",
     "status": "completed"
    },
    "tags": []
   },
   "outputs": [],
   "source": [
    "naid_per_session = (\n",
    "    expanded_df\n",
    "    .groupby([\"session\"])\n",
    "    [\"aid\"]\n",
    "    .nunique()\n",
    "    .reset_index()\n",
    ")"
   ]
  },
  {
   "cell_type": "code",
   "execution_count": 14,
   "id": "19920bab",
   "metadata": {
    "execution": {
     "iopub.execute_input": "2025-01-20T20:19:45.803559Z",
     "iopub.status.busy": "2025-01-20T20:19:45.803113Z",
     "iopub.status.idle": "2025-01-20T20:19:45.810794Z",
     "shell.execute_reply": "2025-01-20T20:19:45.809572Z"
    },
    "papermill": {
     "duration": 0.026061,
     "end_time": "2025-01-20T20:19:45.812823",
     "exception": false,
     "start_time": "2025-01-20T20:19:45.786762",
     "status": "completed"
    },
    "tags": []
   },
   "outputs": [
    {
     "data": {
      "text/plain": [
       "(1, 460)"
      ]
     },
     "execution_count": 14,
     "metadata": {},
     "output_type": "execute_result"
    }
   ],
   "source": [
    "naid_per_session[\"aid\"].min(), naid_per_session[\"aid\"].max()"
   ]
  },
  {
   "cell_type": "code",
   "execution_count": 15,
   "id": "89d3f16b",
   "metadata": {
    "execution": {
     "iopub.execute_input": "2025-01-20T20:19:45.845504Z",
     "iopub.status.busy": "2025-01-20T20:19:45.845004Z",
     "iopub.status.idle": "2025-01-20T20:19:45.857575Z",
     "shell.execute_reply": "2025-01-20T20:19:45.856400Z"
    },
    "papermill": {
     "duration": 0.031085,
     "end_time": "2025-01-20T20:19:45.859371",
     "exception": false,
     "start_time": "2025-01-20T20:19:45.828286",
     "status": "completed"
    },
    "tags": []
   },
   "outputs": [
    {
     "data": {
      "text/plain": [
       "aid\n",
       "2     15381\n",
       "3     10858\n",
       "4      8256\n",
       "5      6743\n",
       "6      5704\n",
       "1      5332\n",
       "7      4869\n",
       "8      4443\n",
       "9      3838\n",
       "10     3478\n",
       "11     3172\n",
       "12     2979\n",
       "13     2792\n",
       "14     2473\n",
       "15     2344\n",
       "16     2291\n",
       "17     2075\n",
       "18     1935\n",
       "19     1768\n",
       "20     1707\n",
       "Name: count, dtype: int64"
      ]
     },
     "execution_count": 15,
     "metadata": {},
     "output_type": "execute_result"
    }
   ],
   "source": [
    "naid_per_session[\"aid\"].value_counts()[0:20]"
   ]
  },
  {
   "cell_type": "code",
   "execution_count": 16,
   "id": "042cf1af",
   "metadata": {
    "execution": {
     "iopub.execute_input": "2025-01-20T20:19:45.891716Z",
     "iopub.status.busy": "2025-01-20T20:19:45.891351Z",
     "iopub.status.idle": "2025-01-20T20:19:47.217222Z",
     "shell.execute_reply": "2025-01-20T20:19:47.215874Z"
    },
    "papermill": {
     "duration": 1.344843,
     "end_time": "2025-01-20T20:19:47.219376",
     "exception": false,
     "start_time": "2025-01-20T20:19:45.874533",
     "status": "completed"
    },
    "tags": []
   },
   "outputs": [
    {
     "data": {
      "text/plain": [
       "<seaborn.axisgrid.FacetGrid at 0x7c2bf6f07100>"
      ]
     },
     "execution_count": 16,
     "metadata": {},
     "output_type": "execute_result"
    },
    {
     "data": {
      "image/png": "[encoded data removed]",
      "text/plain": [
       "<Figure size 450x300 with 1 Axes>"
      ]
     },
     "metadata": {},
     "output_type": "display_data"
    }
   ],
   "source": [
    "(\n",
    "    sns.displot(data=naid_per_session, x='aid', log_scale=True, height=3, aspect=1.5)\n",
    "    .set(\n",
    "        title='Log Distribution of Count of aids per session',\n",
    "    )\n",
    ")"
   ]
  },
  {
   "cell_type": "markdown",
   "id": "d5ab59e5",
   "metadata": {
    "papermill": {
     "duration": 0.015865,
     "end_time": "2025-01-20T20:19:47.250593",
     "exception": false,
     "start_time": "2025-01-20T20:19:47.234728",
     "status": "completed"
    },
    "tags": []
   },
   "source": [
    "**Findings**\n",
    "1. The least number of products looked at by the user is 1. The most is 460.\n",
    "2. Most users look at 2 products, followed by 3, 4, 5 and 6 products. \n",
    "3. The next highest number of products viewed by the user is 1 product."
   ]
  },
  {
   "cell_type": "markdown",
   "id": "b5e6207f",
   "metadata": {
    "papermill": {
     "duration": 0.014423,
     "end_time": "2025-01-20T20:19:47.280520",
     "exception": false,
     "start_time": "2025-01-20T20:19:47.266097",
     "status": "completed"
    },
    "tags": []
   },
   "source": [
    "### Clicks per session\n",
    "\n",
    "How much does the user browse?"
   ]
  },
  {
   "cell_type": "code",
   "execution_count": 17,
   "id": "8b255720",
   "metadata": {
    "execution": {
     "iopub.execute_input": "2025-01-20T20:19:47.314059Z",
     "iopub.status.busy": "2025-01-20T20:19:47.313698Z",
     "iopub.status.idle": "2025-01-20T20:19:49.396677Z",
     "shell.execute_reply": "2025-01-20T20:19:49.395098Z"
    },
    "papermill": {
     "duration": 2.102363,
     "end_time": "2025-01-20T20:19:49.399027",
     "exception": false,
     "start_time": "2025-01-20T20:19:47.296664",
     "status": "completed"
    },
    "tags": []
   },
   "outputs": [],
   "source": [
    "nclicks_per_session = (\n",
    "    expanded_df\n",
    "    .loc[expanded_df[\"type\"]==\"clicks\"]\n",
    "    .groupby([\"session\"])\n",
    "    [\"type\"]\n",
    "    .count()\n",
    "    .reset_index()\n",
    ")"
   ]
  },
  {
   "cell_type": "code",
   "execution_count": 18,
   "id": "b3d438ca",
   "metadata": {
    "execution": {
     "iopub.execute_input": "2025-01-20T20:19:49.434008Z",
     "iopub.status.busy": "2025-01-20T20:19:49.433650Z",
     "iopub.status.idle": "2025-01-20T20:19:49.441266Z",
     "shell.execute_reply": "2025-01-20T20:19:49.440010Z"
    },
    "papermill": {
     "duration": 0.026932,
     "end_time": "2025-01-20T20:19:49.443455",
     "exception": false,
     "start_time": "2025-01-20T20:19:49.416523",
     "status": "completed"
    },
    "tags": []
   },
   "outputs": [
    {
     "data": {
      "text/plain": [
       "(2, 493)"
      ]
     },
     "execution_count": 18,
     "metadata": {},
     "output_type": "execute_result"
    }
   ],
   "source": [
    "nclicks_per_session[\"type\"].min(), nclicks_per_session[\"type\"].max()"
   ]
  },
  {
   "cell_type": "code",
   "execution_count": 19,
   "id": "bf79f8bc",
   "metadata": {
    "execution": {
     "iopub.execute_input": "2025-01-20T20:19:49.475576Z",
     "iopub.status.busy": "2025-01-20T20:19:49.475204Z",
     "iopub.status.idle": "2025-01-20T20:19:49.484744Z",
     "shell.execute_reply": "2025-01-20T20:19:49.483642Z"
    },
    "papermill": {
     "duration": 0.027345,
     "end_time": "2025-01-20T20:19:49.486393",
     "exception": false,
     "start_time": "2025-01-20T20:19:49.459048",
     "status": "completed"
    },
    "tags": []
   },
   "outputs": [
    {
     "data": {
      "text/plain": [
       "type\n",
       "2     13509\n",
       "3      9750\n",
       "4      7612\n",
       "5      6149\n",
       "6      5194\n",
       "7      4409\n",
       "8      4167\n",
       "9      3567\n",
       "10     3235\n",
       "11     2937\n",
       "12     2641\n",
       "13     2617\n",
       "14     2460\n",
       "15     2191\n",
       "16     2115\n",
       "17     1954\n",
       "18     1811\n",
       "20     1770\n",
       "19     1759\n",
       "21     1583\n",
       "Name: count, dtype: int64"
      ]
     },
     "execution_count": 19,
     "metadata": {},
     "output_type": "execute_result"
    }
   ],
   "source": [
    "nclicks_per_session[\"type\"].value_counts()[0:20]"
   ]
  },
  {
   "cell_type": "code",
   "execution_count": 20,
   "id": "3258cd4b",
   "metadata": {
    "execution": {
     "iopub.execute_input": "2025-01-20T20:19:49.518585Z",
     "iopub.status.busy": "2025-01-20T20:19:49.518026Z",
     "iopub.status.idle": "2025-01-20T20:19:50.636818Z",
     "shell.execute_reply": "2025-01-20T20:19:50.635598Z"
    },
    "papermill": {
     "duration": 1.13758,
     "end_time": "2025-01-20T20:19:50.639077",
     "exception": false,
     "start_time": "2025-01-20T20:19:49.501497",
     "status": "completed"
    },
    "tags": []
   },
   "outputs": [
    {
     "data": {
      "text/plain": [
       "<seaborn.axisgrid.FacetGrid at 0x7c2bc705a8f0>"
      ]
     },
     "execution_count": 20,
     "metadata": {},
     "output_type": "execute_result"
    },
    {
     "data": {
      "image/png": "[encoded data removed]",
      "text/plain": [
       "<Figure size 450x300 with 1 Axes>"
      ]
     },
     "metadata": {},
     "output_type": "display_data"
    }
   ],
   "source": [
    "(\n",
    "    sns.displot(data=nclicks_per_session, x='type', log_scale=True, height=3, aspect=1.5)\n",
    "    .set(\n",
    "        title='Log Distribution of Clicks per session',\n",
    "    )\n",
    ")"
   ]
  },
  {
   "cell_type": "markdown",
   "id": "c6b48a2d",
   "metadata": {
    "papermill": {
     "duration": 0.015342,
     "end_time": "2025-01-20T20:19:50.670795",
     "exception": false,
     "start_time": "2025-01-20T20:19:50.655453",
     "status": "completed"
    },
    "tags": []
   },
   "source": [
    "**Findings**:\n",
    "1. Minimum number of clicks in a session is 2, maximum is 493.\n",
    "2. Most user click at least twice.\n",
    "3. The distrubtion is very similar to that of the number of articles."
   ]
  },
  {
   "cell_type": "markdown",
   "id": "fa3bc583",
   "metadata": {
    "papermill": {
     "duration": 0.015494,
     "end_time": "2025-01-20T20:19:50.702000",
     "exception": false,
     "start_time": "2025-01-20T20:19:50.686506",
     "status": "completed"
    },
    "tags": []
   },
   "source": [
    "### Carts per session \n",
    "\n",
    "How many items are added to cart?"
   ]
  },
  {
   "cell_type": "code",
   "execution_count": 21,
   "id": "446d1f10",
   "metadata": {
    "execution": {
     "iopub.execute_input": "2025-01-20T20:19:50.737508Z",
     "iopub.status.busy": "2025-01-20T20:19:50.737060Z",
     "iopub.status.idle": "2025-01-20T20:19:51.715216Z",
     "shell.execute_reply": "2025-01-20T20:19:51.714079Z"
    },
    "papermill": {
     "duration": 0.997533,
     "end_time": "2025-01-20T20:19:51.717331",
     "exception": false,
     "start_time": "2025-01-20T20:19:50.719798",
     "status": "completed"
    },
    "tags": []
   },
   "outputs": [],
   "source": [
    "ncarts_per_session = (\n",
    "    expanded_df\n",
    "    .loc[expanded_df[\"type\"]==\"carts\"]\n",
    "    .groupby([\"session\"])\n",
    "    [\"type\"]\n",
    "    .count()\n",
    "    .reset_index()\n",
    ")"
   ]
  },
  {
   "cell_type": "code",
   "execution_count": 22,
   "id": "e024bfde",
   "metadata": {
    "execution": {
     "iopub.execute_input": "2025-01-20T20:19:51.751366Z",
     "iopub.status.busy": "2025-01-20T20:19:51.750976Z",
     "iopub.status.idle": "2025-01-20T20:19:51.760824Z",
     "shell.execute_reply": "2025-01-20T20:19:51.759588Z"
    },
    "papermill": {
     "duration": 0.028877,
     "end_time": "2025-01-20T20:19:51.762755",
     "exception": false,
     "start_time": "2025-01-20T20:19:51.733878",
     "status": "completed"
    },
    "tags": []
   },
   "outputs": [
    {
     "data": {
      "text/html": [
       "<div>\n",
       "<style scoped>\n",
       "    .dataframe tbody tr th:only-of-type {\n",
       "        vertical-align: middle;\n",
       "    }\n",
       "\n",
       "    .dataframe tbody tr th {\n",
       "        vertical-align: top;\n",
       "    }\n",
       "\n",
       "    .dataframe thead th {\n",
       "        text-align: right;\n",
       "    }\n",
       "</style>\n",
       "<table border=\"1\" class=\"dataframe\">\n",
       "  <thead>\n",
       "    <tr style=\"text-align: right;\">\n",
       "      <th></th>\n",
       "      <th>session</th>\n",
       "      <th>type</th>\n",
       "    </tr>\n",
       "  </thead>\n",
       "  <tbody>\n",
       "    <tr>\n",
       "      <th>0</th>\n",
       "      <td>0</td>\n",
       "      <td>17</td>\n",
       "    </tr>\n",
       "    <tr>\n",
       "      <th>1</th>\n",
       "      <td>1</td>\n",
       "      <td>8</td>\n",
       "    </tr>\n",
       "    <tr>\n",
       "      <th>2</th>\n",
       "      <td>2</td>\n",
       "      <td>1</td>\n",
       "    </tr>\n",
       "  </tbody>\n",
       "</table>\n",
       "</div>"
      ],
      "text/plain": [
       "   session  type\n",
       "0        0    17\n",
       "1        1     8\n",
       "2        2     1"
      ]
     },
     "execution_count": 22,
     "metadata": {},
     "output_type": "execute_result"
    }
   ],
   "source": [
    "ncarts_per_session.head(3)"
   ]
  },
  {
   "cell_type": "code",
   "execution_count": 23,
   "id": "93a1ab17",
   "metadata": {
    "execution": {
     "iopub.execute_input": "2025-01-20T20:19:51.800943Z",
     "iopub.status.busy": "2025-01-20T20:19:51.800606Z",
     "iopub.status.idle": "2025-01-20T20:19:51.809556Z",
     "shell.execute_reply": "2025-01-20T20:19:51.807902Z"
    },
    "papermill": {
     "duration": 0.031377,
     "end_time": "2025-01-20T20:19:51.811865",
     "exception": false,
     "start_time": "2025-01-20T20:19:51.780488",
     "status": "completed"
    },
    "tags": []
   },
   "outputs": [
    {
     "data": {
      "text/plain": [
       "(1, 399)"
      ]
     },
     "execution_count": 23,
     "metadata": {},
     "output_type": "execute_result"
    }
   ],
   "source": [
    "ncarts_per_session[\"type\"].min(), ncarts_per_session[\"type\"].max()"
   ]
  },
  {
   "cell_type": "code",
   "execution_count": 24,
   "id": "7d8d79bb",
   "metadata": {
    "execution": {
     "iopub.execute_input": "2025-01-20T20:19:51.849311Z",
     "iopub.status.busy": "2025-01-20T20:19:51.848769Z",
     "iopub.status.idle": "2025-01-20T20:19:51.859740Z",
     "shell.execute_reply": "2025-01-20T20:19:51.858572Z"
    },
    "papermill": {
     "duration": 0.032344,
     "end_time": "2025-01-20T20:19:51.861667",
     "exception": false,
     "start_time": "2025-01-20T20:19:51.829323",
     "status": "completed"
    },
    "tags": []
   },
   "outputs": [
    {
     "data": {
      "text/plain": [
       "type\n",
       "1     15668\n",
       "2      9568\n",
       "3      6759\n",
       "4      5195\n",
       "5      4167\n",
       "6      3507\n",
       "7      2861\n",
       "8      2429\n",
       "9      2110\n",
       "10     1878\n",
       "11     1579\n",
       "12     1449\n",
       "13     1216\n",
       "14     1125\n",
       "15      997\n",
       "16      873\n",
       "17      768\n",
       "18      744\n",
       "19      618\n",
       "20      580\n",
       "Name: count, dtype: int64"
      ]
     },
     "execution_count": 24,
     "metadata": {},
     "output_type": "execute_result"
    }
   ],
   "source": [
    "ncarts_per_session[\"type\"].value_counts()[0:20]"
   ]
  },
  {
   "cell_type": "code",
   "execution_count": 25,
   "id": "061d6f07",
   "metadata": {
    "execution": {
     "iopub.execute_input": "2025-01-20T20:19:51.898362Z",
     "iopub.status.busy": "2025-01-20T20:19:51.897850Z",
     "iopub.status.idle": "2025-01-20T20:19:51.913018Z",
     "shell.execute_reply": "2025-01-20T20:19:51.910965Z"
    },
    "papermill": {
     "duration": 0.03741,
     "end_time": "2025-01-20T20:19:51.915809",
     "exception": false,
     "start_time": "2025-01-20T20:19:51.878399",
     "status": "completed"
    },
    "tags": []
   },
   "outputs": [
    {
     "data": {
      "text/plain": [
       "0.956216377764495"
      ]
     },
     "execution_count": 25,
     "metadata": {},
     "output_type": "execute_result"
    }
   ],
   "source": [
    "(\n",
    "    ncarts_per_session[\"type\"].value_counts()[0:3].sum()\n",
    "    /\n",
    "    ncarts_per_session[\"type\"].value_counts()[4:].sum()\n",
    ")"
   ]
  },
  {
   "cell_type": "code",
   "execution_count": 26,
   "id": "ee21e62d",
   "metadata": {
    "execution": {
     "iopub.execute_input": "2025-01-20T20:19:51.957093Z",
     "iopub.status.busy": "2025-01-20T20:19:51.956723Z",
     "iopub.status.idle": "2025-01-20T20:19:53.161559Z",
     "shell.execute_reply": "2025-01-20T20:19:53.160106Z"
    },
    "papermill": {
     "duration": 1.224682,
     "end_time": "2025-01-20T20:19:53.163476",
     "exception": false,
     "start_time": "2025-01-20T20:19:51.938794",
     "status": "completed"
    },
    "tags": []
   },
   "outputs": [
    {
     "data": {
      "text/plain": [
       "<seaborn.axisgrid.FacetGrid at 0x7c2b4e922fb0>"
      ]
     },
     "execution_count": 26,
     "metadata": {},
     "output_type": "execute_result"
    },
    {
     "data": {
      "image/png": "[encoded data removed]",
      "text/plain": [
       "<Figure size 450x300 with 1 Axes>"
      ]
     },
     "metadata": {},
     "output_type": "display_data"
    }
   ],
   "source": [
    "(\n",
    "    sns.displot(data=ncarts_per_session, x='type', log_scale=True, height=3, aspect=1.5)\n",
    "    .set(\n",
    "        title='Log Distribution of Carts per session',\n",
    "    )\n",
    ")"
   ]
  },
  {
   "cell_type": "markdown",
   "id": "cd947e72",
   "metadata": {
    "papermill": {
     "duration": 0.01668,
     "end_time": "2025-01-20T20:19:53.196901",
     "exception": false,
     "start_time": "2025-01-20T20:19:53.180221",
     "status": "completed"
    },
    "tags": []
   },
   "source": [
    "**Findings**:\n",
    "1. Most users add 1 article to card, followed by 2 and 3 articles.\n",
    "2. The max number of items added to card are 399.\n",
    "3. The number of users adding 1 and 2 or 3 articles to card is about the same as the users adding 4 or more articles to cart."
   ]
  },
  {
   "cell_type": "markdown",
   "id": "324ce0f6",
   "metadata": {
    "papermill": {
     "duration": 0.016754,
     "end_time": "2025-01-20T20:19:53.230969",
     "exception": false,
     "start_time": "2025-01-20T20:19:53.214215",
     "status": "completed"
    },
    "tags": []
   },
   "source": [
    "# Understanding Articles\n",
    "\n",
    "`clicks` per `aid` (i.e. most to least clicked articles), `carts` per `aid` (which items are added to cart the most), `orders` per `aid` (are there specific articles which trigger the ordering), co-occurence of `aid` (how likely are two `aid` to co-occur in a session), transition matrix of `aid` (which article will be clicked on next)"
   ]
  },
  {
   "cell_type": "markdown",
   "id": "e6e5082f",
   "metadata": {
    "papermill": {
     "duration": 0.016213,
     "end_time": "2025-01-20T20:19:53.263797",
     "exception": false,
     "start_time": "2025-01-20T20:19:53.247584",
     "status": "completed"
    },
    "tags": []
   },
   "source": [
    "### Clicks, Carts and Orders per `aid`\n",
    "\n",
    "- Most to least clicked articles\n",
    "- Which items are added to the cart most\n",
    "- Are there specific articles which trigger the order"
   ]
  },
  {
   "cell_type": "code",
   "execution_count": 27,
   "id": "4c6a1c1a",
   "metadata": {
    "execution": {
     "iopub.execute_input": "2025-01-20T20:19:53.298604Z",
     "iopub.status.busy": "2025-01-20T20:19:53.298116Z",
     "iopub.status.idle": "2025-01-20T20:19:55.973750Z",
     "shell.execute_reply": "2025-01-20T20:19:55.972455Z"
    },
    "papermill": {
     "duration": 2.695282,
     "end_time": "2025-01-20T20:19:55.975708",
     "exception": false,
     "start_time": "2025-01-20T20:19:53.280426",
     "status": "completed"
    },
    "tags": []
   },
   "outputs": [],
   "source": [
    "n_per_aid = (\n",
    "    expanded_df\n",
    "    .groupby([\"aid\",\"type\"])\n",
    "    [\"session\"]\n",
    "    .count()\n",
    "    .reset_index()\n",
    "    .rename(columns={\"session\":\"count\"})\n",
    ")"
   ]
  },
  {
   "cell_type": "code",
   "execution_count": 28,
   "id": "4d96f4a0",
   "metadata": {
    "execution": {
     "iopub.execute_input": "2025-01-20T20:19:56.010796Z",
     "iopub.status.busy": "2025-01-20T20:19:56.010439Z",
     "iopub.status.idle": "2025-01-20T20:19:56.606716Z",
     "shell.execute_reply": "2025-01-20T20:19:56.605116Z"
    },
    "papermill": {
     "duration": 0.615859,
     "end_time": "2025-01-20T20:19:56.608680",
     "exception": false,
     "start_time": "2025-01-20T20:19:55.992821",
     "status": "completed"
    },
    "tags": []
   },
   "outputs": [
    {
     "name": "stdout",
     "output_type": "stream",
     "text": [
      "% of clicked articles with more than 5 clicks is :25.64%\n",
      "% of articles added to cart with more than 5 add to cart is :8.41%\n",
      "% of ordered articles with more than 3 orders is :9.02%\n"
     ]
    }
   ],
   "source": [
    "x = n_per_aid.loc[(n_per_aid[\"type\"]==\"clicks\") & (n_per_aid[\"count\"]>5), 'aid'].nunique()\n",
    "y = n_per_aid.loc[(n_per_aid[\"type\"]==\"clicks\"), 'aid'].nunique()\n",
    "print(f\"% of clicked articles with more than 5 clicks is :{x*100/y:.2f}%\")\n",
    "\n",
    "x = n_per_aid.loc[(n_per_aid[\"type\"]==\"carts\") & (n_per_aid[\"count\"]>5), 'aid'].nunique()\n",
    "y = n_per_aid.loc[(n_per_aid[\"type\"]==\"carts\"), 'aid'].nunique()\n",
    "print(f\"% of articles added to cart with more than 5 add to cart is :{x*100/y:.2f}%\")\n",
    "\n",
    "x = n_per_aid.loc[(n_per_aid[\"type\"]==\"orders\") & (n_per_aid[\"count\"]>3), 'aid'].nunique()\n",
    "y = n_per_aid.loc[(n_per_aid[\"type\"]==\"orders\"), 'aid'].nunique()\n",
    "print(f\"% of ordered articles with more than 3 orders is :{x*100/y:.2f}%\")"
   ]
  },
  {
   "cell_type": "code",
   "execution_count": 29,
   "id": "39ff0f7e",
   "metadata": {
    "execution": {
     "iopub.execute_input": "2025-01-20T20:19:56.645064Z",
     "iopub.status.busy": "2025-01-20T20:19:56.644685Z",
     "iopub.status.idle": "2025-01-20T20:19:56.965041Z",
     "shell.execute_reply": "2025-01-20T20:19:56.963759Z"
    },
    "papermill": {
     "duration": 0.340547,
     "end_time": "2025-01-20T20:19:56.966925",
     "exception": false,
     "start_time": "2025-01-20T20:19:56.626378",
     "status": "completed"
    },
    "tags": []
   },
   "outputs": [
    {
     "name": "stdout",
     "output_type": "stream",
     "text": [
      "Conversion rate from clicks to carts is: 25.71%\n",
      "Conversion rate from carts to orders is: 38.62%\n",
      "Conversion rate from clicks to orders is: 9.93%\n"
     ]
    }
   ],
   "source": [
    "x = n_per_aid.loc[(n_per_aid[\"type\"]==\"clicks\"), 'aid'].nunique()\n",
    "y = n_per_aid.loc[(n_per_aid[\"type\"]==\"carts\"), 'aid'].nunique()\n",
    "z = n_per_aid.loc[(n_per_aid[\"type\"]==\"orders\"), 'aid'].nunique()\n",
    "\n",
    "print(f\"Conversion rate from clicks to carts is: {y*100/x:.2f}%\")\n",
    "print(f\"Conversion rate from carts to orders is: {z*100/y:.2f}%\")\n",
    "print(f\"Conversion rate from clicks to orders is: {z*100/x:.2f}%\")"
   ]
  },
  {
   "cell_type": "code",
   "execution_count": 30,
   "id": "3534cda2",
   "metadata": {
    "execution": {
     "iopub.execute_input": "2025-01-20T20:19:57.002113Z",
     "iopub.status.busy": "2025-01-20T20:19:57.001754Z",
     "iopub.status.idle": "2025-01-20T20:20:00.550094Z",
     "shell.execute_reply": "2025-01-20T20:20:00.548693Z"
    },
    "papermill": {
     "duration": 3.568292,
     "end_time": "2025-01-20T20:20:00.552080",
     "exception": false,
     "start_time": "2025-01-20T20:19:56.983788",
     "status": "completed"
    },
    "tags": []
   },
   "outputs": [
    {
     "data": {
      "text/plain": [
       "<seaborn.axisgrid.FacetGrid at 0x7c2bb8d570a0>"
      ]
     },
     "execution_count": 30,
     "metadata": {},
     "output_type": "execute_result"
    },
    {
     "data": {
      "image/png": "[encoded data removed]",
      "text/plain": [
       "<Figure size 547.375x300 with 1 Axes>"
      ]
     },
     "metadata": {},
     "output_type": "display_data"
    }
   ],
   "source": [
    "(\n",
    "    sns.displot(\n",
    "        data=n_per_aid.loc[n_per_aid[\"type\"]==\"clicks\"], \n",
    "        x='count',\n",
    "        hue='type',\n",
    "        log_scale=True,\n",
    "        multiple='dodge',\n",
    "        height=3, \n",
    "        aspect=1.5,\n",
    "    )\n",
    "    .set(\n",
    "        title='Log Distribution of Clicks per aid',\n",
    "    )\n",
    ")"
   ]
  },
  {
   "cell_type": "code",
   "execution_count": 31,
   "id": "ef3557e6",
   "metadata": {
    "execution": {
     "iopub.execute_input": "2025-01-20T20:20:00.592956Z",
     "iopub.status.busy": "2025-01-20T20:20:00.592606Z",
     "iopub.status.idle": "2025-01-20T20:20:03.003676Z",
     "shell.execute_reply": "2025-01-20T20:20:03.002499Z"
    },
    "papermill": {
     "duration": 2.434906,
     "end_time": "2025-01-20T20:20:03.005428",
     "exception": false,
     "start_time": "2025-01-20T20:20:00.570522",
     "status": "completed"
    },
    "tags": []
   },
   "outputs": [
    {
     "data": {
      "text/plain": [
       "<seaborn.axisgrid.FacetGrid at 0x7c2b4eabf9a0>"
      ]
     },
     "execution_count": 31,
     "metadata": {},
     "output_type": "execute_result"
    },
    {
     "data": {
      "image/png": "[encoded data removed]",
      "text/plain": [
       "<Figure size 543.25x300 with 1 Axes>"
      ]
     },
     "metadata": {},
     "output_type": "display_data"
    }
   ],
   "source": [
    "(\n",
    "    sns.displot(\n",
    "        data=n_per_aid.loc[n_per_aid[\"type\"]==\"carts\"], \n",
    "        x='count',\n",
    "        hue='type',\n",
    "        log_scale=True,\n",
    "        multiple='dodge',\n",
    "        height=3, \n",
    "        aspect=1.5,\n",
    "    )\n",
    "    .set(\n",
    "        title='Log Distribution of Carts per aid',\n",
    "    )\n",
    ")"
   ]
  },
  {
   "cell_type": "code",
   "execution_count": 32,
   "id": "7855a9f2",
   "metadata": {
    "execution": {
     "iopub.execute_input": "2025-01-20T20:20:03.044489Z",
     "iopub.status.busy": "2025-01-20T20:20:03.043987Z",
     "iopub.status.idle": "2025-01-20T20:20:04.968209Z",
     "shell.execute_reply": "2025-01-20T20:20:04.967078Z"
    },
    "papermill": {
     "duration": 1.945475,
     "end_time": "2025-01-20T20:20:04.969829",
     "exception": false,
     "start_time": "2025-01-20T20:20:03.024354",
     "status": "completed"
    },
    "tags": []
   },
   "outputs": [
    {
     "data": {
      "text/plain": [
       "<seaborn.axisgrid.FacetGrid at 0x7c2b4ea77c40>"
      ]
     },
     "execution_count": 32,
     "metadata": {},
     "output_type": "execute_result"
    },
    {
     "data": {
      "image/png": "[encoded data removed]",
      "text/plain": [
       "<Figure size 554.125x300 with 1 Axes>"
      ]
     },
     "metadata": {},
     "output_type": "display_data"
    }
   ],
   "source": [
    "(\n",
    "    sns.displot(\n",
    "        data=n_per_aid.loc[n_per_aid[\"type\"]==\"orders\"], \n",
    "        x='count',\n",
    "        hue='type',\n",
    "        log_scale=True,\n",
    "        multiple='dodge',\n",
    "        height=3, \n",
    "        aspect=1.5,\n",
    "    )\n",
    "    .set(\n",
    "        title='Log Distribution of Orders per aid',\n",
    "    )\n",
    ")"
   ]
  },
  {
   "cell_type": "markdown",
   "id": "7a4e78e7",
   "metadata": {
    "papermill": {
     "duration": 0.020163,
     "end_time": "2025-01-20T20:20:05.008972",
     "exception": false,
     "start_time": "2025-01-20T20:20:04.988809",
     "status": "completed"
    },
    "tags": []
   },
   "source": [
    "**Findings**:\n",
    "1. Clicks per `aid`: About 75% of the articles are clicked on 1 to 5 times. This means that most items are clicked on pretty uniformly.\n",
    "2. Carts per `aid`, and orders per `aid`: About 90% of articles that are added to card or ordered are done so 1 to 3 times. This is also a pretty uniform distribution.\n",
    "3. Conversion rate: The percentage of items that are clicked on and added to cart is about 25%. The percentage of items clicked on and ordered is about 10%. The conversion rate from carts to orders is about 40%."
   ]
  },
  {
   "cell_type": "markdown",
   "id": "ceb169ac",
   "metadata": {
    "papermill": {
     "duration": 0.018718,
     "end_time": "2025-01-20T20:20:05.046697",
     "exception": false,
     "start_time": "2025-01-20T20:20:05.027979",
     "status": "completed"
    },
    "tags": []
   },
   "source": [
    "### Co-occurence Matrix\n",
    "\n",
    "Aka Co-Visitation Matrix\n",
    "\n",
    "Approach:\n",
    "1. `sample_train_df` has two columns,`session` and `events`. `session` contains the session ID, and `events` contains a list of dictionaries. One of the key in the dictionary is the article ID.\n",
    "2. We will concatenate all the article IDs into a string for each session.\n",
    "3. Then we will use the CountVectorizer from sklearn to obtain a sparse matrix containing the counts of each article ID in each document. Let's call this matrix X.\n",
    "4. The dot product of X transpose and X gives us the **article-article co-occurrence matrix**.  "
   ]
  },
  {
   "cell_type": "code",
   "execution_count": 33,
   "id": "b6c23c41",
   "metadata": {
    "execution": {
     "iopub.execute_input": "2025-01-20T20:20:05.087924Z",
     "iopub.status.busy": "2025-01-20T20:20:05.087545Z",
     "iopub.status.idle": "2025-01-20T20:20:05.134845Z",
     "shell.execute_reply": "2025-01-20T20:20:05.133719Z"
    },
    "papermill": {
     "duration": 0.070186,
     "end_time": "2025-01-20T20:20:05.136639",
     "exception": false,
     "start_time": "2025-01-20T20:20:05.066453",
     "status": "completed"
    },
    "tags": []
   },
   "outputs": [
    {
     "data": {
      "text/html": [
       "<div>\n",
       "<style scoped>\n",
       "    .dataframe tbody tr th:only-of-type {\n",
       "        vertical-align: middle;\n",
       "    }\n",
       "\n",
       "    .dataframe tbody tr th {\n",
       "        vertical-align: top;\n",
       "    }\n",
       "\n",
       "    .dataframe thead th {\n",
       "        text-align: right;\n",
       "    }\n",
       "</style>\n",
       "<table border=\"1\" class=\"dataframe\">\n",
       "  <thead>\n",
       "    <tr style=\"text-align: right;\">\n",
       "      <th></th>\n",
       "      <th>session</th>\n",
       "      <th>events</th>\n",
       "    </tr>\n",
       "  </thead>\n",
       "  <tbody>\n",
       "    <tr>\n",
       "      <th>0</th>\n",
       "      <td>0</td>\n",
       "      <td>[{'aid': 1517085, 'ts': 1659304800025, 'type':...</td>\n",
       "    </tr>\n",
       "    <tr>\n",
       "      <th>1</th>\n",
       "      <td>1</td>\n",
       "      <td>[{'aid': 424964, 'ts': 1659304800025, 'type': ...</td>\n",
       "    </tr>\n",
       "    <tr>\n",
       "      <th>2</th>\n",
       "      <td>2</td>\n",
       "      <td>[{'aid': 763743, 'ts': 1659304800038, 'type': ...</td>\n",
       "    </tr>\n",
       "  </tbody>\n",
       "</table>\n",
       "</div>"
      ],
      "text/plain": [
       "   session                                             events\n",
       "0        0  [{'aid': 1517085, 'ts': 1659304800025, 'type':...\n",
       "1        1  [{'aid': 424964, 'ts': 1659304800025, 'type': ...\n",
       "2        2  [{'aid': 763743, 'ts': 1659304800038, 'type': ..."
      ]
     },
     "execution_count": 33,
     "metadata": {},
     "output_type": "execute_result"
    }
   ],
   "source": [
    "sample_train_df.head(3)"
   ]
  },
  {
   "cell_type": "code",
   "execution_count": 34,
   "id": "4a24c0fd",
   "metadata": {
    "execution": {
     "iopub.execute_input": "2025-01-20T20:20:05.183759Z",
     "iopub.status.busy": "2025-01-20T20:20:05.183396Z",
     "iopub.status.idle": "2025-01-20T20:20:05.190601Z",
     "shell.execute_reply": "2025-01-20T20:20:05.189357Z"
    },
    "papermill": {
     "duration": 0.036855,
     "end_time": "2025-01-20T20:20:05.192388",
     "exception": false,
     "start_time": "2025-01-20T20:20:05.155533",
     "status": "completed"
    },
    "tags": []
   },
   "outputs": [
    {
     "data": {
      "text/plain": [
       "'424964 1492293 1492293 910862 910862 1491172 1491172 424964 1515526 440486 109488 1507622 1734061 854637 854637 718983 215311 215311 718983 711125 711125 50049 105393 105393 959544 1734061 1842593 1464360 207905 1628317 376932 497868'"
      ]
     },
     "execution_count": 34,
     "metadata": {},
     "output_type": "execute_result"
    }
   ],
   "source": [
    "# Example\n",
    "\" \".join([f\"{y['aid']}\" for y in sample_train_df.loc[1,'events']])"
   ]
  },
  {
   "cell_type": "code",
   "execution_count": 35,
   "id": "7dd6501a",
   "metadata": {
    "execution": {
     "iopub.execute_input": "2025-01-20T20:20:05.233430Z",
     "iopub.status.busy": "2025-01-20T20:20:05.233012Z",
     "iopub.status.idle": "2025-01-20T20:20:06.904424Z",
     "shell.execute_reply": "2025-01-20T20:20:06.903046Z"
    },
    "papermill": {
     "duration": 1.694543,
     "end_time": "2025-01-20T20:20:06.906290",
     "exception": false,
     "start_time": "2025-01-20T20:20:05.211747",
     "status": "completed"
    },
    "tags": []
   },
   "outputs": [
    {
     "data": {
      "text/html": [
       "<div>\n",
       "<style scoped>\n",
       "    .dataframe tbody tr th:only-of-type {\n",
       "        vertical-align: middle;\n",
       "    }\n",
       "\n",
       "    .dataframe tbody tr th {\n",
       "        vertical-align: top;\n",
       "    }\n",
       "\n",
       "    .dataframe thead th {\n",
       "        text-align: right;\n",
       "    }\n",
       "</style>\n",
       "<table border=\"1\" class=\"dataframe\">\n",
       "  <thead>\n",
       "    <tr style=\"text-align: right;\">\n",
       "      <th></th>\n",
       "      <th>session</th>\n",
       "      <th>article_string</th>\n",
       "    </tr>\n",
       "  </thead>\n",
       "  <tbody>\n",
       "    <tr>\n",
       "      <th>0</th>\n",
       "      <td>0</td>\n",
       "      <td>1517085 1563459 1309446 16246 1781822 1152674 ...</td>\n",
       "    </tr>\n",
       "    <tr>\n",
       "      <th>1</th>\n",
       "      <td>1</td>\n",
       "      <td>424964 1492293 1492293 910862 910862 1491172 1...</td>\n",
       "    </tr>\n",
       "    <tr>\n",
       "      <th>2</th>\n",
       "      <td>2</td>\n",
       "      <td>763743 137492 504789 137492 795863 378348 7958...</td>\n",
       "    </tr>\n",
       "  </tbody>\n",
       "</table>\n",
       "</div>"
      ],
      "text/plain": [
       "   session                                     article_string\n",
       "0        0  1517085 1563459 1309446 16246 1781822 1152674 ...\n",
       "1        1  424964 1492293 1492293 910862 910862 1491172 1...\n",
       "2        2  763743 137492 504789 137492 795863 378348 7958..."
      ]
     },
     "execution_count": 35,
     "metadata": {},
     "output_type": "execute_result"
    }
   ],
   "source": [
    "article_string_df = pd.DataFrame(\n",
    "    {\n",
    "        'session': sample_train_df['session'], \n",
    "        'article_string': sample_train_df['events'].transform(lambda x: \" \".join([f\"{y['aid']}\" for y in x]))\n",
    "    }\n",
    ")\n",
    "\n",
    "article_string_df.head(3)"
   ]
  },
  {
   "cell_type": "code",
   "execution_count": 36,
   "id": "c6bd58bc",
   "metadata": {
    "execution": {
     "iopub.execute_input": "2025-01-20T20:20:06.948464Z",
     "iopub.status.busy": "2025-01-20T20:20:06.948010Z",
     "iopub.status.idle": "2025-01-20T20:20:08.456235Z",
     "shell.execute_reply": "2025-01-20T20:20:08.454754Z"
    },
    "papermill": {
     "duration": 1.532228,
     "end_time": "2025-01-20T20:20:08.458519",
     "exception": false,
     "start_time": "2025-01-20T20:20:06.926291",
     "status": "completed"
    },
    "tags": []
   },
   "outputs": [],
   "source": [
    "aid_dict = (\n",
    "    expanded_df[['aid']]\n",
    "    .drop_duplicates()\n",
    "    .astype(str)\n",
    "    .reset_index(drop=True)\n",
    "    .to_dict()\n",
    "    ['aid']\n",
    ")"
   ]
  },
  {
   "cell_type": "code",
   "execution_count": 37,
   "id": "a547f894",
   "metadata": {
    "execution": {
     "iopub.execute_input": "2025-01-20T20:20:08.502961Z",
     "iopub.status.busy": "2025-01-20T20:20:08.502564Z",
     "iopub.status.idle": "2025-01-20T20:20:18.488242Z",
     "shell.execute_reply": "2025-01-20T20:20:18.486382Z"
    },
    "papermill": {
     "duration": 10.010647,
     "end_time": "2025-01-20T20:20:18.490656",
     "exception": false,
     "start_time": "2025-01-20T20:20:08.480009",
     "status": "completed"
    },
    "tags": []
   },
   "outputs": [
    {
     "data": {
      "text/plain": [
       "<150000x830140 sparse matrix of type '<class 'numpy.int64'>'\n",
       "\twith 4515797 stored elements in Compressed Sparse Row format>"
      ]
     },
     "execution_count": 37,
     "metadata": {},
     "output_type": "execute_result"
    }
   ],
   "source": [
    "# Create the vocabulary dictionary\n",
    "vocabulary = {v: k for k, v in aid_dict.items()}\n",
    "\n",
    "vectorizer = CountVectorizer(vocabulary=vocabulary)\n",
    "\n",
    "X = vectorizer.fit_transform(article_string_df['article_string'])\n",
    "X"
   ]
  },
  {
   "cell_type": "code",
   "execution_count": 38,
   "id": "bcbc2971",
   "metadata": {
    "execution": {
     "iopub.execute_input": "2025-01-20T20:20:18.532009Z",
     "iopub.status.busy": "2025-01-20T20:20:18.531595Z",
     "iopub.status.idle": "2025-01-20T20:20:19.290738Z",
     "shell.execute_reply": "2025-01-20T20:20:19.289023Z"
    },
    "papermill": {
     "duration": 0.781917,
     "end_time": "2025-01-20T20:20:19.293074",
     "exception": false,
     "start_time": "2025-01-20T20:20:18.511157",
     "status": "completed"
    },
    "tags": []
   },
   "outputs": [
    {
     "name": "stdout",
     "output_type": "stream",
     "text": [
      "(830140,)\n"
     ]
    },
    {
     "data": {
      "text/plain": [
       "array(['1517085', '1563459', '1309446', ..., '891341', '1411609',\n",
       "       '1154833'], dtype=object)"
      ]
     },
     "execution_count": 38,
     "metadata": {},
     "output_type": "execute_result"
    }
   ],
   "source": [
    "print(vectorizer.get_feature_names_out().shape)\n",
    "vectorizer.get_feature_names_out()"
   ]
  },
  {
   "cell_type": "code",
   "execution_count": 39,
   "id": "8dfd867b",
   "metadata": {
    "execution": {
     "iopub.execute_input": "2025-01-20T20:20:19.337834Z",
     "iopub.status.busy": "2025-01-20T20:20:19.337228Z",
     "iopub.status.idle": "2025-01-20T20:20:33.967302Z",
     "shell.execute_reply": "2025-01-20T20:20:33.966293Z"
    },
    "papermill": {
     "duration": 14.654211,
     "end_time": "2025-01-20T20:20:33.969098",
     "exception": false,
     "start_time": "2025-01-20T20:20:19.314887",
     "status": "completed"
    },
    "tags": []
   },
   "outputs": [],
   "source": [
    "X[X > 0] = 1 # to avoid spurious co-occurences. See Reference #4.\n",
    "co_matrix = (X.T * X)\n",
    "co_matrix.setdiag(0) # diagonals don't hold anything meaningful related to co-occurence"
   ]
  },
  {
   "cell_type": "code",
   "execution_count": 40,
   "id": "539763cd",
   "metadata": {
    "execution": {
     "iopub.execute_input": "2025-01-20T20:20:34.009405Z",
     "iopub.status.busy": "2025-01-20T20:20:34.008965Z",
     "iopub.status.idle": "2025-01-20T20:20:34.015527Z",
     "shell.execute_reply": "2025-01-20T20:20:34.014289Z"
    },
    "papermill": {
     "duration": 0.028787,
     "end_time": "2025-01-20T20:20:34.017252",
     "exception": false,
     "start_time": "2025-01-20T20:20:33.988465",
     "status": "completed"
    },
    "tags": []
   },
   "outputs": [
    {
     "data": {
      "text/plain": [
       "<830140x830140 sparse matrix of type '<class 'numpy.int64'>'\n",
       "\twith 361631310 stored elements in Compressed Sparse Column format>"
      ]
     },
     "execution_count": 40,
     "metadata": {},
     "output_type": "execute_result"
    }
   ],
   "source": [
    "co_matrix"
   ]
  },
  {
   "cell_type": "code",
   "execution_count": 41,
   "id": "6d7e8e27",
   "metadata": {
    "execution": {
     "iopub.execute_input": "2025-01-20T20:20:34.058039Z",
     "iopub.status.busy": "2025-01-20T20:20:34.057682Z",
     "iopub.status.idle": "2025-01-20T20:20:34.063680Z",
     "shell.execute_reply": "2025-01-20T20:20:34.062486Z"
    },
    "papermill": {
     "duration": 0.028292,
     "end_time": "2025-01-20T20:20:34.065464",
     "exception": false,
     "start_time": "2025-01-20T20:20:34.037172",
     "status": "completed"
    },
    "tags": []
   },
   "outputs": [
    {
     "data": {
      "text/plain": [
       "((830140, 830140), 361631310)"
      ]
     },
     "execution_count": 41,
     "metadata": {},
     "output_type": "execute_result"
    }
   ],
   "source": [
    "co_matrix.shape, co_matrix.size"
   ]
  },
  {
   "cell_type": "code",
   "execution_count": 42,
   "id": "15a09e78",
   "metadata": {
    "execution": {
     "iopub.execute_input": "2025-01-20T20:20:34.106011Z",
     "iopub.status.busy": "2025-01-20T20:20:34.105652Z",
     "iopub.status.idle": "2025-01-20T20:20:41.978827Z",
     "shell.execute_reply": "2025-01-20T20:20:41.977355Z"
    },
    "papermill": {
     "duration": 7.897342,
     "end_time": "2025-01-20T20:20:41.982350",
     "exception": false,
     "start_time": "2025-01-20T20:20:34.085008",
     "status": "completed"
    },
    "tags": []
   },
   "outputs": [],
   "source": [
    "# Keeping only the upper triangle since co-occurence matrices are symmetrical\n",
    "upper = triu(co_matrix)"
   ]
  },
  {
   "cell_type": "code",
   "execution_count": 43,
   "id": "c0ef279f",
   "metadata": {
    "execution": {
     "iopub.execute_input": "2025-01-20T20:20:42.029250Z",
     "iopub.status.busy": "2025-01-20T20:20:42.028742Z",
     "iopub.status.idle": "2025-01-20T20:20:42.033610Z",
     "shell.execute_reply": "2025-01-20T20:20:42.032459Z"
    },
    "papermill": {
     "duration": 0.029728,
     "end_time": "2025-01-20T20:20:42.035475",
     "exception": false,
     "start_time": "2025-01-20T20:20:42.005747",
     "status": "completed"
    },
    "tags": []
   },
   "outputs": [],
   "source": [
    "del co_matrix"
   ]
  },
  {
   "cell_type": "code",
   "execution_count": 44,
   "id": "fb07c611",
   "metadata": {
    "execution": {
     "iopub.execute_input": "2025-01-20T20:20:42.167640Z",
     "iopub.status.busy": "2025-01-20T20:20:42.167276Z",
     "iopub.status.idle": "2025-01-20T20:21:30.283762Z",
     "shell.execute_reply": "2025-01-20T20:21:30.282063Z"
    },
    "papermill": {
     "duration": 48.225614,
     "end_time": "2025-01-20T20:21:30.286154",
     "exception": false,
     "start_time": "2025-01-20T20:20:42.060540",
     "status": "completed"
    },
    "tags": []
   },
   "outputs": [
    {
     "name": "stdout",
     "output_type": "stream",
     "text": [
      "% of non-zero co-occurence:99.839476%\n",
      "Total non-zero values: 181,230,725\n",
      "% sparse:99.973702%\n",
      "Maximum co-occurence:677\n",
      "Total co-occurence:200,239,317\n",
      "Average co-occurence for non-zero values:1.104886\n"
     ]
    }
   ],
   "source": [
    "x = upper.count_nonzero()\n",
    "y = upper.size\n",
    "print(f\"% of non-zero co-occurence:{x/y:%}\")\n",
    "print(f\"Total non-zero values: {upper.size:,}\")\n",
    "print(f\"% sparse:{1 - upper.size/(upper.shape[0]*upper.shape[1]):%}\")\n",
    "print(f\"Maximum co-occurence:{upper.max()}\")\n",
    "print(f\"Total co-occurence:{upper.sum():,}\")\n",
    "print(f\"Average co-occurence for non-zero values:{upper.sum()/upper.size:2f}\")"
   ]
  },
  {
   "cell_type": "code",
   "execution_count": 45,
   "id": "424d5307",
   "metadata": {
    "execution": {
     "iopub.execute_input": "2025-01-20T20:21:30.329282Z",
     "iopub.status.busy": "2025-01-20T20:21:30.328806Z",
     "iopub.status.idle": "2025-01-20T20:21:31.872439Z",
     "shell.execute_reply": "2025-01-20T20:21:31.871210Z"
    },
    "papermill": {
     "duration": 1.568026,
     "end_time": "2025-01-20T20:21:31.874354",
     "exception": false,
     "start_time": "2025-01-20T20:21:30.306328",
     "status": "completed"
    },
    "tags": []
   },
   "outputs": [],
   "source": [
    "upper.eliminate_zeros()"
   ]
  },
  {
   "cell_type": "code",
   "execution_count": 46,
   "id": "1156ac67",
   "metadata": {
    "execution": {
     "iopub.execute_input": "2025-01-20T20:21:31.915402Z",
     "iopub.status.busy": "2025-01-20T20:21:31.915000Z",
     "iopub.status.idle": "2025-01-20T20:21:31.919391Z",
     "shell.execute_reply": "2025-01-20T20:21:31.918383Z"
    },
    "papermill": {
     "duration": 0.026767,
     "end_time": "2025-01-20T20:21:31.921264",
     "exception": false,
     "start_time": "2025-01-20T20:21:31.894497",
     "status": "completed"
    },
    "tags": []
   },
   "outputs": [],
   "source": [
    "values = upper.data"
   ]
  },
  {
   "cell_type": "code",
   "execution_count": 47,
   "id": "e005bb2d",
   "metadata": {
    "execution": {
     "iopub.execute_input": "2025-01-20T20:21:31.962617Z",
     "iopub.status.busy": "2025-01-20T20:21:31.962236Z",
     "iopub.status.idle": "2025-01-20T20:21:31.968333Z",
     "shell.execute_reply": "2025-01-20T20:21:31.967362Z"
    },
    "papermill": {
     "duration": 0.028761,
     "end_time": "2025-01-20T20:21:31.970089",
     "exception": false,
     "start_time": "2025-01-20T20:21:31.941328",
     "status": "completed"
    },
    "tags": []
   },
   "outputs": [
    {
     "data": {
      "text/plain": [
       "180939806"
      ]
     },
     "execution_count": 47,
     "metadata": {},
     "output_type": "execute_result"
    }
   ],
   "source": [
    "len(values)"
   ]
  },
  {
   "cell_type": "code",
   "execution_count": 48,
   "id": "cd451c0b",
   "metadata": {
    "execution": {
     "iopub.execute_input": "2025-01-20T20:21:32.011119Z",
     "iopub.status.busy": "2025-01-20T20:21:32.010752Z",
     "iopub.status.idle": "2025-01-20T20:21:34.593528Z",
     "shell.execute_reply": "2025-01-20T20:21:34.591441Z"
    },
    "papermill": {
     "duration": 2.605677,
     "end_time": "2025-01-20T20:21:34.595634",
     "exception": false,
     "start_time": "2025-01-20T20:21:31.989957",
     "status": "completed"
    },
    "tags": []
   },
   "outputs": [
    {
     "name": "stdout",
     "output_type": "stream",
     "text": [
      "% of values that are equal to 1: 94.754666%\n",
      "% of values that are <= 2: 98.248106%\n",
      "% of values that are <= 3: 99.094613%\n"
     ]
    }
   ],
   "source": [
    "print(f\"% of values that are equal to 1: {len(values[values==1])/len(values):%}\")\n",
    "print(f\"% of values that are <= 2: {len(values[values<=2])/len(values):%}\")\n",
    "print(f\"% of values that are <= 3: {len(values[values<=3])/len(values):%}\")"
   ]
  },
  {
   "cell_type": "markdown",
   "id": "ffe0fb54",
   "metadata": {
    "papermill": {
     "duration": 0.020136,
     "end_time": "2025-01-20T20:21:34.636129",
     "exception": false,
     "start_time": "2025-01-20T20:21:34.615993",
     "status": "completed"
    },
    "tags": []
   },
   "source": [
    "**Findings**\n",
    "1. The co-occurrence matrix of shape (830,140, 830,140) is 99.97% is sparse, i.e. almost all the values are 0. This is not unexpected in co-oocurrence matrices. This is due to a large vocabulary size, of 830k+ article IDs.\n",
    "2. Out of all the non-zero values ~95% are equal to 1, and 99% are less than or equal to 3. This means there is not a very strong co-occurence. One caveat is that our sample size of 150K is only about 1% of the entire dataset.\n",
    "3. The maximum co-ccurence is 677."
   ]
  },
  {
   "cell_type": "markdown",
   "id": "af17264e",
   "metadata": {
    "papermill": {
     "duration": 0.019786,
     "end_time": "2025-01-20T20:21:34.676538",
     "exception": false,
     "start_time": "2025-01-20T20:21:34.656752",
     "status": "completed"
    },
    "tags": []
   },
   "source": [
    "### Co-Visitation Matrix (Approach 2)\n",
    "\n",
    "Based on Sources 5 and 6."
   ]
  },
  {
   "cell_type": "code",
   "execution_count": 49,
   "id": "a0e31f3b",
   "metadata": {
    "execution": {
     "iopub.execute_input": "2025-01-20T20:21:34.719220Z",
     "iopub.status.busy": "2025-01-20T20:21:34.718775Z",
     "iopub.status.idle": "2025-01-20T20:21:46.620826Z",
     "shell.execute_reply": "2025-01-20T20:21:46.619364Z"
    },
    "papermill": {
     "duration": 11.926494,
     "end_time": "2025-01-20T20:21:46.623049",
     "exception": false,
     "start_time": "2025-01-20T20:21:34.696555",
     "status": "completed"
    },
    "tags": []
   },
   "outputs": [
    {
     "name": "stdout",
     "output_type": "stream",
     "text": [
      "Dataset URL: https://www.kaggle.com/datasets/theoviel/otto-dataset\r\n",
      "License(s): CC0-1.0\r\n",
      "Downloading otto-dataset.zip to /kaggle/working\r\n",
      " 99%|██████████████████████████████████████▋| 1.31G/1.32G [00:10<00:00, 170MB/s]\r\n",
      "100%|███████████████████████████████████████| 1.32G/1.32G [00:10<00:00, 139MB/s]\r\n"
     ]
    }
   ],
   "source": [
    "!kaggle datasets download theoviel/otto-dataset"
   ]
  },
  {
   "cell_type": "code",
   "execution_count": 50,
   "id": "c3b83dde",
   "metadata": {
    "collapsed": true,
    "execution": {
     "iopub.execute_input": "2025-01-20T20:21:46.678104Z",
     "iopub.status.busy": "2025-01-20T20:21:46.677722Z",
     "iopub.status.idle": "2025-01-20T20:22:11.430912Z",
     "shell.execute_reply": "2025-01-20T20:22:11.429049Z"
    },
    "jupyter": {
     "outputs_hidden": true
    },
    "papermill": {
     "duration": 24.785311,
     "end_time": "2025-01-20T20:22:11.433268",
     "exception": false,
     "start_time": "2025-01-20T20:21:46.647957",
     "status": "completed"
    },
    "tags": []
   },
   "outputs": [
    {
     "name": "stdout",
     "output_type": "stream",
     "text": [
      "Archive:  otto-dataset.zip\r\n",
      "  inflating: train_parquet/000.parquet  \r\n",
      "  inflating: train_parquet/001.parquet  \r\n",
      "  inflating: train_parquet/002.parquet  \r\n",
      "  inflating: train_parquet/003.parquet  \r\n",
      "  inflating: train_parquet/004.parquet  \r\n",
      "  inflating: train_parquet/005.parquet  \r\n",
      "  inflating: train_parquet/006.parquet  \r\n",
      "  inflating: train_parquet/007.parquet  \r\n",
      "  inflating: train_parquet/008.parquet  \r\n",
      "  inflating: train_parquet/009.parquet  \r\n",
      "  inflating: train_parquet/010.parquet  \r\n",
      "  inflating: train_parquet/011.parquet  \r\n",
      "  inflating: train_parquet/012.parquet  \r\n",
      "  inflating: train_parquet/013.parquet  \r\n",
      "  inflating: train_parquet/014.parquet  \r\n",
      "  inflating: train_parquet/015.parquet  \r\n",
      "  inflating: train_parquet/016.parquet  \r\n",
      "  inflating: train_parquet/017.parquet  \r\n",
      "  inflating: train_parquet/018.parquet  \r\n",
      "  inflating: train_parquet/019.parquet  \r\n",
      "  inflating: train_parquet/020.parquet  \r\n",
      "  inflating: train_parquet/021.parquet  \r\n",
      "  inflating: train_parquet/022.parquet  \r\n",
      "  inflating: train_parquet/023.parquet  \r\n",
      "  inflating: train_parquet/024.parquet  \r\n",
      "  inflating: train_parquet/025.parquet  \r\n",
      "  inflating: train_parquet/026.parquet  \r\n",
      "  inflating: train_parquet/027.parquet  \r\n",
      "  inflating: train_parquet/028.parquet  \r\n",
      "  inflating: train_parquet/029.parquet  \r\n",
      "  inflating: train_parquet/030.parquet  \r\n",
      "  inflating: train_parquet/031.parquet  \r\n",
      "  inflating: train_parquet/032.parquet  \r\n",
      "  inflating: train_parquet/033.parquet  \r\n",
      "  inflating: train_parquet/034.parquet  \r\n",
      "  inflating: train_parquet/035.parquet  \r\n",
      "  inflating: train_parquet/036.parquet  \r\n",
      "  inflating: train_parquet/037.parquet  \r\n",
      "  inflating: train_parquet/038.parquet  \r\n",
      "  inflating: train_parquet/039.parquet  \r\n",
      "  inflating: train_parquet/040.parquet  \r\n",
      "  inflating: train_parquet/041.parquet  \r\n",
      "  inflating: train_parquet/042.parquet  \r\n",
      "  inflating: train_parquet/043.parquet  \r\n",
      "  inflating: train_parquet/044.parquet  \r\n",
      "  inflating: train_parquet/045.parquet  \r\n",
      "  inflating: train_parquet/046.parquet  \r\n",
      "  inflating: train_parquet/047.parquet  \r\n",
      "  inflating: train_parquet/048.parquet  \r\n",
      "  inflating: train_parquet/049.parquet  \r\n",
      "  inflating: train_parquet/050.parquet  \r\n",
      "  inflating: train_parquet/051.parquet  \r\n",
      "  inflating: train_parquet/052.parquet  \r\n",
      "  inflating: train_parquet/053.parquet  \r\n",
      "  inflating: train_parquet/054.parquet  \r\n",
      "  inflating: train_parquet/055.parquet  \r\n",
      "  inflating: train_parquet/056.parquet  \r\n",
      "  inflating: train_parquet/057.parquet  \r\n",
      "  inflating: train_parquet/058.parquet  \r\n",
      "  inflating: train_parquet/059.parquet  \r\n",
      "  inflating: train_parquet/060.parquet  \r\n",
      "  inflating: train_parquet/061.parquet  \r\n",
      "  inflating: train_parquet/062.parquet  \r\n",
      "  inflating: train_parquet/063.parquet  \r\n",
      "  inflating: train_parquet/064.parquet  \r\n",
      "  inflating: train_parquet/065.parquet  \r\n",
      "  inflating: train_parquet/066.parquet  \r\n",
      "  inflating: train_parquet/067.parquet  \r\n",
      "  inflating: train_parquet/068.parquet  \r\n",
      "  inflating: train_parquet/069.parquet  \r\n",
      "  inflating: train_parquet/070.parquet  \r\n",
      "  inflating: train_parquet/071.parquet  \r\n",
      "  inflating: train_parquet/072.parquet  \r\n",
      "  inflating: train_parquet/073.parquet  \r\n",
      "  inflating: train_parquet/074.parquet  \r\n",
      "  inflating: train_parquet/075.parquet  \r\n",
      "  inflating: train_parquet/076.parquet  \r\n",
      "  inflating: train_parquet/077.parquet  \r\n",
      "  inflating: train_parquet/078.parquet  \r\n",
      "  inflating: train_parquet/079.parquet  \r\n",
      "  inflating: train_parquet/080.parquet  \r\n",
      "  inflating: train_parquet/081.parquet  \r\n",
      "  inflating: train_parquet/082.parquet  \r\n",
      "  inflating: train_parquet/083.parquet  \r\n",
      "  inflating: train_parquet/084.parquet  \r\n",
      "  inflating: train_parquet/085.parquet  \r\n",
      "  inflating: train_parquet/086.parquet  \r\n",
      "  inflating: train_parquet/087.parquet  \r\n",
      "  inflating: train_parquet/088.parquet  \r\n",
      "  inflating: train_parquet/089.parquet  \r\n",
      "  inflating: train_parquet/090.parquet  \r\n",
      "  inflating: train_parquet/091.parquet  \r\n",
      "  inflating: train_parquet/092.parquet  \r\n",
      "  inflating: train_parquet/093.parquet  \r\n",
      "  inflating: train_parquet/094.parquet  \r\n",
      "  inflating: train_parquet/095.parquet  \r\n",
      "  inflating: train_parquet/096.parquet  \r\n",
      "  inflating: train_parquet/097.parquet  \r\n",
      "  inflating: train_parquet/098.parquet  \r\n",
      "  inflating: train_parquet/099.parquet  \r\n",
      "  inflating: train_parquet/100.parquet  \r\n",
      "  inflating: train_parquet/101.parquet  \r\n",
      "  inflating: train_parquet/102.parquet  \r\n",
      "  inflating: train_parquet/103.parquet  \r\n",
      "  inflating: train_parquet/104.parquet  \r\n",
      "  inflating: train_parquet/105.parquet  \r\n",
      "  inflating: train_parquet/106.parquet  \r\n",
      "  inflating: train_parquet/107.parquet  \r\n",
      "  inflating: train_parquet/108.parquet  \r\n",
      "  inflating: train_parquet/109.parquet  \r\n",
      "  inflating: train_parquet/110.parquet  \r\n",
      "  inflating: val_labels.parquet      \r\n",
      "  inflating: val_parquet/000.parquet  \r\n",
      "  inflating: val_parquet/001.parquet  \r\n",
      "  inflating: val_parquet/002.parquet  \r\n",
      "  inflating: val_parquet/003.parquet  \r\n",
      "  inflating: val_parquet/004.parquet  \r\n",
      "  inflating: val_parquet/005.parquet  \r\n",
      "  inflating: val_parquet/006.parquet  \r\n",
      "  inflating: val_parquet/007.parquet  \r\n",
      "  inflating: val_parquet/008.parquet  \r\n",
      "  inflating: val_parquet/009.parquet  \r\n",
      "  inflating: val_parquet/010.parquet  \r\n",
      "  inflating: val_parquet/011.parquet  \r\n",
      "  inflating: val_parquet/012.parquet  \r\n",
      "  inflating: val_parquet/013.parquet  \r\n",
      "  inflating: val_parquet/014.parquet  \r\n",
      "  inflating: val_parquet/015.parquet  \r\n",
      "  inflating: val_parquet/016.parquet  \r\n",
      "  inflating: val_parquet/017.parquet  \r\n",
      "  inflating: val_parquet/018.parquet  \r\n"
     ]
    }
   ],
   "source": [
    "!unzip otto-dataset.zip"
   ]
  },
  {
   "cell_type": "code",
   "execution_count": 51,
   "id": "2733798e",
   "metadata": {
    "execution": {
     "iopub.execute_input": "2025-01-20T20:22:11.498529Z",
     "iopub.status.busy": "2025-01-20T20:22:11.498096Z",
     "iopub.status.idle": "2025-01-20T20:22:11.517487Z",
     "shell.execute_reply": "2025-01-20T20:22:11.516242Z"
    },
    "papermill": {
     "duration": 0.054584,
     "end_time": "2025-01-20T20:22:11.519633",
     "exception": false,
     "start_time": "2025-01-20T20:22:11.465049",
     "status": "completed"
    },
    "tags": []
   },
   "outputs": [],
   "source": [
    "import glob\n",
    "import gc\n",
    "from tqdm.notebook import tqdm\n",
    "\n",
    "train_files = sorted(glob.glob(\"train_parquet/*\"))[:10]"
   ]
  },
  {
   "cell_type": "code",
   "execution_count": 52,
   "id": "6d9753fe",
   "metadata": {
    "execution": {
     "iopub.execute_input": "2025-01-20T20:22:11.582426Z",
     "iopub.status.busy": "2025-01-20T20:22:11.582009Z",
     "iopub.status.idle": "2025-01-20T20:22:11.588900Z",
     "shell.execute_reply": "2025-01-20T20:22:11.587630Z"
    },
    "papermill": {
     "duration": 0.040423,
     "end_time": "2025-01-20T20:22:11.590826",
     "exception": false,
     "start_time": "2025-01-20T20:22:11.550403",
     "status": "completed"
    },
    "tags": []
   },
   "outputs": [
    {
     "data": {
      "text/plain": [
       "['train_parquet/000.parquet',\n",
       " 'train_parquet/001.parquet',\n",
       " 'train_parquet/002.parquet',\n",
       " 'train_parquet/003.parquet',\n",
       " 'train_parquet/004.parquet',\n",
       " 'train_parquet/005.parquet',\n",
       " 'train_parquet/006.parquet',\n",
       " 'train_parquet/007.parquet',\n",
       " 'train_parquet/008.parquet',\n",
       " 'train_parquet/009.parquet']"
      ]
     },
     "execution_count": 52,
     "metadata": {},
     "output_type": "execute_result"
    }
   ],
   "source": [
    "train_files"
   ]
  },
  {
   "cell_type": "code",
   "execution_count": 53,
   "id": "a8848fb7",
   "metadata": {
    "execution": {
     "iopub.execute_input": "2025-01-20T20:22:11.653371Z",
     "iopub.status.busy": "2025-01-20T20:22:11.652944Z",
     "iopub.status.idle": "2025-01-20T20:22:11.657986Z",
     "shell.execute_reply": "2025-01-20T20:22:11.656868Z"
    },
    "papermill": {
     "duration": 0.038173,
     "end_time": "2025-01-20T20:22:11.659672",
     "exception": false,
     "start_time": "2025-01-20T20:22:11.621499",
     "status": "completed"
    },
    "tags": []
   },
   "outputs": [],
   "source": [
    "PARTS = 2\n",
    "SIZE = 1.86e6 / PARTS  # 1.86e6 si the maximum item ID\n",
    "N_CANDIDS = 20"
   ]
  },
  {
   "cell_type": "code",
   "execution_count": 54,
   "id": "050295bf",
   "metadata": {
    "execution": {
     "iopub.execute_input": "2025-01-20T20:22:11.724050Z",
     "iopub.status.busy": "2025-01-20T20:22:11.723673Z",
     "iopub.status.idle": "2025-01-20T20:22:11.729564Z",
     "shell.execute_reply": "2025-01-20T20:22:11.728561Z"
    },
    "papermill": {
     "duration": 0.03979,
     "end_time": "2025-01-20T20:22:11.731099",
     "exception": false,
     "start_time": "2025-01-20T20:22:11.691309",
     "status": "completed"
    },
    "tags": []
   },
   "outputs": [
    {
     "data": {
      "text/plain": [
       "9300000.0"
      ]
     },
     "execution_count": 54,
     "metadata": {},
     "output_type": "execute_result"
    }
   ],
   "source": [
    "SIZE*10"
   ]
  },
  {
   "cell_type": "code",
   "execution_count": 55,
   "id": "1fc00ab9",
   "metadata": {
    "execution": {
     "iopub.execute_input": "2025-01-20T20:22:11.795078Z",
     "iopub.status.busy": "2025-01-20T20:22:11.794692Z",
     "iopub.status.idle": "2025-01-20T20:29:30.066340Z",
     "shell.execute_reply": "2025-01-20T20:29:30.065191Z"
    },
    "papermill": {
     "duration": 438.306383,
     "end_time": "2025-01-20T20:29:30.068618",
     "exception": false,
     "start_time": "2025-01-20T20:22:11.762235",
     "status": "completed"
    },
    "tags": []
   },
   "outputs": [
    {
     "name": "stdout",
     "output_type": "stream",
     "text": [
      "- Part 1/2\n"
     ]
    },
    {
     "data": {
      "application/vnd.jupyter.widget-view+json": {
       "model_id": "defef160a56c45c28f1d89bdb1d239de",
       "version_major": 2,
       "version_minor": 0
      },
      "text/plain": [
       "  0%|          | 0/10 [00:00<?, ?it/s]"
      ]
     },
     "metadata": {},
     "output_type": "display_data"
    },
    {
     "name": "stdout",
     "output_type": "stream",
     "text": [
      "- Part 2/2\n"
     ]
    },
    {
     "data": {
      "application/vnd.jupyter.widget-view+json": {
       "model_id": "5d328b4f4ab5438bb6dbcf41ae390028",
       "version_major": 2,
       "version_minor": 0
      },
      "text/plain": [
       "  0%|          | 0/10 [00:00<?, ?it/s]"
      ]
     },
     "metadata": {},
     "output_type": "display_data"
    }
   ],
   "source": [
    "covisitation_matrix = []\n",
    "\n",
    "for part in range(PARTS):\n",
    "    print(f\"- Part {part + 1}/{PARTS}\")\n",
    "    matrix = None\n",
    "    for file_idx, file in enumerate(tqdm(train_files)):\n",
    "        # Load sessions & convert columns to save memory\n",
    "        df = pd.read_parquet(file, columns=[\"session\", \"aid\", \"ts\"])\n",
    "        df[\"ts\"] = (df[\"ts\"] / 1000).astype(\"int32\")\n",
    "        df[[\"session\", \"aid\"]] = df[[\"session\", \"aid\"]].astype(\"int32\")\n",
    "\n",
    "        # Restrict to first 30 interactions\n",
    "        df = df.sort_values(\n",
    "            [\"session\", \"ts\"], ascending=[True, False], ignore_index=True\n",
    "        )\n",
    "        df[\"n\"] = df.groupby(\"session\").cumcount()\n",
    "        df = df.loc[df.n < 30].drop(\"n\", axis=1)\n",
    "\n",
    "        # Compute pairs\n",
    "        df = df.merge(df, on=\"session\")\n",
    "\n",
    "        # Split in parts to reduce memory usage\n",
    "        df = df.loc[(df[\"aid_x\"] >= part * SIZE) & (df[\"aid_x\"] < (part + 1) * SIZE)]\n",
    "\n",
    "        # Restrict to <1h and remove self-matches\n",
    "        df = df.loc[\n",
    "            ((df[\"ts_x\"] - df[\"ts_y\"]).abs() < 60 * 60) & (df.aid_x != df.aid_y)\n",
    "        ]\n",
    "\n",
    "        # No duplicated interactions within sessions\n",
    "        df = df.drop_duplicates(\n",
    "            subset=[\"session\", \"aid_x\", \"aid_y\"],\n",
    "            keep=\"first\",\n",
    "        ).reset_index(drop=True)\n",
    "\n",
    "        # Compute weights of pairs\n",
    "        df[\"wgt\"] = 1\n",
    "        df[\"wgt\"] = df[\"wgt\"].astype(\"float32\")\n",
    "\n",
    "        df.drop([\"session\", \"ts_x\", \"ts_y\"], axis=1, inplace=True)\n",
    "        df = df.groupby([\"aid_x\", \"aid_y\"]).sum()\n",
    "\n",
    "        # Update covisitation matrix with new weights\n",
    "        if matrix is None:\n",
    "            matrix = df\n",
    "        else:\n",
    "            matrix = matrix.add(df, fill_value=0)  # this is the bottleneck operation\n",
    "\n",
    "        # Clear memory\n",
    "        del df\n",
    "        gc.collect()\n",
    "\n",
    "    # Final matrix : Sort values\n",
    "    matrix = matrix.reset_index().rename(columns={\"aid_x\": \"aid\", \"aid_y\": \"candidate\"})\n",
    "    matrix = matrix.sort_values(\n",
    "        [\"aid\", \"wgt\"], ascending=[True, False], ignore_index=True\n",
    "    )\n",
    "\n",
    "    # Restrict to n candids\n",
    "    matrix[\"rank\"] = matrix.groupby(\"aid\").candidate.cumcount()\n",
    "    matrix = matrix[matrix[\"rank\"] < N_CANDIDS].reset_index(drop=True)\n",
    "    covisitation_matrix.append(matrix)\n",
    "\n",
    "covisitation_matrix = pd.concat(covisitation_matrix, ignore_index=True)"
   ]
  },
  {
   "cell_type": "code",
   "execution_count": 56,
   "id": "e1a42204",
   "metadata": {
    "execution": {
     "iopub.execute_input": "2025-01-20T20:29:30.133630Z",
     "iopub.status.busy": "2025-01-20T20:29:30.133201Z",
     "iopub.status.idle": "2025-01-20T20:29:30.146914Z",
     "shell.execute_reply": "2025-01-20T20:29:30.145717Z"
    },
    "papermill": {
     "duration": 0.048405,
     "end_time": "2025-01-20T20:29:30.148703",
     "exception": false,
     "start_time": "2025-01-20T20:29:30.100298",
     "status": "completed"
    },
    "tags": []
   },
   "outputs": [
    {
     "data": {
      "text/html": [
       "<div>\n",
       "<style scoped>\n",
       "    .dataframe tbody tr th:only-of-type {\n",
       "        vertical-align: middle;\n",
       "    }\n",
       "\n",
       "    .dataframe tbody tr th {\n",
       "        vertical-align: top;\n",
       "    }\n",
       "\n",
       "    .dataframe thead th {\n",
       "        text-align: right;\n",
       "    }\n",
       "</style>\n",
       "<table border=\"1\" class=\"dataframe\">\n",
       "  <thead>\n",
       "    <tr style=\"text-align: right;\">\n",
       "      <th></th>\n",
       "      <th>aid</th>\n",
       "      <th>candidate</th>\n",
       "      <th>wgt</th>\n",
       "      <th>rank</th>\n",
       "    </tr>\n",
       "  </thead>\n",
       "  <tbody>\n",
       "    <tr>\n",
       "      <th>0</th>\n",
       "      <td>0</td>\n",
       "      <td>643097</td>\n",
       "      <td>2.0</td>\n",
       "      <td>0</td>\n",
       "    </tr>\n",
       "    <tr>\n",
       "      <th>1</th>\n",
       "      <td>0</td>\n",
       "      <td>994505</td>\n",
       "      <td>2.0</td>\n",
       "      <td>1</td>\n",
       "    </tr>\n",
       "    <tr>\n",
       "      <th>2</th>\n",
       "      <td>0</td>\n",
       "      <td>29217</td>\n",
       "      <td>1.0</td>\n",
       "      <td>2</td>\n",
       "    </tr>\n",
       "    <tr>\n",
       "      <th>3</th>\n",
       "      <td>0</td>\n",
       "      <td>150507</td>\n",
       "      <td>1.0</td>\n",
       "      <td>3</td>\n",
       "    </tr>\n",
       "    <tr>\n",
       "      <th>4</th>\n",
       "      <td>0</td>\n",
       "      <td>320565</td>\n",
       "      <td>1.0</td>\n",
       "      <td>4</td>\n",
       "    </tr>\n",
       "    <tr>\n",
       "      <th>...</th>\n",
       "      <td>...</td>\n",
       "      <td>...</td>\n",
       "      <td>...</td>\n",
       "      <td>...</td>\n",
       "    </tr>\n",
       "    <tr>\n",
       "      <th>14303129</th>\n",
       "      <td>1855602</td>\n",
       "      <td>1119153</td>\n",
       "      <td>1.0</td>\n",
       "      <td>15</td>\n",
       "    </tr>\n",
       "    <tr>\n",
       "      <th>14303130</th>\n",
       "      <td>1855602</td>\n",
       "      <td>1219756</td>\n",
       "      <td>1.0</td>\n",
       "      <td>16</td>\n",
       "    </tr>\n",
       "    <tr>\n",
       "      <th>14303131</th>\n",
       "      <td>1855602</td>\n",
       "      <td>1238883</td>\n",
       "      <td>1.0</td>\n",
       "      <td>17</td>\n",
       "    </tr>\n",
       "    <tr>\n",
       "      <th>14303132</th>\n",
       "      <td>1855602</td>\n",
       "      <td>1264423</td>\n",
       "      <td>1.0</td>\n",
       "      <td>18</td>\n",
       "    </tr>\n",
       "    <tr>\n",
       "      <th>14303133</th>\n",
       "      <td>1855602</td>\n",
       "      <td>1273978</td>\n",
       "      <td>1.0</td>\n",
       "      <td>19</td>\n",
       "    </tr>\n",
       "  </tbody>\n",
       "</table>\n",
       "<p>14303134 rows × 4 columns</p>\n",
       "</div>"
      ],
      "text/plain": [
       "              aid  candidate  wgt  rank\n",
       "0               0     643097  2.0     0\n",
       "1               0     994505  2.0     1\n",
       "2               0      29217  1.0     2\n",
       "3               0     150507  1.0     3\n",
       "4               0     320565  1.0     4\n",
       "...           ...        ...  ...   ...\n",
       "14303129  1855602    1119153  1.0    15\n",
       "14303130  1855602    1219756  1.0    16\n",
       "14303131  1855602    1238883  1.0    17\n",
       "14303132  1855602    1264423  1.0    18\n",
       "14303133  1855602    1273978  1.0    19\n",
       "\n",
       "[14303134 rows x 4 columns]"
      ]
     },
     "execution_count": 56,
     "metadata": {},
     "output_type": "execute_result"
    }
   ],
   "source": [
    "covisitation_matrix"
   ]
  },
  {
   "cell_type": "code",
   "execution_count": 57,
   "id": "e59a5768",
   "metadata": {
    "execution": {
     "iopub.execute_input": "2025-01-20T20:29:30.215322Z",
     "iopub.status.busy": "2025-01-20T20:29:30.214877Z",
     "iopub.status.idle": "2025-01-20T20:29:30.244481Z",
     "shell.execute_reply": "2025-01-20T20:29:30.243421Z"
    },
    "papermill": {
     "duration": 0.064722,
     "end_time": "2025-01-20T20:29:30.246523",
     "exception": false,
     "start_time": "2025-01-20T20:29:30.181801",
     "status": "completed"
    },
    "tags": []
   },
   "outputs": [
    {
     "data": {
      "text/plain": [
       "0.8371891782598135"
      ]
     },
     "execution_count": 57,
     "metadata": {},
     "output_type": "execute_result"
    }
   ],
   "source": [
    "(covisitation_matrix[\"wgt\"]==1).sum()/covisitation_matrix.shape[0]"
   ]
  },
  {
   "cell_type": "code",
   "execution_count": 58,
   "id": "c5c9daf5",
   "metadata": {
    "execution": {
     "iopub.execute_input": "2025-01-20T20:29:30.314158Z",
     "iopub.status.busy": "2025-01-20T20:29:30.313756Z",
     "iopub.status.idle": "2025-01-20T20:29:30.387664Z",
     "shell.execute_reply": "2025-01-20T20:29:30.386315Z"
    },
    "papermill": {
     "duration": 0.109953,
     "end_time": "2025-01-20T20:29:30.389950",
     "exception": false,
     "start_time": "2025-01-20T20:29:30.279997",
     "status": "completed"
    },
    "tags": []
   },
   "outputs": [
    {
     "name": "stdout",
     "output_type": "stream",
     "text": [
      "% of values that are equal to 1: 83.718918%\n",
      "% of values that are <= 2: 92.303617%\n",
      "% of values that are <= 3: 95.224977%\n"
     ]
    }
   ],
   "source": [
    "print(f\"% of values that are equal to 1: {(covisitation_matrix['wgt']==1).sum()/covisitation_matrix.shape[0]:%}\")\n",
    "print(f\"% of values that are <= 2: {(covisitation_matrix['wgt']<=2).sum()/covisitation_matrix.shape[0]:%}\")\n",
    "print(f\"% of values that are <= 3: {(covisitation_matrix['wgt']<=3).sum()/covisitation_matrix.shape[0]:%}\")"
   ]
  },
  {
   "cell_type": "code",
   "execution_count": null,
   "id": "3c697251",
   "metadata": {
    "papermill": {
     "duration": 0.032583,
     "end_time": "2025-01-20T20:29:30.455428",
     "exception": false,
     "start_time": "2025-01-20T20:29:30.422845",
     "status": "completed"
    },
    "tags": []
   },
   "outputs": [],
   "source": []
  }
 ],
 "metadata": {
  "kaggle": {
   "accelerator": "none",
   "dataSources": [
    {
     "databundleVersionId": 4493939,
     "sourceId": 38760,
     "sourceType": "competition"
    }
   ],
   "dockerImageVersionId": 30822,
   "isGpuEnabled": false,
   "isInternetEnabled": true,
   "language": "python",
   "sourceType": "notebook"
  },
  "kernelspec": {
   "display_name": "Python 3",
   "language": "python",
   "name": "python3"
  },
  "language_info": {
   "codemirror_mode": {
    "name": "ipython",
    "version": 3
   },
   "file_extension": ".py",
   "mimetype": "text/x-python",
   "name": "python",
   "nbconvert_exporter": "python",
   "pygments_lexer": "ipython3",
   "version": "3.10.12"
  },
  "papermill": {
   "default_parameters": {},
   "duration": 653.373015,
   "end_time": "2025-01-20T20:29:33.713610",
   "environment_variables": {},
   "exception": null,
   "input_path": "__notebook__.ipynb",
   "output_path": "__notebook__.ipynb",
   "parameters": {},
   "start_time": "2025-01-20T20:18:40.340595",
   "version": "2.6.0"
  },
  "widgets": {
   "application/vnd.jupyter.widget-state+json": {
    "state": {
     "141c367298274b1fa5a57b4c1fc2876c": {
      "model_module": "@jupyter-widgets/base",
      "model_module_version": "2.0.0",
      "model_name": "LayoutModel",
      "state": {
       "_model_module": "@jupyter-widgets/base",
       "_model_module_version": "2.0.0",
       "_model_name": "LayoutModel",
       "_view_count": null,
       "_view_module": "@jupyter-widgets/base",
       "_view_module_version": "2.0.0",
       "_view_name": "LayoutView",
       "align_content": null,
       "align_items": null,
       "align_self": null,
       "border_bottom": null,
       "border_left": null,
       "border_right": null,
       "border_top": null,
       "bottom": null,
       "display": null,
       "flex": null,
       "flex_flow": null,
       "grid_area": null,
       "grid_auto_columns": null,
       "grid_auto_flow": null,
       "grid_auto_rows": null,
       "grid_column": null,
       "grid_gap": null,
       "grid_row": null,
       "grid_template_areas": null,
       "grid_template_columns": null,
       "grid_template_rows": null,
       "height": null,
       "justify_content": null,
       "justify_items": null,
       "left": null,
       "margin": null,
       "max_height": null,
       "max_width": null,
       "min_height": null,
       "min_width": null,
       "object_fit": null,
       "object_position": null,
       "order": null,
       "overflow": null,
       "padding": null,
       "right": null,
       "top": null,
       "visibility": null,
       "width": null
      }
     },
     "236a2df64ca44546ad333787ecb86387": {
      "model_module": "@jupyter-widgets/base",
      "model_module_version": "2.0.0",
      "model_name": "LayoutModel",
      "state": {
       "_model_module": "@jupyter-widgets/base",
       "_model_module_version": "2.0.0",
       "_model_name": "LayoutModel",
       "_view_count": null,
       "_view_module": "@jupyter-widgets/base",
       "_view_module_version": "2.0.0",
       "_view_name": "LayoutView",
       "align_content": null,
       "align_items": null,
       "align_self": null,
       "border_bottom": null,
       "border_left": null,
       "border_right": null,
       "border_top": null,
       "bottom": null,
       "display": null,
       "flex": null,
       "flex_flow": null,
       "grid_area": null,
       "grid_auto_columns": null,
       "grid_auto_flow": null,
       "grid_auto_rows": null,
       "grid_column": null,
       "grid_gap": null,
       "grid_row": null,
       "grid_template_areas": null,
       "grid_template_columns": null,
       "grid_template_rows": null,
       "height": null,
       "justify_content": null,
       "justify_items": null,
       "left": null,
       "margin": null,
       "max_height": null,
       "max_width": null,
       "min_height": null,
       "min_width": null,
       "object_fit": null,
       "object_position": null,
       "order": null,
       "overflow": null,
       "padding": null,
       "right": null,
       "top": null,
       "visibility": null,
       "width": null
      }
     },
     "267aa9b1235f4acd9b35a981f5f0342e": {
      "model_module": "@jupyter-widgets/controls",
      "model_module_version": "2.0.0",
      "model_name": "HTMLStyleModel",
      "state": {
       "_model_module": "@jupyter-widgets/controls",
       "_model_module_version": "2.0.0",
       "_model_name": "HTMLStyleModel",
       "_view_count": null,
       "_view_module": "@jupyter-widgets/base",
       "_view_module_version": "2.0.0",
       "_view_name": "StyleView",
       "background": null,
       "description_width": "",
       "font_size": null,
       "text_color": null
      }
     },
     "29ff68d2b8c34970bc8d2d6a6bed233c": {
      "model_module": "@jupyter-widgets/controls",
      "model_module_version": "2.0.0",
      "model_name": "HTMLModel",
      "state": {
       "_dom_classes": [],
       "_model_module": "@jupyter-widgets/controls",
       "_model_module_version": "2.0.0",
       "_model_name": "HTMLModel",
       "_view_count": null,
       "_view_module": "@jupyter-widgets/controls",
       "_view_module_version": "2.0.0",
       "_view_name": "HTMLView",
       "description": "",
       "description_allow_html": false,
       "layout": "IPY_MODEL_141c367298274b1fa5a57b4c1fc2876c",
       "placeholder": "​",
       "style": "IPY_MODEL_6fe0f83765b941928c3773548aa77070",
       "tabbable": null,
       "tooltip": null,
       "value": " 10/10 [03:33&lt;00:00, 26.74s/it]"
      }
     },
     "3902c8f9bea94568b47f4a48373223d3": {
      "model_module": "@jupyter-widgets/base",
      "model_module_version": "2.0.0",
      "model_name": "LayoutModel",
      "state": {
       "_model_module": "@jupyter-widgets/base",
       "_model_module_version": "2.0.0",
       "_model_name": "LayoutModel",
       "_view_count": null,
       "_view_module": "@jupyter-widgets/base",
       "_view_module_version": "2.0.0",
       "_view_name": "LayoutView",
       "align_content": null,
       "align_items": null,
       "align_self": null,
       "border_bottom": null,
       "border_left": null,
       "border_right": null,
       "border_top": null,
       "bottom": null,
       "display": null,
       "flex": null,
       "flex_flow": null,
       "grid_area": null,
       "grid_auto_columns": null,
       "grid_auto_flow": null,
       "grid_auto_rows": null,
       "grid_column": null,
       "grid_gap": null,
       "grid_row": null,
       "grid_template_areas": null,
       "grid_template_columns": null,
       "grid_template_rows": null,
       "height": null,
       "justify_content": null,
       "justify_items": null,
       "left": null,
       "margin": null,
       "max_height": null,
       "max_width": null,
       "min_height": null,
       "min_width": null,
       "object_fit": null,
       "object_position": null,
       "order": null,
       "overflow": null,
       "padding": null,
       "right": null,
       "top": null,
       "visibility": null,
       "width": null
      }
     },
     "3b1d9db862544724975e698c25b39d6b": {
      "model_module": "@jupyter-widgets/base",
      "model_module_version": "2.0.0",
      "model_name": "LayoutModel",
      "state": {
       "_model_module": "@jupyter-widgets/base",
       "_model_module_version": "2.0.0",
       "_model_name": "LayoutModel",
       "_view_count": null,
       "_view_module": "@jupyter-widgets/base",
       "_view_module_version": "2.0.0",
       "_view_name": "LayoutView",
       "align_content": null,
       "align_items": null,
       "align_self": null,
       "border_bottom": null,
       "border_left": null,
       "border_right": null,
       "border_top": null,
       "bottom": null,
       "display": null,
       "flex": null,
       "flex_flow": null,
       "grid_area": null,
       "grid_auto_columns": null,
       "grid_auto_flow": null,
       "grid_auto_rows": null,
       "grid_column": null,
       "grid_gap": null,
       "grid_row": null,
       "grid_template_areas": null,
       "grid_template_columns": null,
       "grid_template_rows": null,
       "height": null,
       "justify_content": null,
       "justify_items": null,
       "left": null,
       "margin": null,
       "max_height": null,
       "max_width": null,
       "min_height": null,
       "min_width": null,
       "object_fit": null,
       "object_position": null,
       "order": null,
       "overflow": null,
       "padding": null,
       "right": null,
       "top": null,
       "visibility": null,
       "width": null
      }
     },
     "5c439992a7d841a7896905c02135ebd8": {
      "model_module": "@jupyter-widgets/controls",
      "model_module_version": "2.0.0",
      "model_name": "FloatProgressModel",
      "state": {
       "_dom_classes": [],
       "_model_module": "@jupyter-widgets/controls",
       "_model_module_version": "2.0.0",
       "_model_name": "FloatProgressModel",
       "_view_count": null,
       "_view_module": "@jupyter-widgets/controls",
       "_view_module_version": "2.0.0",
       "_view_name": "ProgressView",
       "bar_style": "success",
       "description": "",
       "description_allow_html": false,
       "layout": "IPY_MODEL_236a2df64ca44546ad333787ecb86387",
       "max": 10.0,
       "min": 0.0,
       "orientation": "horizontal",
       "style": "IPY_MODEL_99de02be96b341bd97edd4033958369b",
       "tabbable": null,
       "tooltip": null,
       "value": 10.0
      }
     },
     "5d328b4f4ab5438bb6dbcf41ae390028": {
      "model_module": "@jupyter-widgets/controls",
      "model_module_version": "2.0.0",
      "model_name": "HBoxModel",
      "state": {
       "_dom_classes": [],
       "_model_module": "@jupyter-widgets/controls",
       "_model_module_version": "2.0.0",
       "_model_name": "HBoxModel",
       "_view_count": null,
       "_view_module": "@jupyter-widgets/controls",
       "_view_module_version": "2.0.0",
       "_view_name": "HBoxView",
       "box_style": "",
       "children": [
        "IPY_MODEL_9c8c952e57614a4f89766311af109302",
        "IPY_MODEL_740854e3f62f46a5863bef10af761749",
        "IPY_MODEL_29ff68d2b8c34970bc8d2d6a6bed233c"
       ],
       "layout": "IPY_MODEL_5e3db47da34e425b999b0033d23206b4",
       "tabbable": null,
       "tooltip": null
      }
     },
     "5e3db47da34e425b999b0033d23206b4": {
      "model_module": "@jupyter-widgets/base",
      "model_module_version": "2.0.0",
      "model_name": "LayoutModel",
      "state": {
       "_model_module": "@jupyter-widgets/base",
       "_model_module_version": "2.0.0",
       "_model_name": "LayoutModel",
       "_view_count": null,
       "_view_module": "@jupyter-widgets/base",
       "_view_module_version": "2.0.0",
       "_view_name": "LayoutView",
       "align_content": null,
       "align_items": null,
       "align_self": null,
       "border_bottom": null,
       "border_left": null,
       "border_right": null,
       "border_top": null,
       "bottom": null,
       "display": null,
       "flex": null,
       "flex_flow": null,
       "grid_area": null,
       "grid_auto_columns": null,
       "grid_auto_flow": null,
       "grid_auto_rows": null,
       "grid_column": null,
       "grid_gap": null,
       "grid_row": null,
       "grid_template_areas": null,
       "grid_template_columns": null,
       "grid_template_rows": null,
       "height": null,
       "justify_content": null,
       "justify_items": null,
       "left": null,
       "margin": null,
       "max_height": null,
       "max_width": null,
       "min_height": null,
       "min_width": null,
       "object_fit": null,
       "object_position": null,
       "order": null,
       "overflow": null,
       "padding": null,
       "right": null,
       "top": null,
       "visibility": null,
       "width": null
      }
     },
     "6fe0f83765b941928c3773548aa77070": {
      "model_module": "@jupyter-widgets/controls",
      "model_module_version": "2.0.0",
      "model_name": "HTMLStyleModel",
      "state": {
       "_model_module": "@jupyter-widgets/controls",
       "_model_module_version": "2.0.0",
       "_model_name": "HTMLStyleModel",
       "_view_count": null,
       "_view_module": "@jupyter-widgets/base",
       "_view_module_version": "2.0.0",
       "_view_name": "StyleView",
       "background": null,
       "description_width": "",
       "font_size": null,
       "text_color": null
      }
     },
     "740854e3f62f46a5863bef10af761749": {
      "model_module": "@jupyter-widgets/controls",
      "model_module_version": "2.0.0",
      "model_name": "FloatProgressModel",
      "state": {
       "_dom_classes": [],
       "_model_module": "@jupyter-widgets/controls",
       "_model_module_version": "2.0.0",
       "_model_name": "FloatProgressModel",
       "_view_count": null,
       "_view_module": "@jupyter-widgets/controls",
       "_view_module_version": "2.0.0",
       "_view_name": "ProgressView",
       "bar_style": "success",
       "description": "",
       "description_allow_html": false,
       "layout": "IPY_MODEL_eba6f5351d0f4dd5915e2c893aee1b14",
       "max": 10.0,
       "min": 0.0,
       "orientation": "horizontal",
       "style": "IPY_MODEL_f335331b3f8346118a439c0dc0f6c271",
       "tabbable": null,
       "tooltip": null,
       "value": 10.0
      }
     },
     "774474402e704d048078d426f61dbdb7": {
      "model_module": "@jupyter-widgets/controls",
      "model_module_version": "2.0.0",
      "model_name": "HTMLModel",
      "state": {
       "_dom_classes": [],
       "_model_module": "@jupyter-widgets/controls",
       "_model_module_version": "2.0.0",
       "_model_name": "HTMLModel",
       "_view_count": null,
       "_view_module": "@jupyter-widgets/controls",
       "_view_module_version": "2.0.0",
       "_view_name": "HTMLView",
       "description": "",
       "description_allow_html": false,
       "layout": "IPY_MODEL_c112440d22fb4e66994e6ee4838f90ac",
       "placeholder": "​",
       "style": "IPY_MODEL_267aa9b1235f4acd9b35a981f5f0342e",
       "tabbable": null,
       "tooltip": null,
       "value": " 10/10 [03:35&lt;00:00, 27.14s/it]"
      }
     },
     "927f8698600b41e09e5a1a9eb58029ba": {
      "model_module": "@jupyter-widgets/controls",
      "model_module_version": "2.0.0",
      "model_name": "HTMLStyleModel",
      "state": {
       "_model_module": "@jupyter-widgets/controls",
       "_model_module_version": "2.0.0",
       "_model_name": "HTMLStyleModel",
       "_view_count": null,
       "_view_module": "@jupyter-widgets/base",
       "_view_module_version": "2.0.0",
       "_view_name": "StyleView",
       "background": null,
       "description_width": "",
       "font_size": null,
       "text_color": null
      }
     },
     "99de02be96b341bd97edd4033958369b": {
      "model_module": "@jupyter-widgets/controls",
      "model_module_version": "2.0.0",
      "model_name": "ProgressStyleModel",
      "state": {
       "_model_module": "@jupyter-widgets/controls",
       "_model_module_version": "2.0.0",
       "_model_name": "ProgressStyleModel",
       "_view_count": null,
       "_view_module": "@jupyter-widgets/base",
       "_view_module_version": "2.0.0",
       "_view_name": "StyleView",
       "bar_color": null,
       "description_width": ""
      }
     },
     "9c8c952e57614a4f89766311af109302": {
      "model_module": "@jupyter-widgets/controls",
      "model_module_version": "2.0.0",
      "model_name": "HTMLModel",
      "state": {
       "_dom_classes": [],
       "_model_module": "@jupyter-widgets/controls",
       "_model_module_version": "2.0.0",
       "_model_name": "HTMLModel",
       "_view_count": null,
       "_view_module": "@jupyter-widgets/controls",
       "_view_module_version": "2.0.0",
       "_view_name": "HTMLView",
       "description": "",
       "description_allow_html": false,
       "layout": "IPY_MODEL_a88131235bb141a99d737e5c787cf84a",
       "placeholder": "​",
       "style": "IPY_MODEL_def7bcca7a7442aaa2ab1f1d66bba0c7",
       "tabbable": null,
       "tooltip": null,
       "value": "100%"
      }
     },
     "a88131235bb141a99d737e5c787cf84a": {
      "model_module": "@jupyter-widgets/base",
      "model_module_version": "2.0.0",
      "model_name": "LayoutModel",
      "state": {
       "_model_module": "@jupyter-widgets/base",
       "_model_module_version": "2.0.0",
       "_model_name": "LayoutModel",
       "_view_count": null,
       "_view_module": "@jupyter-widgets/base",
       "_view_module_version": "2.0.0",
       "_view_name": "LayoutView",
       "align_content": null,
       "align_items": null,
       "align_self": null,
       "border_bottom": null,
       "border_left": null,
       "border_right": null,
       "border_top": null,
       "bottom": null,
       "display": null,
       "flex": null,
       "flex_flow": null,
       "grid_area": null,
       "grid_auto_columns": null,
       "grid_auto_flow": null,
       "grid_auto_rows": null,
       "grid_column": null,
       "grid_gap": null,
       "grid_row": null,
       "grid_template_areas": null,
       "grid_template_columns": null,
       "grid_template_rows": null,
       "height": null,
       "justify_content": null,
       "justify_items": null,
       "left": null,
       "margin": null,
       "max_height": null,
       "max_width": null,
       "min_height": null,
       "min_width": null,
       "object_fit": null,
       "object_position": null,
       "order": null,
       "overflow": null,
       "padding": null,
       "right": null,
       "top": null,
       "visibility": null,
       "width": null
      }
     },
     "bf2898f9df334e0e867c573717e23acb": {
      "model_module": "@jupyter-widgets/controls",
      "model_module_version": "2.0.0",
      "model_name": "HTMLModel",
      "state": {
       "_dom_classes": [],
       "_model_module": "@jupyter-widgets/controls",
       "_model_module_version": "2.0.0",
       "_model_name": "HTMLModel",
       "_view_count": null,
       "_view_module": "@jupyter-widgets/controls",
       "_view_module_version": "2.0.0",
       "_view_name": "HTMLView",
       "description": "",
       "description_allow_html": false,
       "layout": "IPY_MODEL_3b1d9db862544724975e698c25b39d6b",
       "placeholder": "​",
       "style": "IPY_MODEL_927f8698600b41e09e5a1a9eb58029ba",
       "tabbable": null,
       "tooltip": null,
       "value": "100%"
      }
     },
     "c112440d22fb4e66994e6ee4838f90ac": {
      "model_module": "@jupyter-widgets/base",
      "model_module_version": "2.0.0",
      "model_name": "LayoutModel",
      "state": {
       "_model_module": "@jupyter-widgets/base",
       "_model_module_version": "2.0.0",
       "_model_name": "LayoutModel",
       "_view_count": null,
       "_view_module": "@jupyter-widgets/base",
       "_view_module_version": "2.0.0",
       "_view_name": "LayoutView",
       "align_content": null,
       "align_items": null,
       "align_self": null,
       "border_bottom": null,
       "border_left": null,
       "border_right": null,
       "border_top": null,
       "bottom": null,
       "display": null,
       "flex": null,
       "flex_flow": null,
       "grid_area": null,
       "grid_auto_columns": null,
       "grid_auto_flow": null,
       "grid_auto_rows": null,
       "grid_column": null,
       "grid_gap": null,
       "grid_row": null,
       "grid_template_areas": null,
       "grid_template_columns": null,
       "grid_template_rows": null,
       "height": null,
       "justify_content": null,
       "justify_items": null,
       "left": null,
       "margin": null,
       "max_height": null,
       "max_width": null,
       "min_height": null,
       "min_width": null,
       "object_fit": null,
       "object_position": null,
       "order": null,
       "overflow": null,
       "padding": null,
       "right": null,
       "top": null,
       "visibility": null,
       "width": null
      }
     },
     "def7bcca7a7442aaa2ab1f1d66bba0c7": {
      "model_module": "@jupyter-widgets/controls",
      "model_module_version": "2.0.0",
      "model_name": "HTMLStyleModel",
      "state": {
       "_model_module": "@jupyter-widgets/controls",
       "_model_module_version": "2.0.0",
       "_model_name": "HTMLStyleModel",
       "_view_count": null,
       "_view_module": "@jupyter-widgets/base",
       "_view_module_version": "2.0.0",
       "_view_name": "StyleView",
       "background": null,
       "description_width": "",
       "font_size": null,
       "text_color": null
      }
     },
     "defef160a56c45c28f1d89bdb1d239de": {
      "model_module": "@jupyter-widgets/controls",
      "model_module_version": "2.0.0",
      "model_name": "HBoxModel",
      "state": {
       "_dom_classes": [],
       "_model_module": "@jupyter-widgets/controls",
       "_model_module_version": "2.0.0",
       "_model_name": "HBoxModel",
       "_view_count": null,
       "_view_module": "@jupyter-widgets/controls",
       "_view_module_version": "2.0.0",
       "_view_name": "HBoxView",
       "box_style": "",
       "children": [
        "IPY_MODEL_bf2898f9df334e0e867c573717e23acb",
        "IPY_MODEL_5c439992a7d841a7896905c02135ebd8",
        "IPY_MODEL_774474402e704d048078d426f61dbdb7"
       ],
       "layout": "IPY_MODEL_3902c8f9bea94568b47f4a48373223d3",
       "tabbable": null,
       "tooltip": null
      }
     },
     "eba6f5351d0f4dd5915e2c893aee1b14": {
      "model_module": "@jupyter-widgets/base",
      "model_module_version": "2.0.0",
      "model_name": "LayoutModel",
      "state": {
       "_model_module": "@jupyter-widgets/base",
       "_model_module_version": "2.0.0",
       "_model_name": "LayoutModel",
       "_view_count": null,
       "_view_module": "@jupyter-widgets/base",
       "_view_module_version": "2.0.0",
       "_view_name": "LayoutView",
       "align_content": null,
       "align_items": null,
       "align_self": null,
       "border_bottom": null,
       "border_left": null,
       "border_right": null,
       "border_top": null,
       "bottom": null,
       "display": null,
       "flex": null,
       "flex_flow": null,
       "grid_area": null,
       "grid_auto_columns": null,
       "grid_auto_flow": null,
       "grid_auto_rows": null,
       "grid_column": null,
       "grid_gap": null,
       "grid_row": null,
       "grid_template_areas": null,
       "grid_template_columns": null,
       "grid_template_rows": null,
       "height": null,
       "justify_content": null,
       "justify_items": null,
       "left": null,
       "margin": null,
       "max_height": null,
       "max_width": null,
       "min_height": null,
       "min_width": null,
       "object_fit": null,
       "object_position": null,
       "order": null,
       "overflow": null,
       "padding": null,
       "right": null,
       "top": null,
       "visibility": null,
       "width": null
      }
     },
     "f335331b3f8346118a439c0dc0f6c271": {
      "model_module": "@jupyter-widgets/controls",
      "model_module_version": "2.0.0",
      "model_name": "ProgressStyleModel",
      "state": {
       "_model_module": "@jupyter-widgets/controls",
       "_model_module_version": "2.0.0",
       "_model_name": "ProgressStyleModel",
       "_view_count": null,
       "_view_module": "@jupyter-widgets/base",
       "_view_module_version": "2.0.0",
       "_view_name": "StyleView",
       "bar_color": null,
       "description_width": ""
      }
     }
    },
    "version_major": 2,
    "version_minor": 0
   }
  }
 },
 "nbformat": 4,
 "nbformat_minor": 5
}
