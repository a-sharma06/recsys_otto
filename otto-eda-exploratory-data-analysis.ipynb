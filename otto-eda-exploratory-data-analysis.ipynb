{
 "cells": [
  {
   "cell_type": "markdown",
   "id": "96416f84",
   "metadata": {
    "papermill": {
     "duration": 0.008229,
     "end_time": "2025-01-13T00:36:59.963890",
     "exception": false,
     "start_time": "2025-01-13T00:36:59.955661",
     "status": "completed"
    },
    "tags": []
   },
   "source": [
    "# Exploratory Data Analysis"
   ]
  },
  {
   "cell_type": "markdown",
   "id": "8eb6c986",
   "metadata": {
    "papermill": {
     "duration": 0.007084,
     "end_time": "2025-01-13T00:36:59.978650",
     "exception": false,
     "start_time": "2025-01-13T00:36:59.971566",
     "status": "completed"
    },
    "tags": []
   },
   "source": [
    "# Intro\n",
    "\n",
    "This notebook is for exploratory data analysis of the data provided in the OTTO – Multi-Objective Recommender System project. In this notebook, we will be understanding the properties of the dataset. After understanding the data, in other notebooks we will be benchmarking various machine learning approaches for building a recommendation system."
   ]
  },
  {
   "cell_type": "markdown",
   "id": "f40c7d02",
   "metadata": {
    "papermill": {
     "duration": 0.007157,
     "end_time": "2025-01-13T00:36:59.993230",
     "exception": false,
     "start_time": "2025-01-13T00:36:59.986073",
     "status": "completed"
    },
    "tags": []
   },
   "source": [
    "# Objective\n",
    "\n",
    "The data description on the OTTO competition page on Kaggle mentions that for each `session`, we have the `ts` (time stamps), `aid` (article IDs), and `type` (event type). The `type` can be one of `clicks`, `carts`, and `orders`. The EDA in this notebook investigates the following in the training data:\n",
    "\n",
    "1. Quantification: # of rows, counts of `session`, count of `aid`\n",
    "2. Understanding User Behavior: count of unique `aid` per session (i.e. how many unique items the user is interested in), `clicks` per `session` (how much does the user browse), `carts` per `session` (how many items are added to cart), `orders` per `session` (are there multiple orders in a single session)\n",
    "3. Understanding Articles: `clicks` per `aid` (i.e. most to least clicked articles), `carts` per `aid` (which items are added to cart the most), `orders` per `aid` (are there specific articles which trigger the ordering), co-occurence of `aid` (how likely are two `aid` to co-occur in a session), transition matrix of `aid` (which article will be clicked on next)\n",
    "5. Understanding Time Spent: calculate difference of last and first `ts` as time elapsed, time elapsed per `session` (how much tiime does a user spend per session), time elapsed per `aid` (how much time is spent per article), time elapsed on an `aid` right before `carts` (how much time is spent on an article before adding to cart), time elapsed on `aid` added to cart and those `aid` not added to cart"
   ]
  },
  {
   "cell_type": "markdown",
   "id": "7a46bce0",
   "metadata": {
    "papermill": {
     "duration": 0.007156,
     "end_time": "2025-01-13T00:37:00.007781",
     "exception": false,
     "start_time": "2025-01-13T00:37:00.000625",
     "status": "completed"
    },
    "tags": []
   },
   "source": [
    "Note: The training data set is very large (~13M sessions and ~217M events). Analyzing such large data for exploratory analysis only using the resources available on Kaggle would be quite challening. Therefore, we are using sample size of 150K. Techniques for performing exploratory data analyis on large datasets includes using the `multiprocessing` or `dask` packages. Another alternative would be, `pyspark`."
   ]
  },
  {
   "cell_type": "markdown",
   "id": "866f6f06",
   "metadata": {
    "papermill": {
     "duration": 0.007099,
     "end_time": "2025-01-13T00:37:00.022327",
     "exception": false,
     "start_time": "2025-01-13T00:37:00.015228",
     "status": "completed"
    },
    "tags": []
   },
   "source": [
    "Note: As we proceed through the exploratory analysis in this notebook, our findings are summarized for each objective in cells beginning with **Findings**."
   ]
  },
  {
   "cell_type": "markdown",
   "id": "c28e6a46",
   "metadata": {
    "papermill": {
     "duration": 0.007216,
     "end_time": "2025-01-13T00:37:00.037211",
     "exception": false,
     "start_time": "2025-01-13T00:37:00.029995",
     "status": "completed"
    },
    "tags": []
   },
   "source": [
    "# References\n",
    "\n",
    "1. https://www.kaggle.com/code/edwardcrookenden/otto-getting-started-eda-baseline\n",
    "2. https://www.kaggle.com/code/inversion/read-a-chunk-of-jsonl"
   ]
  },
  {
   "cell_type": "markdown",
   "id": "1d15009e",
   "metadata": {
    "papermill": {
     "duration": 0.007139,
     "end_time": "2025-01-13T00:37:00.051712",
     "exception": false,
     "start_time": "2025-01-13T00:37:00.044573",
     "status": "completed"
    },
    "tags": []
   },
   "source": [
    "# Virtual Env Freezing"
   ]
  },
  {
   "cell_type": "markdown",
   "id": "c73f4fcc",
   "metadata": {
    "papermill": {
     "duration": 0.007844,
     "end_time": "2025-01-13T00:37:00.067055",
     "exception": false,
     "start_time": "2025-01-13T00:37:00.059211",
     "status": "completed"
    },
    "tags": []
   },
   "source": [
    "#### Freezing the virtual environment on Kaggle\n",
    "By documenting our environment, we want to ensures reproduceability."
   ]
  },
  {
   "cell_type": "code",
   "execution_count": 1,
   "id": "5b2d125f",
   "metadata": {
    "execution": {
     "iopub.execute_input": "2025-01-13T00:37:00.083552Z",
     "iopub.status.busy": "2025-01-13T00:37:00.083208Z",
     "iopub.status.idle": "2025-01-13T00:37:03.303926Z",
     "shell.execute_reply": "2025-01-13T00:37:03.302541Z"
    },
    "papermill": {
     "duration": 3.231384,
     "end_time": "2025-01-13T00:37:03.306119",
     "exception": false,
     "start_time": "2025-01-13T00:37:00.074735",
     "status": "completed"
    },
    "tags": []
   },
   "outputs": [],
   "source": [
    "!pip freeze > requirements.txt"
   ]
  },
  {
   "cell_type": "markdown",
   "id": "0a5a5751",
   "metadata": {
    "papermill": {
     "duration": 0.007342,
     "end_time": "2025-01-13T00:37:03.321242",
     "exception": false,
     "start_time": "2025-01-13T00:37:03.313900",
     "status": "completed"
    },
    "tags": []
   },
   "source": [
    "# Reading Data"
   ]
  },
  {
   "cell_type": "code",
   "execution_count": 2,
   "id": "d7160745",
   "metadata": {
    "execution": {
     "iopub.execute_input": "2025-01-13T00:37:03.337448Z",
     "iopub.status.busy": "2025-01-13T00:37:03.337077Z",
     "iopub.status.idle": "2025-01-13T00:37:05.276324Z",
     "shell.execute_reply": "2025-01-13T00:37:05.275275Z"
    },
    "papermill": {
     "duration": 1.949784,
     "end_time": "2025-01-13T00:37:05.278384",
     "exception": false,
     "start_time": "2025-01-13T00:37:03.328600",
     "status": "completed"
    },
    "tags": []
   },
   "outputs": [],
   "source": [
    "import numpy as np\n",
    "import pandas as pd\n",
    "\n",
    "import seaborn as sns\n",
    "from datetime import timedelta\n",
    "\n",
    "import os\n",
    "\n",
    "# Apply the default theme\n",
    "sns.set_theme()\n",
    "\n",
    "data_path = r\"/kaggle/input/otto-recommender-system/\""
   ]
  },
  {
   "cell_type": "code",
   "execution_count": 3,
   "id": "fcd65b72",
   "metadata": {
    "execution": {
     "iopub.execute_input": "2025-01-13T00:37:05.294723Z",
     "iopub.status.busy": "2025-01-13T00:37:05.294270Z",
     "iopub.status.idle": "2025-01-13T00:37:05.298743Z",
     "shell.execute_reply": "2025-01-13T00:37:05.297791Z"
    },
    "papermill": {
     "duration": 0.014349,
     "end_time": "2025-01-13T00:37:05.300395",
     "exception": false,
     "start_time": "2025-01-13T00:37:05.286046",
     "status": "completed"
    },
    "tags": []
   },
   "outputs": [],
   "source": [
    "import warnings\n",
    "warnings.filterwarnings(\"ignore\", \"use_inf_as_na\")"
   ]
  },
  {
   "cell_type": "code",
   "execution_count": 4,
   "id": "93522116",
   "metadata": {
    "execution": {
     "iopub.execute_input": "2025-01-13T00:37:05.316540Z",
     "iopub.status.busy": "2025-01-13T00:37:05.316198Z",
     "iopub.status.idle": "2025-01-13T00:37:22.763269Z",
     "shell.execute_reply": "2025-01-13T00:37:22.762191Z"
    },
    "papermill": {
     "duration": 17.45752,
     "end_time": "2025-01-13T00:37:22.765364",
     "exception": false,
     "start_time": "2025-01-13T00:37:05.307844",
     "status": "completed"
    },
    "tags": []
   },
   "outputs": [],
   "source": [
    "# Load in a sample to a pandas df\n",
    "\n",
    "sample_size = 150000\n",
    "\n",
    "chunks = pd.read_json(data_path+'/train.jsonl', lines=True, chunksize = sample_size)\n",
    "\n",
    "for c in chunks:\n",
    "    sample_train_df = c\n",
    "    break"
   ]
  },
  {
   "cell_type": "code",
   "execution_count": 5,
   "id": "6ef1d3fb",
   "metadata": {
    "execution": {
     "iopub.execute_input": "2025-01-13T00:37:22.781788Z",
     "iopub.status.busy": "2025-01-13T00:37:22.781441Z",
     "iopub.status.idle": "2025-01-13T00:37:22.831594Z",
     "shell.execute_reply": "2025-01-13T00:37:22.830515Z"
    },
    "papermill": {
     "duration": 0.060317,
     "end_time": "2025-01-13T00:37:22.833380",
     "exception": false,
     "start_time": "2025-01-13T00:37:22.773063",
     "status": "completed"
    },
    "tags": []
   },
   "outputs": [
    {
     "data": {
      "text/html": [
       "<div>\n",
       "<style scoped>\n",
       "    .dataframe tbody tr th:only-of-type {\n",
       "        vertical-align: middle;\n",
       "    }\n",
       "\n",
       "    .dataframe tbody tr th {\n",
       "        vertical-align: top;\n",
       "    }\n",
       "\n",
       "    .dataframe thead th {\n",
       "        text-align: right;\n",
       "    }\n",
       "</style>\n",
       "<table border=\"1\" class=\"dataframe\">\n",
       "  <thead>\n",
       "    <tr style=\"text-align: right;\">\n",
       "      <th></th>\n",
       "      <th>session</th>\n",
       "      <th>events</th>\n",
       "    </tr>\n",
       "  </thead>\n",
       "  <tbody>\n",
       "    <tr>\n",
       "      <th>0</th>\n",
       "      <td>0</td>\n",
       "      <td>[{'aid': 1517085, 'ts': 1659304800025, 'type':...</td>\n",
       "    </tr>\n",
       "    <tr>\n",
       "      <th>1</th>\n",
       "      <td>1</td>\n",
       "      <td>[{'aid': 424964, 'ts': 1659304800025, 'type': ...</td>\n",
       "    </tr>\n",
       "    <tr>\n",
       "      <th>2</th>\n",
       "      <td>2</td>\n",
       "      <td>[{'aid': 763743, 'ts': 1659304800038, 'type': ...</td>\n",
       "    </tr>\n",
       "  </tbody>\n",
       "</table>\n",
       "</div>"
      ],
      "text/plain": [
       "   session                                             events\n",
       "0        0  [{'aid': 1517085, 'ts': 1659304800025, 'type':...\n",
       "1        1  [{'aid': 424964, 'ts': 1659304800025, 'type': ...\n",
       "2        2  [{'aid': 763743, 'ts': 1659304800038, 'type': ..."
      ]
     },
     "execution_count": 5,
     "metadata": {},
     "output_type": "execute_result"
    }
   ],
   "source": [
    "sample_train_df.head(3)"
   ]
  },
  {
   "cell_type": "code",
   "execution_count": 6,
   "id": "9fc87a1b",
   "metadata": {
    "execution": {
     "iopub.execute_input": "2025-01-13T00:37:22.850120Z",
     "iopub.status.busy": "2025-01-13T00:37:22.849746Z",
     "iopub.status.idle": "2025-01-13T00:37:22.856414Z",
     "shell.execute_reply": "2025-01-13T00:37:22.855540Z"
    },
    "papermill": {
     "duration": 0.016528,
     "end_time": "2025-01-13T00:37:22.857805",
     "exception": false,
     "start_time": "2025-01-13T00:37:22.841277",
     "status": "completed"
    },
    "tags": []
   },
   "outputs": [
    {
     "data": {
      "text/plain": [
       "[{'aid': 1517085, 'ts': 1659304800025, 'type': 'clicks'},\n",
       " {'aid': 1563459, 'ts': 1659304904511, 'type': 'clicks'},\n",
       " {'aid': 1309446, 'ts': 1659367439426, 'type': 'clicks'}]"
      ]
     },
     "execution_count": 6,
     "metadata": {},
     "output_type": "execute_result"
    }
   ],
   "source": [
    "sample_train_df.loc[0, \"events\"][0:3]"
   ]
  },
  {
   "cell_type": "code",
   "execution_count": 7,
   "id": "f56c31d1",
   "metadata": {
    "execution": {
     "iopub.execute_input": "2025-01-13T00:37:22.874676Z",
     "iopub.status.busy": "2025-01-13T00:37:22.874281Z",
     "iopub.status.idle": "2025-01-13T00:37:24.322474Z",
     "shell.execute_reply": "2025-01-13T00:37:24.321243Z"
    },
    "papermill": {
     "duration": 1.458504,
     "end_time": "2025-01-13T00:37:24.324209",
     "exception": false,
     "start_time": "2025-01-13T00:37:22.865705",
     "status": "completed"
    },
    "tags": []
   },
   "outputs": [
    {
     "data": {
      "text/html": [
       "<div>\n",
       "<style scoped>\n",
       "    .dataframe tbody tr th:only-of-type {\n",
       "        vertical-align: middle;\n",
       "    }\n",
       "\n",
       "    .dataframe tbody tr th {\n",
       "        vertical-align: top;\n",
       "    }\n",
       "\n",
       "    .dataframe thead th {\n",
       "        text-align: right;\n",
       "    }\n",
       "</style>\n",
       "<table border=\"1\" class=\"dataframe\">\n",
       "  <thead>\n",
       "    <tr style=\"text-align: right;\">\n",
       "      <th></th>\n",
       "      <th>session</th>\n",
       "      <th>events</th>\n",
       "    </tr>\n",
       "  </thead>\n",
       "  <tbody>\n",
       "    <tr>\n",
       "      <th>0</th>\n",
       "      <td>0</td>\n",
       "      <td>{'aid': 1517085, 'ts': 1659304800025, 'type': ...</td>\n",
       "    </tr>\n",
       "    <tr>\n",
       "      <th>1</th>\n",
       "      <td>0</td>\n",
       "      <td>{'aid': 1563459, 'ts': 1659304904511, 'type': ...</td>\n",
       "    </tr>\n",
       "    <tr>\n",
       "      <th>2</th>\n",
       "      <td>0</td>\n",
       "      <td>{'aid': 1309446, 'ts': 1659367439426, 'type': ...</td>\n",
       "    </tr>\n",
       "  </tbody>\n",
       "</table>\n",
       "</div>"
      ],
      "text/plain": [
       "   session                                             events\n",
       "0        0  {'aid': 1517085, 'ts': 1659304800025, 'type': ...\n",
       "1        0  {'aid': 1563459, 'ts': 1659304904511, 'type': ...\n",
       "2        0  {'aid': 1309446, 'ts': 1659367439426, 'type': ..."
      ]
     },
     "execution_count": 7,
     "metadata": {},
     "output_type": "execute_result"
    }
   ],
   "source": [
    "# Expand the 'events' column into individual rows\n",
    "expanded_df = sample_train_df.explode('events').reset_index(drop=True)\n",
    "expanded_df.head(3)"
   ]
  },
  {
   "cell_type": "code",
   "execution_count": 8,
   "id": "599e88f3",
   "metadata": {
    "execution": {
     "iopub.execute_input": "2025-01-13T00:37:24.341758Z",
     "iopub.status.busy": "2025-01-13T00:37:24.341379Z",
     "iopub.status.idle": "2025-01-13T00:37:54.681759Z",
     "shell.execute_reply": "2025-01-13T00:37:54.680703Z"
    },
    "papermill": {
     "duration": 30.358181,
     "end_time": "2025-01-13T00:37:54.690527",
     "exception": false,
     "start_time": "2025-01-13T00:37:24.332346",
     "status": "completed"
    },
    "tags": []
   },
   "outputs": [
    {
     "data": {
      "text/html": [
       "<div>\n",
       "<style scoped>\n",
       "    .dataframe tbody tr th:only-of-type {\n",
       "        vertical-align: middle;\n",
       "    }\n",
       "\n",
       "    .dataframe tbody tr th {\n",
       "        vertical-align: top;\n",
       "    }\n",
       "\n",
       "    .dataframe thead th {\n",
       "        text-align: right;\n",
       "    }\n",
       "</style>\n",
       "<table border=\"1\" class=\"dataframe\">\n",
       "  <thead>\n",
       "    <tr style=\"text-align: right;\">\n",
       "      <th></th>\n",
       "      <th>session</th>\n",
       "      <th>aid</th>\n",
       "      <th>ts</th>\n",
       "      <th>type</th>\n",
       "    </tr>\n",
       "  </thead>\n",
       "  <tbody>\n",
       "    <tr>\n",
       "      <th>0</th>\n",
       "      <td>0</td>\n",
       "      <td>1517085</td>\n",
       "      <td>1659304800025</td>\n",
       "      <td>clicks</td>\n",
       "    </tr>\n",
       "    <tr>\n",
       "      <th>1</th>\n",
       "      <td>0</td>\n",
       "      <td>1563459</td>\n",
       "      <td>1659304904511</td>\n",
       "      <td>clicks</td>\n",
       "    </tr>\n",
       "    <tr>\n",
       "      <th>2</th>\n",
       "      <td>0</td>\n",
       "      <td>1309446</td>\n",
       "      <td>1659367439426</td>\n",
       "      <td>clicks</td>\n",
       "    </tr>\n",
       "  </tbody>\n",
       "</table>\n",
       "</div>"
      ],
      "text/plain": [
       "   session      aid             ts    type\n",
       "0        0  1517085  1659304800025  clicks\n",
       "1        0  1563459  1659304904511  clicks\n",
       "2        0  1309446  1659367439426  clicks"
      ]
     },
     "execution_count": 8,
     "metadata": {},
     "output_type": "execute_result"
    }
   ],
   "source": [
    "# Convert the dictionaries in 'events' column into separate columns\n",
    "expanded_df[[\"aid\", \"ts\", \"type\"]] = pd.json_normalize(expanded_df['events'])\n",
    "expanded_df = expanded_df.drop('events', axis=1)\n",
    "expanded_df.head(3)"
   ]
  },
  {
   "cell_type": "code",
   "execution_count": 9,
   "id": "3f3b1588",
   "metadata": {
    "execution": {
     "iopub.execute_input": "2025-01-13T00:37:54.707635Z",
     "iopub.status.busy": "2025-01-13T00:37:54.707305Z",
     "iopub.status.idle": "2025-01-13T00:37:54.712578Z",
     "shell.execute_reply": "2025-01-13T00:37:54.711678Z"
    },
    "papermill": {
     "duration": 0.015828,
     "end_time": "2025-01-13T00:37:54.714162",
     "exception": false,
     "start_time": "2025-01-13T00:37:54.698334",
     "status": "completed"
    },
    "tags": []
   },
   "outputs": [
    {
     "data": {
      "text/plain": [
       "(7841827, 4)"
      ]
     },
     "execution_count": 9,
     "metadata": {},
     "output_type": "execute_result"
    }
   ],
   "source": [
    "expanded_df.shape"
   ]
  },
  {
   "cell_type": "markdown",
   "id": "5ea40000",
   "metadata": {
    "papermill": {
     "duration": 0.007958,
     "end_time": "2025-01-13T00:37:54.730339",
     "exception": false,
     "start_time": "2025-01-13T00:37:54.722381",
     "status": "completed"
    },
    "tags": []
   },
   "source": [
    "# Quantification"
   ]
  },
  {
   "cell_type": "markdown",
   "id": "babac398",
   "metadata": {
    "papermill": {
     "duration": 0.007906,
     "end_time": "2025-01-13T00:37:54.746368",
     "exception": false,
     "start_time": "2025-01-13T00:37:54.738462",
     "status": "completed"
    },
    "tags": []
   },
   "source": [
    "### # of rows"
   ]
  },
  {
   "cell_type": "code",
   "execution_count": 10,
   "id": "ddf736c3",
   "metadata": {
    "execution": {
     "iopub.execute_input": "2025-01-13T00:37:54.763998Z",
     "iopub.status.busy": "2025-01-13T00:37:54.763588Z",
     "iopub.status.idle": "2025-01-13T00:37:54.767681Z",
     "shell.execute_reply": "2025-01-13T00:37:54.766438Z"
    },
    "papermill": {
     "duration": 0.014965,
     "end_time": "2025-01-13T00:37:54.769472",
     "exception": false,
     "start_time": "2025-01-13T00:37:54.754507",
     "status": "completed"
    },
    "tags": []
   },
   "outputs": [],
   "source": [
    "# %%time \n",
    "\n",
    "# num_lines = sum(1 for line in open(data_path+'/train.jsonl'))\n",
    "# print(f'number of lines in train: {num_lines:,}')"
   ]
  },
  {
   "cell_type": "code",
   "execution_count": 11,
   "id": "0488c225",
   "metadata": {
    "execution": {
     "iopub.execute_input": "2025-01-13T00:37:54.787248Z",
     "iopub.status.busy": "2025-01-13T00:37:54.786846Z",
     "iopub.status.idle": "2025-01-13T00:37:54.845400Z",
     "shell.execute_reply": "2025-01-13T00:37:54.843921Z"
    },
    "papermill": {
     "duration": 0.069752,
     "end_time": "2025-01-13T00:37:54.847356",
     "exception": false,
     "start_time": "2025-01-13T00:37:54.777604",
     "status": "completed"
    },
    "tags": []
   },
   "outputs": [
    {
     "name": "stdout",
     "output_type": "stream",
     "text": [
      "number of sessions in the sample of training data: 150,000\n"
     ]
    }
   ],
   "source": [
    "print(f'number of sessions in the sample of training data: {len(expanded_df[\"session\"].unique()):,}')"
   ]
  },
  {
   "cell_type": "code",
   "execution_count": 12,
   "id": "db48e9d3",
   "metadata": {
    "execution": {
     "iopub.execute_input": "2025-01-13T00:37:54.865202Z",
     "iopub.status.busy": "2025-01-13T00:37:54.864805Z",
     "iopub.status.idle": "2025-01-13T00:37:55.052990Z",
     "shell.execute_reply": "2025-01-13T00:37:55.051813Z"
    },
    "papermill": {
     "duration": 0.199154,
     "end_time": "2025-01-13T00:37:55.054790",
     "exception": false,
     "start_time": "2025-01-13T00:37:54.855636",
     "status": "completed"
    },
    "tags": []
   },
   "outputs": [
    {
     "name": "stdout",
     "output_type": "stream",
     "text": [
      "number of aid in the sample of training data: 830,140\n"
     ]
    }
   ],
   "source": [
    "print(f'number of aid in the sample of training data: {len(expanded_df[\"aid\"].unique()):,}')"
   ]
  },
  {
   "cell_type": "markdown",
   "id": "3c7423a9",
   "metadata": {
    "papermill": {
     "duration": 0.008671,
     "end_time": "2025-01-13T00:37:55.071797",
     "exception": false,
     "start_time": "2025-01-13T00:37:55.063126",
     "status": "completed"
    },
    "tags": []
   },
   "source": [
    "# Understanding User Behavior"
   ]
  },
  {
   "cell_type": "markdown",
   "id": "39203b68",
   "metadata": {
    "papermill": {
     "duration": 0.008005,
     "end_time": "2025-01-13T00:37:55.087991",
     "exception": false,
     "start_time": "2025-01-13T00:37:55.079986",
     "status": "completed"
    },
    "tags": []
   },
   "source": [
    "### Count of unique aid per session\n",
    "\n",
    "How many unique items the user is interested in?"
   ]
  },
  {
   "cell_type": "code",
   "execution_count": 13,
   "id": "ff505a96",
   "metadata": {
    "execution": {
     "iopub.execute_input": "2025-01-13T00:37:55.106487Z",
     "iopub.status.busy": "2025-01-13T00:37:55.106104Z",
     "iopub.status.idle": "2025-01-13T00:37:57.924339Z",
     "shell.execute_reply": "2025-01-13T00:37:57.923161Z"
    },
    "papermill": {
     "duration": 2.830044,
     "end_time": "2025-01-13T00:37:57.926414",
     "exception": false,
     "start_time": "2025-01-13T00:37:55.096370",
     "status": "completed"
    },
    "tags": []
   },
   "outputs": [],
   "source": [
    "naid_per_session = (\n",
    "    expanded_df\n",
    "    .groupby([\"session\"])\n",
    "    [\"aid\"]\n",
    "    .nunique()\n",
    "    .reset_index()\n",
    ")"
   ]
  },
  {
   "cell_type": "code",
   "execution_count": 14,
   "id": "fba55c7c",
   "metadata": {
    "execution": {
     "iopub.execute_input": "2025-01-13T00:37:57.944396Z",
     "iopub.status.busy": "2025-01-13T00:37:57.944003Z",
     "iopub.status.idle": "2025-01-13T00:37:57.950965Z",
     "shell.execute_reply": "2025-01-13T00:37:57.950102Z"
    },
    "papermill": {
     "duration": 0.017813,
     "end_time": "2025-01-13T00:37:57.952610",
     "exception": false,
     "start_time": "2025-01-13T00:37:57.934797",
     "status": "completed"
    },
    "tags": []
   },
   "outputs": [
    {
     "data": {
      "text/plain": [
       "(1, 460)"
      ]
     },
     "execution_count": 14,
     "metadata": {},
     "output_type": "execute_result"
    }
   ],
   "source": [
    "naid_per_session[\"aid\"].min(), naid_per_session[\"aid\"].max()"
   ]
  },
  {
   "cell_type": "code",
   "execution_count": 15,
   "id": "0f4c6afc",
   "metadata": {
    "execution": {
     "iopub.execute_input": "2025-01-13T00:37:57.971066Z",
     "iopub.status.busy": "2025-01-13T00:37:57.970659Z",
     "iopub.status.idle": "2025-01-13T00:37:57.982007Z",
     "shell.execute_reply": "2025-01-13T00:37:57.980983Z"
    },
    "papermill": {
     "duration": 0.022474,
     "end_time": "2025-01-13T00:37:57.983677",
     "exception": false,
     "start_time": "2025-01-13T00:37:57.961203",
     "status": "completed"
    },
    "tags": []
   },
   "outputs": [
    {
     "data": {
      "text/plain": [
       "aid\n",
       "2     15381\n",
       "3     10858\n",
       "4      8256\n",
       "5      6743\n",
       "6      5704\n",
       "1      5332\n",
       "7      4869\n",
       "8      4443\n",
       "9      3838\n",
       "10     3478\n",
       "11     3172\n",
       "12     2979\n",
       "13     2792\n",
       "14     2473\n",
       "15     2344\n",
       "16     2291\n",
       "17     2075\n",
       "18     1935\n",
       "19     1768\n",
       "20     1707\n",
       "Name: count, dtype: int64"
      ]
     },
     "execution_count": 15,
     "metadata": {},
     "output_type": "execute_result"
    }
   ],
   "source": [
    "naid_per_session[\"aid\"].value_counts()[0:20]"
   ]
  },
  {
   "cell_type": "code",
   "execution_count": 16,
   "id": "dc913b1e",
   "metadata": {
    "execution": {
     "iopub.execute_input": "2025-01-13T00:37:58.001828Z",
     "iopub.status.busy": "2025-01-13T00:37:58.001475Z",
     "iopub.status.idle": "2025-01-13T00:37:59.175799Z",
     "shell.execute_reply": "2025-01-13T00:37:59.174619Z"
    },
    "papermill": {
     "duration": 1.185438,
     "end_time": "2025-01-13T00:37:59.177634",
     "exception": false,
     "start_time": "2025-01-13T00:37:57.992196",
     "status": "completed"
    },
    "tags": []
   },
   "outputs": [
    {
     "data": {
      "text/plain": [
       "<seaborn.axisgrid.FacetGrid at 0x7eeb73768b50>"
      ]
     },
     "execution_count": 16,
     "metadata": {},
     "output_type": "execute_result"
    },
    {
     "data": {
      "image/png": "[encoded data removed]",
      "text/plain": [
       "<Figure size 450x300 with 1 Axes>"
      ]
     },
     "metadata": {},
     "output_type": "display_data"
    }
   ],
   "source": [
    "(\n",
    "    sns.displot(data=naid_per_session, x='aid', log_scale=True, height=3, aspect=1.5)\n",
    "    .set(\n",
    "        title='Log Distribution of Count of aids per session',\n",
    "    )\n",
    ")"
   ]
  },
  {
   "cell_type": "markdown",
   "id": "9907f2f1",
   "metadata": {
    "papermill": {
     "duration": 0.008586,
     "end_time": "2025-01-13T00:37:59.195474",
     "exception": false,
     "start_time": "2025-01-13T00:37:59.186888",
     "status": "completed"
    },
    "tags": []
   },
   "source": [
    "**Findings**\n",
    "1. The least number of products looked at by the user is 1. The most is 460.\n",
    "2. Most users look at 2 products, followed by 3, 4, 5 and 6 products. \n",
    "3. The next highest number of products viewed by the user is 1 product."
   ]
  },
  {
   "cell_type": "markdown",
   "id": "3510685f",
   "metadata": {
    "papermill": {
     "duration": 0.008614,
     "end_time": "2025-01-13T00:37:59.213503",
     "exception": false,
     "start_time": "2025-01-13T00:37:59.204889",
     "status": "completed"
    },
    "tags": []
   },
   "source": [
    "### Clicks per session\n",
    "\n",
    "How much does the user browse?"
   ]
  },
  {
   "cell_type": "code",
   "execution_count": 17,
   "id": "74331369",
   "metadata": {
    "execution": {
     "iopub.execute_input": "2025-01-13T00:37:59.233107Z",
     "iopub.status.busy": "2025-01-13T00:37:59.232623Z",
     "iopub.status.idle": "2025-01-13T00:38:01.181133Z",
     "shell.execute_reply": "2025-01-13T00:38:01.180087Z"
    },
    "papermill": {
     "duration": 1.96041,
     "end_time": "2025-01-13T00:38:01.183276",
     "exception": false,
     "start_time": "2025-01-13T00:37:59.222866",
     "status": "completed"
    },
    "tags": []
   },
   "outputs": [],
   "source": [
    "nclicks_per_session = (\n",
    "    expanded_df\n",
    "    .loc[expanded_df[\"type\"]==\"clicks\"]\n",
    "    .groupby([\"session\"])\n",
    "    [\"type\"]\n",
    "    .count()\n",
    "    .reset_index()\n",
    ")"
   ]
  },
  {
   "cell_type": "code",
   "execution_count": 18,
   "id": "a4f9b5a2",
   "metadata": {
    "execution": {
     "iopub.execute_input": "2025-01-13T00:38:01.202828Z",
     "iopub.status.busy": "2025-01-13T00:38:01.202475Z",
     "iopub.status.idle": "2025-01-13T00:38:01.209476Z",
     "shell.execute_reply": "2025-01-13T00:38:01.208478Z"
    },
    "papermill": {
     "duration": 0.018514,
     "end_time": "2025-01-13T00:38:01.211002",
     "exception": false,
     "start_time": "2025-01-13T00:38:01.192488",
     "status": "completed"
    },
    "tags": []
   },
   "outputs": [
    {
     "data": {
      "text/plain": [
       "(2, 493)"
      ]
     },
     "execution_count": 18,
     "metadata": {},
     "output_type": "execute_result"
    }
   ],
   "source": [
    "nclicks_per_session[\"type\"].min(), nclicks_per_session[\"type\"].max()"
   ]
  },
  {
   "cell_type": "code",
   "execution_count": 19,
   "id": "2b0702ec",
   "metadata": {
    "execution": {
     "iopub.execute_input": "2025-01-13T00:38:01.230605Z",
     "iopub.status.busy": "2025-01-13T00:38:01.230252Z",
     "iopub.status.idle": "2025-01-13T00:38:01.238616Z",
     "shell.execute_reply": "2025-01-13T00:38:01.237627Z"
    },
    "papermill": {
     "duration": 0.019619,
     "end_time": "2025-01-13T00:38:01.239961",
     "exception": false,
     "start_time": "2025-01-13T00:38:01.220342",
     "status": "completed"
    },
    "tags": []
   },
   "outputs": [
    {
     "data": {
      "text/plain": [
       "type\n",
       "2     13509\n",
       "3      9750\n",
       "4      7612\n",
       "5      6149\n",
       "6      5194\n",
       "7      4409\n",
       "8      4167\n",
       "9      3567\n",
       "10     3235\n",
       "11     2937\n",
       "12     2641\n",
       "13     2617\n",
       "14     2460\n",
       "15     2191\n",
       "16     2115\n",
       "17     1954\n",
       "18     1811\n",
       "20     1770\n",
       "19     1759\n",
       "21     1583\n",
       "Name: count, dtype: int64"
      ]
     },
     "execution_count": 19,
     "metadata": {},
     "output_type": "execute_result"
    }
   ],
   "source": [
    "nclicks_per_session[\"type\"].value_counts()[0:20]"
   ]
  },
  {
   "cell_type": "code",
   "execution_count": 20,
   "id": "4afc3db2",
   "metadata": {
    "execution": {
     "iopub.execute_input": "2025-01-13T00:38:01.259841Z",
     "iopub.status.busy": "2025-01-13T00:38:01.259444Z",
     "iopub.status.idle": "2025-01-13T00:38:02.179510Z",
     "shell.execute_reply": "2025-01-13T00:38:02.178386Z"
    },
    "papermill": {
     "duration": 0.931977,
     "end_time": "2025-01-13T00:38:02.181346",
     "exception": false,
     "start_time": "2025-01-13T00:38:01.249369",
     "status": "completed"
    },
    "tags": []
   },
   "outputs": [
    {
     "data": {
      "text/plain": [
       "<seaborn.axisgrid.FacetGrid at 0x7eeb56308190>"
      ]
     },
     "execution_count": 20,
     "metadata": {},
     "output_type": "execute_result"
    },
    {
     "data": {
      "image/png": "[encoded data removed]",
      "text/plain": [
       "<Figure size 450x300 with 1 Axes>"
      ]
     },
     "metadata": {},
     "output_type": "display_data"
    }
   ],
   "source": [
    "(\n",
    "    sns.displot(data=nclicks_per_session, x='type', log_scale=True, height=3, aspect=1.5)\n",
    "    .set(\n",
    "        title='Log Distribution of Clicks per session',\n",
    "    )\n",
    ")"
   ]
  },
  {
   "cell_type": "markdown",
   "id": "de870be8",
   "metadata": {
    "papermill": {
     "duration": 0.009624,
     "end_time": "2025-01-13T00:38:02.201156",
     "exception": false,
     "start_time": "2025-01-13T00:38:02.191532",
     "status": "completed"
    },
    "tags": []
   },
   "source": [
    "**Findings**:\n",
    "1. Minimum number of clicks in a session is 2, maximum is 493.\n",
    "2. Most user click at least twice.\n",
    "3. The distrubtion is very similar to that of the number of articles."
   ]
  },
  {
   "cell_type": "markdown",
   "id": "a0f5bf61",
   "metadata": {
    "papermill": {
     "duration": 0.009895,
     "end_time": "2025-01-13T00:38:02.221560",
     "exception": false,
     "start_time": "2025-01-13T00:38:02.211665",
     "status": "completed"
    },
    "tags": []
   },
   "source": [
    "### Carts per session \n",
    "\n",
    "How many items are added to cart?"
   ]
  },
  {
   "cell_type": "code",
   "execution_count": 21,
   "id": "15b7248f",
   "metadata": {
    "execution": {
     "iopub.execute_input": "2025-01-13T00:38:02.242311Z",
     "iopub.status.busy": "2025-01-13T00:38:02.241893Z",
     "iopub.status.idle": "2025-01-13T00:38:03.115743Z",
     "shell.execute_reply": "2025-01-13T00:38:03.114484Z"
    },
    "papermill": {
     "duration": 0.88654,
     "end_time": "2025-01-13T00:38:03.117771",
     "exception": false,
     "start_time": "2025-01-13T00:38:02.231231",
     "status": "completed"
    },
    "tags": []
   },
   "outputs": [],
   "source": [
    "ncarts_per_session = (\n",
    "    expanded_df\n",
    "    .loc[expanded_df[\"type\"]==\"carts\"]\n",
    "    .groupby([\"session\"])\n",
    "    [\"type\"]\n",
    "    .count()\n",
    "    .reset_index()\n",
    ")"
   ]
  },
  {
   "cell_type": "code",
   "execution_count": 22,
   "id": "e02f3f48",
   "metadata": {
    "execution": {
     "iopub.execute_input": "2025-01-13T00:38:03.138991Z",
     "iopub.status.busy": "2025-01-13T00:38:03.138559Z",
     "iopub.status.idle": "2025-01-13T00:38:03.147480Z",
     "shell.execute_reply": "2025-01-13T00:38:03.146255Z"
    },
    "papermill": {
     "duration": 0.021264,
     "end_time": "2025-01-13T00:38:03.149170",
     "exception": false,
     "start_time": "2025-01-13T00:38:03.127906",
     "status": "completed"
    },
    "tags": []
   },
   "outputs": [
    {
     "data": {
      "text/html": [
       "<div>\n",
       "<style scoped>\n",
       "    .dataframe tbody tr th:only-of-type {\n",
       "        vertical-align: middle;\n",
       "    }\n",
       "\n",
       "    .dataframe tbody tr th {\n",
       "        vertical-align: top;\n",
       "    }\n",
       "\n",
       "    .dataframe thead th {\n",
       "        text-align: right;\n",
       "    }\n",
       "</style>\n",
       "<table border=\"1\" class=\"dataframe\">\n",
       "  <thead>\n",
       "    <tr style=\"text-align: right;\">\n",
       "      <th></th>\n",
       "      <th>session</th>\n",
       "      <th>type</th>\n",
       "    </tr>\n",
       "  </thead>\n",
       "  <tbody>\n",
       "    <tr>\n",
       "      <th>0</th>\n",
       "      <td>0</td>\n",
       "      <td>17</td>\n",
       "    </tr>\n",
       "    <tr>\n",
       "      <th>1</th>\n",
       "      <td>1</td>\n",
       "      <td>8</td>\n",
       "    </tr>\n",
       "    <tr>\n",
       "      <th>2</th>\n",
       "      <td>2</td>\n",
       "      <td>1</td>\n",
       "    </tr>\n",
       "  </tbody>\n",
       "</table>\n",
       "</div>"
      ],
      "text/plain": [
       "   session  type\n",
       "0        0    17\n",
       "1        1     8\n",
       "2        2     1"
      ]
     },
     "execution_count": 22,
     "metadata": {},
     "output_type": "execute_result"
    }
   ],
   "source": [
    "ncarts_per_session.head(3)"
   ]
  },
  {
   "cell_type": "code",
   "execution_count": 23,
   "id": "a7c1bd48",
   "metadata": {
    "execution": {
     "iopub.execute_input": "2025-01-13T00:38:03.170499Z",
     "iopub.status.busy": "2025-01-13T00:38:03.170155Z",
     "iopub.status.idle": "2025-01-13T00:38:03.176651Z",
     "shell.execute_reply": "2025-01-13T00:38:03.175720Z"
    },
    "papermill": {
     "duration": 0.019028,
     "end_time": "2025-01-13T00:38:03.178305",
     "exception": false,
     "start_time": "2025-01-13T00:38:03.159277",
     "status": "completed"
    },
    "tags": []
   },
   "outputs": [
    {
     "data": {
      "text/plain": [
       "(1, 399)"
      ]
     },
     "execution_count": 23,
     "metadata": {},
     "output_type": "execute_result"
    }
   ],
   "source": [
    "ncarts_per_session[\"type\"].min(), ncarts_per_session[\"type\"].max()"
   ]
  },
  {
   "cell_type": "code",
   "execution_count": 24,
   "id": "4ed738bf",
   "metadata": {
    "execution": {
     "iopub.execute_input": "2025-01-13T00:38:03.199808Z",
     "iopub.status.busy": "2025-01-13T00:38:03.199377Z",
     "iopub.status.idle": "2025-01-13T00:38:03.207590Z",
     "shell.execute_reply": "2025-01-13T00:38:03.206587Z"
    },
    "papermill": {
     "duration": 0.020534,
     "end_time": "2025-01-13T00:38:03.209073",
     "exception": false,
     "start_time": "2025-01-13T00:38:03.188539",
     "status": "completed"
    },
    "tags": []
   },
   "outputs": [
    {
     "data": {
      "text/plain": [
       "type\n",
       "1     15668\n",
       "2      9568\n",
       "3      6759\n",
       "4      5195\n",
       "5      4167\n",
       "6      3507\n",
       "7      2861\n",
       "8      2429\n",
       "9      2110\n",
       "10     1878\n",
       "11     1579\n",
       "12     1449\n",
       "13     1216\n",
       "14     1125\n",
       "15      997\n",
       "16      873\n",
       "17      768\n",
       "18      744\n",
       "19      618\n",
       "20      580\n",
       "Name: count, dtype: int64"
      ]
     },
     "execution_count": 24,
     "metadata": {},
     "output_type": "execute_result"
    }
   ],
   "source": [
    "ncarts_per_session[\"type\"].value_counts()[0:20]"
   ]
  },
  {
   "cell_type": "code",
   "execution_count": 25,
   "id": "ffc1e4ce",
   "metadata": {
    "execution": {
     "iopub.execute_input": "2025-01-13T00:38:03.231216Z",
     "iopub.status.busy": "2025-01-13T00:38:03.230805Z",
     "iopub.status.idle": "2025-01-13T00:38:03.239005Z",
     "shell.execute_reply": "2025-01-13T00:38:03.238166Z"
    },
    "papermill": {
     "duration": 0.02111,
     "end_time": "2025-01-13T00:38:03.240443",
     "exception": false,
     "start_time": "2025-01-13T00:38:03.219333",
     "status": "completed"
    },
    "tags": []
   },
   "outputs": [
    {
     "data": {
      "text/plain": [
       "0.956216377764495"
      ]
     },
     "execution_count": 25,
     "metadata": {},
     "output_type": "execute_result"
    }
   ],
   "source": [
    "(\n",
    "    ncarts_per_session[\"type\"].value_counts()[0:3].sum()\n",
    "    /\n",
    "    ncarts_per_session[\"type\"].value_counts()[4:].sum()\n",
    ")"
   ]
  },
  {
   "cell_type": "code",
   "execution_count": 26,
   "id": "9516f073",
   "metadata": {
    "execution": {
     "iopub.execute_input": "2025-01-13T00:38:03.262144Z",
     "iopub.status.busy": "2025-01-13T00:38:03.261711Z",
     "iopub.status.idle": "2025-01-13T00:38:04.302568Z",
     "shell.execute_reply": "2025-01-13T00:38:04.301432Z"
    },
    "papermill": {
     "duration": 1.053922,
     "end_time": "2025-01-13T00:38:04.304501",
     "exception": false,
     "start_time": "2025-01-13T00:38:03.250579",
     "status": "completed"
    },
    "tags": []
   },
   "outputs": [
    {
     "data": {
      "text/plain": [
       "<seaborn.axisgrid.FacetGrid at 0x7eeae53dc400>"
      ]
     },
     "execution_count": 26,
     "metadata": {},
     "output_type": "execute_result"
    },
    {
     "data": {
      "image/png": "[encoded data removed]",
      "text/plain": [
       "<Figure size 450x300 with 1 Axes>"
      ]
     },
     "metadata": {},
     "output_type": "display_data"
    }
   ],
   "source": [
    "(\n",
    "    sns.displot(data=ncarts_per_session, x='type', log_scale=True, height=3, aspect=1.5)\n",
    "    .set(\n",
    "        title='Log Distribution of Carts per session',\n",
    "    )\n",
    ")"
   ]
  },
  {
   "cell_type": "markdown",
   "id": "663ac395",
   "metadata": {
    "papermill": {
     "duration": 0.010418,
     "end_time": "2025-01-13T00:38:04.325830",
     "exception": false,
     "start_time": "2025-01-13T00:38:04.315412",
     "status": "completed"
    },
    "tags": []
   },
   "source": [
    "**Findings**:\n",
    "1. Most users add 1 article to card, followed by 2 and 3 articles.\n",
    "2. The max number of items added to card are 399.\n",
    "3. The number of users adding 1 and 2 or 3 articles to card is about the same as the users adding 4 or more articles to cart."
   ]
  },
  {
   "cell_type": "code",
   "execution_count": null,
   "id": "1c1ec73b",
   "metadata": {
    "papermill": {
     "duration": 0.010504,
     "end_time": "2025-01-13T00:38:04.347554",
     "exception": false,
     "start_time": "2025-01-13T00:38:04.337050",
     "status": "completed"
    },
    "tags": []
   },
   "outputs": [],
   "source": []
  }
 ],
 "metadata": {
  "kaggle": {
   "accelerator": "none",
   "dataSources": [
    {
     "databundleVersionId": 4493939,
     "sourceId": 38760,
     "sourceType": "competition"
    }
   ],
   "dockerImageVersionId": 30822,
   "isGpuEnabled": false,
   "isInternetEnabled": true,
   "language": "python",
   "sourceType": "notebook"
  },
  "kernelspec": {
   "display_name": "Python 3",
   "language": "python",
   "name": "python3"
  },
  "language_info": {
   "codemirror_mode": {
    "name": "ipython",
    "version": 3
   },
   "file_extension": ".py",
   "mimetype": "text/x-python",
   "name": "python",
   "nbconvert_exporter": "python",
   "pygments_lexer": "ipython3",
   "version": "3.10.12"
  },
  "papermill": {
   "default_parameters": {},
   "duration": 69.237419,
   "end_time": "2025-01-13T00:38:06.977214",
   "environment_variables": {},
   "exception": null,
   "input_path": "__notebook__.ipynb",
   "output_path": "__notebook__.ipynb",
   "parameters": {},
   "start_time": "2025-01-13T00:36:57.739795",
   "version": "2.6.0"
  }
 },
 "nbformat": 4,
 "nbformat_minor": 5
}
