{
 "cells": [
  {
   "cell_type": "markdown",
   "id": "7d2795c5",
   "metadata": {
    "papermill": {
     "duration": 0.020529,
     "end_time": "2025-02-12T06:28:04.734286",
     "exception": false,
     "start_time": "2025-02-12T06:28:04.713757",
     "status": "completed"
    },
    "tags": []
   },
   "source": [
    "# Exploratory Data Analysis"
   ]
  },
  {
   "cell_type": "markdown",
   "id": "424d65f5",
   "metadata": {
    "papermill": {
     "duration": 0.018534,
     "end_time": "2025-02-12T06:28:04.770713",
     "exception": false,
     "start_time": "2025-02-12T06:28:04.752179",
     "status": "completed"
    },
    "tags": []
   },
   "source": [
    "# Intro\n",
    "\n",
    "This notebook is for exploratory data analysis of the data provided in the OTTO – Multi-Objective Recommender System project. In this notebook, we will be understanding the properties of the dataset. After understanding the data, in other notebooks we will be benchmarking various machine learning approaches for building a recommendation system."
   ]
  },
  {
   "cell_type": "markdown",
   "id": "3bc17f0c",
   "metadata": {
    "papermill": {
     "duration": 0.01951,
     "end_time": "2025-02-12T06:28:04.808941",
     "exception": false,
     "start_time": "2025-02-12T06:28:04.789431",
     "status": "completed"
    },
    "tags": []
   },
   "source": [
    "# Objective\n",
    "\n",
    "The data description on the OTTO competition page on Kaggle mentions that for each `session`, we have the `ts` (time stamps), `aid` (article IDs), and `type` (event type). The `type` can be one of `clicks`, `carts`, and `orders`. The EDA in this notebook investigates the following in the training data:\n",
    "\n",
    "1. Quantification: # of rows, counts of `session`, count of `aid`\n",
    "2. Understanding User Behavior: count of unique `aid` per session (i.e. how many unique items the user is interested in), `clicks` per `session` (how much does the user browse), `carts` per `session` (how many items are added to cart), `orders` per `session` (are there multiple orders in a single session)\n",
    "3. Understanding Articles: `clicks` per `aid` (i.e. most to least clicked articles), `carts` per `aid` (which items are added to cart the most), `orders` per `aid` (are there specific articles which trigger the ordering), co-occurence of `aid` (how likely are two `aid` to co-occur in a session), transition matrix of `aid` (which article will be clicked on next)\n",
    "5. Understanding Time Spent: calculate difference of last and first `ts` as time elapsed, time elapsed per `session` (how much tiime does a user spend per session), time elapsed per `aid` (how much time is spent per article), time elapsed on an `aid` right before `carts` (how much time is spent on an article before adding to cart), time elapsed on `aid` added to cart and those `aid` not added to cart"
   ]
  },
  {
   "cell_type": "markdown",
   "id": "2d0053a9",
   "metadata": {
    "papermill": {
     "duration": 0.01837,
     "end_time": "2025-02-12T06:28:04.845840",
     "exception": false,
     "start_time": "2025-02-12T06:28:04.827470",
     "status": "completed"
    },
    "tags": []
   },
   "source": [
    "Note: The training data set is very large (~13M sessions and ~217M events). Analyzing such large data for exploratory analysis only using the resources available on Kaggle would be quite challening. Therefore, we are using sample size of 150K. Techniques for performing exploratory data analyis on large datasets includes using the `multiprocessing` or `dask` packages. Another alternative would be, `pyspark`."
   ]
  },
  {
   "cell_type": "markdown",
   "id": "a1b1f840",
   "metadata": {
    "papermill": {
     "duration": 0.018982,
     "end_time": "2025-02-12T06:28:04.883191",
     "exception": false,
     "start_time": "2025-02-12T06:28:04.864209",
     "status": "completed"
    },
    "tags": []
   },
   "source": [
    "Note: As we proceed through the exploratory analysis in this notebook, our findings are summarized for each objective in cells beginning with **Findings**."
   ]
  },
  {
   "cell_type": "markdown",
   "id": "2035f0a3",
   "metadata": {
    "papermill": {
     "duration": 0.017397,
     "end_time": "2025-02-12T06:28:04.919170",
     "exception": false,
     "start_time": "2025-02-12T06:28:04.901773",
     "status": "completed"
    },
    "tags": []
   },
   "source": [
    "# References\n",
    "\n",
    "1. https://www.kaggle.com/code/edwardcrookenden/otto-getting-started-eda-baseline\n",
    "2. https://www.kaggle.com/code/inversion/read-a-chunk-of-jsonl\n",
    "3. https://stackoverflow.com/questions/35562789/how-do-i-calculate-a-word-word-co-occurrence-matrix-with-sklearn\n",
    "4. https://stackoverflow.com/a/49819594\n",
    "5. https://developer.nvidia.com/blog/build-efficient-recommender-systems-with-co-visitation-matrices-and-rapids-cudf/\n",
    "6. https://colab.research.google.com/drive/1CKxPGGjfdR7YUZ3BkATTMGZFV8Vjerwy?usp=sharing#scrollTo=0gI5U82Zh30a"
   ]
  },
  {
   "cell_type": "markdown",
   "id": "8db72e0b",
   "metadata": {
    "papermill": {
     "duration": 0.018188,
     "end_time": "2025-02-12T06:28:04.955785",
     "exception": false,
     "start_time": "2025-02-12T06:28:04.937597",
     "status": "completed"
    },
    "tags": []
   },
   "source": [
    "# Virtual Env Freezing"
   ]
  },
  {
   "cell_type": "markdown",
   "id": "ab295a72",
   "metadata": {
    "papermill": {
     "duration": 0.017325,
     "end_time": "2025-02-12T06:28:04.991688",
     "exception": false,
     "start_time": "2025-02-12T06:28:04.974363",
     "status": "completed"
    },
    "tags": []
   },
   "source": [
    "#### Freezing the virtual environment on Kaggle\n",
    "By documenting our environment, we want to ensures reproduceability."
   ]
  },
  {
   "cell_type": "code",
   "execution_count": 1,
   "id": "b1056f7e",
   "metadata": {
    "execution": {
     "iopub.execute_input": "2025-02-12T06:28:05.030268Z",
     "iopub.status.busy": "2025-02-12T06:28:05.029804Z",
     "iopub.status.idle": "2025-02-12T06:28:08.862633Z",
     "shell.execute_reply": "2025-02-12T06:28:08.860859Z"
    },
    "papermill": {
     "duration": 3.854978,
     "end_time": "2025-02-12T06:28:08.865208",
     "exception": false,
     "start_time": "2025-02-12T06:28:05.010230",
     "status": "completed"
    },
    "tags": []
   },
   "outputs": [],
   "source": [
    "!pip freeze > requirements.txt"
   ]
  },
  {
   "cell_type": "markdown",
   "id": "806a0126",
   "metadata": {
    "papermill": {
     "duration": 0.019272,
     "end_time": "2025-02-12T06:28:08.911812",
     "exception": false,
     "start_time": "2025-02-12T06:28:08.892540",
     "status": "completed"
    },
    "tags": []
   },
   "source": [
    "# Reading Data"
   ]
  },
  {
   "cell_type": "code",
   "execution_count": 2,
   "id": "2f6e62fa",
   "metadata": {
    "execution": {
     "iopub.execute_input": "2025-02-12T06:28:08.948563Z",
     "iopub.status.busy": "2025-02-12T06:28:08.948208Z",
     "iopub.status.idle": "2025-02-12T06:28:11.789929Z",
     "shell.execute_reply": "2025-02-12T06:28:11.788821Z"
    },
    "papermill": {
     "duration": 2.862235,
     "end_time": "2025-02-12T06:28:11.791792",
     "exception": false,
     "start_time": "2025-02-12T06:28:08.929557",
     "status": "completed"
    },
    "tags": []
   },
   "outputs": [],
   "source": [
    "import numpy as np\n",
    "import pandas as pd\n",
    "\n",
    "import seaborn as sns\n",
    "from datetime import timedelta\n",
    "\n",
    "import os\n",
    "\n",
    "from sklearn.feature_extraction.text import CountVectorizer\n",
    "from scipy.sparse import triu\n",
    "\n",
    "# Apply the default theme\n",
    "sns.set_theme()\n",
    "\n",
    "data_path = r\"/kaggle/input/otto-recommender-system/\""
   ]
  },
  {
   "cell_type": "code",
   "execution_count": 3,
   "id": "f8185ea6",
   "metadata": {
    "execution": {
     "iopub.execute_input": "2025-02-12T06:28:11.831604Z",
     "iopub.status.busy": "2025-02-12T06:28:11.831066Z",
     "iopub.status.idle": "2025-02-12T06:28:11.835839Z",
     "shell.execute_reply": "2025-02-12T06:28:11.834871Z"
    },
    "papermill": {
     "duration": 0.026717,
     "end_time": "2025-02-12T06:28:11.837563",
     "exception": false,
     "start_time": "2025-02-12T06:28:11.810846",
     "status": "completed"
    },
    "tags": []
   },
   "outputs": [],
   "source": [
    "import warnings\n",
    "warnings.filterwarnings(\"ignore\", \"use_inf_as_na\")"
   ]
  },
  {
   "cell_type": "code",
   "execution_count": 4,
   "id": "107dac27",
   "metadata": {
    "execution": {
     "iopub.execute_input": "2025-02-12T06:28:11.875764Z",
     "iopub.status.busy": "2025-02-12T06:28:11.875343Z",
     "iopub.status.idle": "2025-02-12T06:28:29.700443Z",
     "shell.execute_reply": "2025-02-12T06:28:29.699402Z"
    },
    "papermill": {
     "duration": 17.846434,
     "end_time": "2025-02-12T06:28:29.702447",
     "exception": false,
     "start_time": "2025-02-12T06:28:11.856013",
     "status": "completed"
    },
    "tags": []
   },
   "outputs": [],
   "source": [
    "# Load in a sample to a pandas df\n",
    "\n",
    "sample_size = 150000\n",
    "\n",
    "chunks = pd.read_json(data_path+'/train.jsonl', lines=True, chunksize = sample_size)\n",
    "\n",
    "for c in chunks:\n",
    "    sample_train_df = c\n",
    "    break"
   ]
  },
  {
   "cell_type": "code",
   "execution_count": 5,
   "id": "30080b7a",
   "metadata": {
    "execution": {
     "iopub.execute_input": "2025-02-12T06:28:29.739393Z",
     "iopub.status.busy": "2025-02-12T06:28:29.739067Z",
     "iopub.status.idle": "2025-02-12T06:28:29.793861Z",
     "shell.execute_reply": "2025-02-12T06:28:29.792736Z"
    },
    "papermill": {
     "duration": 0.075291,
     "end_time": "2025-02-12T06:28:29.795498",
     "exception": false,
     "start_time": "2025-02-12T06:28:29.720207",
     "status": "completed"
    },
    "tags": []
   },
   "outputs": [
    {
     "data": {
      "text/html": [
       "<div>\n",
       "<style scoped>\n",
       "    .dataframe tbody tr th:only-of-type {\n",
       "        vertical-align: middle;\n",
       "    }\n",
       "\n",
       "    .dataframe tbody tr th {\n",
       "        vertical-align: top;\n",
       "    }\n",
       "\n",
       "    .dataframe thead th {\n",
       "        text-align: right;\n",
       "    }\n",
       "</style>\n",
       "<table border=\"1\" class=\"dataframe\">\n",
       "  <thead>\n",
       "    <tr style=\"text-align: right;\">\n",
       "      <th></th>\n",
       "      <th>session</th>\n",
       "      <th>events</th>\n",
       "    </tr>\n",
       "  </thead>\n",
       "  <tbody>\n",
       "    <tr>\n",
       "      <th>0</th>\n",
       "      <td>0</td>\n",
       "      <td>[{'aid': 1517085, 'ts': 1659304800025, 'type':...</td>\n",
       "    </tr>\n",
       "    <tr>\n",
       "      <th>1</th>\n",
       "      <td>1</td>\n",
       "      <td>[{'aid': 424964, 'ts': 1659304800025, 'type': ...</td>\n",
       "    </tr>\n",
       "    <tr>\n",
       "      <th>2</th>\n",
       "      <td>2</td>\n",
       "      <td>[{'aid': 763743, 'ts': 1659304800038, 'type': ...</td>\n",
       "    </tr>\n",
       "  </tbody>\n",
       "</table>\n",
       "</div>"
      ],
      "text/plain": [
       "   session                                             events\n",
       "0        0  [{'aid': 1517085, 'ts': 1659304800025, 'type':...\n",
       "1        1  [{'aid': 424964, 'ts': 1659304800025, 'type': ...\n",
       "2        2  [{'aid': 763743, 'ts': 1659304800038, 'type': ..."
      ]
     },
     "execution_count": 5,
     "metadata": {},
     "output_type": "execute_result"
    }
   ],
   "source": [
    "sample_train_df.head(3)"
   ]
  },
  {
   "cell_type": "code",
   "execution_count": 6,
   "id": "4fa9dcb6",
   "metadata": {
    "execution": {
     "iopub.execute_input": "2025-02-12T06:28:29.837176Z",
     "iopub.status.busy": "2025-02-12T06:28:29.836812Z",
     "iopub.status.idle": "2025-02-12T06:28:29.843978Z",
     "shell.execute_reply": "2025-02-12T06:28:29.842960Z"
    },
    "papermill": {
     "duration": 0.030959,
     "end_time": "2025-02-12T06:28:29.845494",
     "exception": false,
     "start_time": "2025-02-12T06:28:29.814535",
     "status": "completed"
    },
    "tags": []
   },
   "outputs": [
    {
     "data": {
      "text/plain": [
       "[{'aid': 1517085, 'ts': 1659304800025, 'type': 'clicks'},\n",
       " {'aid': 1563459, 'ts': 1659304904511, 'type': 'clicks'},\n",
       " {'aid': 1309446, 'ts': 1659367439426, 'type': 'clicks'}]"
      ]
     },
     "execution_count": 6,
     "metadata": {},
     "output_type": "execute_result"
    }
   ],
   "source": [
    "sample_train_df.loc[0, \"events\"][0:3]"
   ]
  },
  {
   "cell_type": "code",
   "execution_count": 7,
   "id": "bf405e0d",
   "metadata": {
    "execution": {
     "iopub.execute_input": "2025-02-12T06:28:29.883902Z",
     "iopub.status.busy": "2025-02-12T06:28:29.883479Z",
     "iopub.status.idle": "2025-02-12T06:28:31.483766Z",
     "shell.execute_reply": "2025-02-12T06:28:31.482738Z"
    },
    "papermill": {
     "duration": 1.622103,
     "end_time": "2025-02-12T06:28:31.485587",
     "exception": false,
     "start_time": "2025-02-12T06:28:29.863484",
     "status": "completed"
    },
    "tags": []
   },
   "outputs": [
    {
     "data": {
      "text/html": [
       "<div>\n",
       "<style scoped>\n",
       "    .dataframe tbody tr th:only-of-type {\n",
       "        vertical-align: middle;\n",
       "    }\n",
       "\n",
       "    .dataframe tbody tr th {\n",
       "        vertical-align: top;\n",
       "    }\n",
       "\n",
       "    .dataframe thead th {\n",
       "        text-align: right;\n",
       "    }\n",
       "</style>\n",
       "<table border=\"1\" class=\"dataframe\">\n",
       "  <thead>\n",
       "    <tr style=\"text-align: right;\">\n",
       "      <th></th>\n",
       "      <th>session</th>\n",
       "      <th>events</th>\n",
       "    </tr>\n",
       "  </thead>\n",
       "  <tbody>\n",
       "    <tr>\n",
       "      <th>0</th>\n",
       "      <td>0</td>\n",
       "      <td>{'aid': 1517085, 'ts': 1659304800025, 'type': ...</td>\n",
       "    </tr>\n",
       "    <tr>\n",
       "      <th>1</th>\n",
       "      <td>0</td>\n",
       "      <td>{'aid': 1563459, 'ts': 1659304904511, 'type': ...</td>\n",
       "    </tr>\n",
       "    <tr>\n",
       "      <th>2</th>\n",
       "      <td>0</td>\n",
       "      <td>{'aid': 1309446, 'ts': 1659367439426, 'type': ...</td>\n",
       "    </tr>\n",
       "  </tbody>\n",
       "</table>\n",
       "</div>"
      ],
      "text/plain": [
       "   session                                             events\n",
       "0        0  {'aid': 1517085, 'ts': 1659304800025, 'type': ...\n",
       "1        0  {'aid': 1563459, 'ts': 1659304904511, 'type': ...\n",
       "2        0  {'aid': 1309446, 'ts': 1659367439426, 'type': ..."
      ]
     },
     "execution_count": 7,
     "metadata": {},
     "output_type": "execute_result"
    }
   ],
   "source": [
    "# Expand the 'events' column into individual rows\n",
    "expanded_df = sample_train_df.explode('events').reset_index(drop=True)\n",
    "expanded_df.head(3)"
   ]
  },
  {
   "cell_type": "code",
   "execution_count": 8,
   "id": "5a7471f4",
   "metadata": {
    "execution": {
     "iopub.execute_input": "2025-02-12T06:28:31.525222Z",
     "iopub.status.busy": "2025-02-12T06:28:31.524818Z",
     "iopub.status.idle": "2025-02-12T06:29:01.988012Z",
     "shell.execute_reply": "2025-02-12T06:29:01.986627Z"
    },
    "papermill": {
     "duration": 30.502283,
     "end_time": "2025-02-12T06:29:02.007742",
     "exception": false,
     "start_time": "2025-02-12T06:28:31.505459",
     "status": "completed"
    },
    "tags": []
   },
   "outputs": [
    {
     "data": {
      "text/html": [
       "<div>\n",
       "<style scoped>\n",
       "    .dataframe tbody tr th:only-of-type {\n",
       "        vertical-align: middle;\n",
       "    }\n",
       "\n",
       "    .dataframe tbody tr th {\n",
       "        vertical-align: top;\n",
       "    }\n",
       "\n",
       "    .dataframe thead th {\n",
       "        text-align: right;\n",
       "    }\n",
       "</style>\n",
       "<table border=\"1\" class=\"dataframe\">\n",
       "  <thead>\n",
       "    <tr style=\"text-align: right;\">\n",
       "      <th></th>\n",
       "      <th>session</th>\n",
       "      <th>aid</th>\n",
       "      <th>ts</th>\n",
       "      <th>type</th>\n",
       "    </tr>\n",
       "  </thead>\n",
       "  <tbody>\n",
       "    <tr>\n",
       "      <th>0</th>\n",
       "      <td>0</td>\n",
       "      <td>1517085</td>\n",
       "      <td>1659304800025</td>\n",
       "      <td>clicks</td>\n",
       "    </tr>\n",
       "    <tr>\n",
       "      <th>1</th>\n",
       "      <td>0</td>\n",
       "      <td>1563459</td>\n",
       "      <td>1659304904511</td>\n",
       "      <td>clicks</td>\n",
       "    </tr>\n",
       "    <tr>\n",
       "      <th>2</th>\n",
       "      <td>0</td>\n",
       "      <td>1309446</td>\n",
       "      <td>1659367439426</td>\n",
       "      <td>clicks</td>\n",
       "    </tr>\n",
       "  </tbody>\n",
       "</table>\n",
       "</div>"
      ],
      "text/plain": [
       "   session      aid             ts    type\n",
       "0        0  1517085  1659304800025  clicks\n",
       "1        0  1563459  1659304904511  clicks\n",
       "2        0  1309446  1659367439426  clicks"
      ]
     },
     "execution_count": 8,
     "metadata": {},
     "output_type": "execute_result"
    }
   ],
   "source": [
    "# Convert the dictionaries in 'events' column into separate columns\n",
    "expanded_df[[\"aid\", \"ts\", \"type\"]] = pd.json_normalize(expanded_df['events'])\n",
    "expanded_df = expanded_df.drop('events', axis=1)\n",
    "expanded_df.head(3)"
   ]
  },
  {
   "cell_type": "code",
   "execution_count": 9,
   "id": "58a61dba",
   "metadata": {
    "execution": {
     "iopub.execute_input": "2025-02-12T06:29:02.046893Z",
     "iopub.status.busy": "2025-02-12T06:29:02.046497Z",
     "iopub.status.idle": "2025-02-12T06:29:02.052060Z",
     "shell.execute_reply": "2025-02-12T06:29:02.051127Z"
    },
    "papermill": {
     "duration": 0.026848,
     "end_time": "2025-02-12T06:29:02.053747",
     "exception": false,
     "start_time": "2025-02-12T06:29:02.026899",
     "status": "completed"
    },
    "tags": []
   },
   "outputs": [
    {
     "data": {
      "text/plain": [
       "(7841827, 4)"
      ]
     },
     "execution_count": 9,
     "metadata": {},
     "output_type": "execute_result"
    }
   ],
   "source": [
    "expanded_df.shape"
   ]
  },
  {
   "cell_type": "markdown",
   "id": "2219c646",
   "metadata": {
    "papermill": {
     "duration": 0.018308,
     "end_time": "2025-02-12T06:29:02.091129",
     "exception": false,
     "start_time": "2025-02-12T06:29:02.072821",
     "status": "completed"
    },
    "tags": []
   },
   "source": [
    "# Quantification"
   ]
  },
  {
   "cell_type": "markdown",
   "id": "5910cd6b",
   "metadata": {
    "papermill": {
     "duration": 0.019749,
     "end_time": "2025-02-12T06:29:02.129298",
     "exception": false,
     "start_time": "2025-02-12T06:29:02.109549",
     "status": "completed"
    },
    "tags": []
   },
   "source": [
    "### # of rows"
   ]
  },
  {
   "cell_type": "code",
   "execution_count": 10,
   "id": "9f9719b7",
   "metadata": {
    "execution": {
     "iopub.execute_input": "2025-02-12T06:29:02.168050Z",
     "iopub.status.busy": "2025-02-12T06:29:02.167603Z",
     "iopub.status.idle": "2025-02-12T06:29:02.171811Z",
     "shell.execute_reply": "2025-02-12T06:29:02.170754Z"
    },
    "papermill": {
     "duration": 0.025468,
     "end_time": "2025-02-12T06:29:02.173862",
     "exception": false,
     "start_time": "2025-02-12T06:29:02.148394",
     "status": "completed"
    },
    "tags": []
   },
   "outputs": [],
   "source": [
    "# %%time \n",
    "\n",
    "# num_lines = sum(1 for line in open(data_path+'/train.jsonl'))\n",
    "# print(f'number of lines in train: {num_lines:,}')"
   ]
  },
  {
   "cell_type": "code",
   "execution_count": 11,
   "id": "655eab50",
   "metadata": {
    "execution": {
     "iopub.execute_input": "2025-02-12T06:29:02.214166Z",
     "iopub.status.busy": "2025-02-12T06:29:02.213738Z",
     "iopub.status.idle": "2025-02-12T06:29:02.274164Z",
     "shell.execute_reply": "2025-02-12T06:29:02.272803Z"
    },
    "papermill": {
     "duration": 0.082935,
     "end_time": "2025-02-12T06:29:02.276034",
     "exception": false,
     "start_time": "2025-02-12T06:29:02.193099",
     "status": "completed"
    },
    "tags": []
   },
   "outputs": [
    {
     "name": "stdout",
     "output_type": "stream",
     "text": [
      "number of sessions in the sample of training data: 150,000\n"
     ]
    }
   ],
   "source": [
    "print(f'number of sessions in the sample of training data: {len(expanded_df[\"session\"].unique()):,}')"
   ]
  },
  {
   "cell_type": "code",
   "execution_count": 12,
   "id": "e3d4b851",
   "metadata": {
    "execution": {
     "iopub.execute_input": "2025-02-12T06:29:02.314721Z",
     "iopub.status.busy": "2025-02-12T06:29:02.314336Z",
     "iopub.status.idle": "2025-02-12T06:29:02.502298Z",
     "shell.execute_reply": "2025-02-12T06:29:02.500968Z"
    },
    "papermill": {
     "duration": 0.209474,
     "end_time": "2025-02-12T06:29:02.504282",
     "exception": false,
     "start_time": "2025-02-12T06:29:02.294808",
     "status": "completed"
    },
    "tags": []
   },
   "outputs": [
    {
     "name": "stdout",
     "output_type": "stream",
     "text": [
      "number of aid in the sample of training data: 830,140\n"
     ]
    }
   ],
   "source": [
    "print(f'number of aid in the sample of training data: {len(expanded_df[\"aid\"].unique()):,}')"
   ]
  },
  {
   "cell_type": "markdown",
   "id": "8effd5c6",
   "metadata": {
    "papermill": {
     "duration": 0.018875,
     "end_time": "2025-02-12T06:29:02.542985",
     "exception": false,
     "start_time": "2025-02-12T06:29:02.524110",
     "status": "completed"
    },
    "tags": []
   },
   "source": [
    "# Understanding User Behavior"
   ]
  },
  {
   "cell_type": "markdown",
   "id": "78e87b9b",
   "metadata": {
    "papermill": {
     "duration": 0.018244,
     "end_time": "2025-02-12T06:29:02.580456",
     "exception": false,
     "start_time": "2025-02-12T06:29:02.562212",
     "status": "completed"
    },
    "tags": []
   },
   "source": [
    "### Count of unique aid per session\n",
    "\n",
    "How many unique items the user is interested in?"
   ]
  },
  {
   "cell_type": "code",
   "execution_count": 13,
   "id": "87936d18",
   "metadata": {
    "execution": {
     "iopub.execute_input": "2025-02-12T06:29:02.619790Z",
     "iopub.status.busy": "2025-02-12T06:29:02.619354Z",
     "iopub.status.idle": "2025-02-12T06:29:05.316762Z",
     "shell.execute_reply": "2025-02-12T06:29:05.315555Z"
    },
    "papermill": {
     "duration": 2.719905,
     "end_time": "2025-02-12T06:29:05.318855",
     "exception": false,
     "start_time": "2025-02-12T06:29:02.598950",
     "status": "completed"
    },
    "tags": []
   },
   "outputs": [],
   "source": [
    "naid_per_session = (\n",
    "    expanded_df\n",
    "    .groupby([\"session\"])\n",
    "    [\"aid\"]\n",
    "    .nunique()\n",
    "    .reset_index()\n",
    ")"
   ]
  },
  {
   "cell_type": "code",
   "execution_count": 14,
   "id": "f1a0aa0d",
   "metadata": {
    "execution": {
     "iopub.execute_input": "2025-02-12T06:29:05.359301Z",
     "iopub.status.busy": "2025-02-12T06:29:05.358937Z",
     "iopub.status.idle": "2025-02-12T06:29:05.366750Z",
     "shell.execute_reply": "2025-02-12T06:29:05.365734Z"
    },
    "papermill": {
     "duration": 0.029916,
     "end_time": "2025-02-12T06:29:05.368346",
     "exception": false,
     "start_time": "2025-02-12T06:29:05.338430",
     "status": "completed"
    },
    "tags": []
   },
   "outputs": [
    {
     "data": {
      "text/plain": [
       "(1, 460)"
      ]
     },
     "execution_count": 14,
     "metadata": {},
     "output_type": "execute_result"
    }
   ],
   "source": [
    "naid_per_session[\"aid\"].min(), naid_per_session[\"aid\"].max()"
   ]
  },
  {
   "cell_type": "code",
   "execution_count": 15,
   "id": "cbd91c28",
   "metadata": {
    "execution": {
     "iopub.execute_input": "2025-02-12T06:29:05.408315Z",
     "iopub.status.busy": "2025-02-12T06:29:05.407956Z",
     "iopub.status.idle": "2025-02-12T06:29:05.423695Z",
     "shell.execute_reply": "2025-02-12T06:29:05.422573Z"
    },
    "papermill": {
     "duration": 0.03722,
     "end_time": "2025-02-12T06:29:05.425494",
     "exception": false,
     "start_time": "2025-02-12T06:29:05.388274",
     "status": "completed"
    },
    "tags": []
   },
   "outputs": [
    {
     "data": {
      "text/plain": [
       "aid\n",
       "2     15381\n",
       "3     10858\n",
       "4      8256\n",
       "5      6743\n",
       "6      5704\n",
       "1      5332\n",
       "7      4869\n",
       "8      4443\n",
       "9      3838\n",
       "10     3478\n",
       "11     3172\n",
       "12     2979\n",
       "13     2792\n",
       "14     2473\n",
       "15     2344\n",
       "16     2291\n",
       "17     2075\n",
       "18     1935\n",
       "19     1768\n",
       "20     1707\n",
       "Name: count, dtype: int64"
      ]
     },
     "execution_count": 15,
     "metadata": {},
     "output_type": "execute_result"
    }
   ],
   "source": [
    "naid_per_session[\"aid\"].value_counts()[0:20]"
   ]
  },
  {
   "cell_type": "code",
   "execution_count": 16,
   "id": "81e5159f",
   "metadata": {
    "execution": {
     "iopub.execute_input": "2025-02-12T06:29:05.465134Z",
     "iopub.status.busy": "2025-02-12T06:29:05.464741Z",
     "iopub.status.idle": "2025-02-12T06:29:06.749014Z",
     "shell.execute_reply": "2025-02-12T06:29:06.747741Z"
    },
    "papermill": {
     "duration": 1.305564,
     "end_time": "2025-02-12T06:29:06.750665",
     "exception": false,
     "start_time": "2025-02-12T06:29:05.445101",
     "status": "completed"
    },
    "tags": []
   },
   "outputs": [
    {
     "data": {
      "text/plain": [
       "<seaborn.axisgrid.FacetGrid at 0x7a1c9aa1a260>"
      ]
     },
     "execution_count": 16,
     "metadata": {},
     "output_type": "execute_result"
    },
    {
     "data": {
      "image/png": "[encoded data removed]",
      "text/plain": [
       "<Figure size 450x300 with 1 Axes>"
      ]
     },
     "metadata": {},
     "output_type": "display_data"
    }
   ],
   "source": [
    "(\n",
    "    sns.displot(data=naid_per_session, x='aid', log_scale=True, height=3, aspect=1.5)\n",
    "    .set(\n",
    "        title='Log Distribution of Count of aids per session',\n",
    "    )\n",
    ")"
   ]
  },
  {
   "cell_type": "markdown",
   "id": "ee8c2ba6",
   "metadata": {
    "papermill": {
     "duration": 0.020134,
     "end_time": "2025-02-12T06:29:06.791032",
     "exception": false,
     "start_time": "2025-02-12T06:29:06.770898",
     "status": "completed"
    },
    "tags": []
   },
   "source": [
    "**Findings**\n",
    "1. The least number of products looked at by the user is 1. The most is 460.\n",
    "2. Most users look at 2 products, followed by 3, 4, 5 and 6 products. \n",
    "3. The next highest number of products viewed by the user is 1 product."
   ]
  },
  {
   "cell_type": "markdown",
   "id": "d222a37f",
   "metadata": {
    "papermill": {
     "duration": 0.020282,
     "end_time": "2025-02-12T06:29:06.831876",
     "exception": false,
     "start_time": "2025-02-12T06:29:06.811594",
     "status": "completed"
    },
    "tags": []
   },
   "source": [
    "### Clicks per session\n",
    "\n",
    "How much does the user browse?"
   ]
  },
  {
   "cell_type": "code",
   "execution_count": 17,
   "id": "9864191a",
   "metadata": {
    "execution": {
     "iopub.execute_input": "2025-02-12T06:29:06.872534Z",
     "iopub.status.busy": "2025-02-12T06:29:06.872190Z",
     "iopub.status.idle": "2025-02-12T06:29:08.887932Z",
     "shell.execute_reply": "2025-02-12T06:29:08.886898Z"
    },
    "papermill": {
     "duration": 2.03771,
     "end_time": "2025-02-12T06:29:08.889745",
     "exception": false,
     "start_time": "2025-02-12T06:29:06.852035",
     "status": "completed"
    },
    "tags": []
   },
   "outputs": [],
   "source": [
    "nclicks_per_session = (\n",
    "    expanded_df\n",
    "    .loc[expanded_df[\"type\"]==\"clicks\"]\n",
    "    .groupby([\"session\"])\n",
    "    [\"type\"]\n",
    "    .count()\n",
    "    .reset_index()\n",
    ")"
   ]
  },
  {
   "cell_type": "code",
   "execution_count": 18,
   "id": "fa8262d9",
   "metadata": {
    "execution": {
     "iopub.execute_input": "2025-02-12T06:29:08.931256Z",
     "iopub.status.busy": "2025-02-12T06:29:08.930899Z",
     "iopub.status.idle": "2025-02-12T06:29:08.937623Z",
     "shell.execute_reply": "2025-02-12T06:29:08.936691Z"
    },
    "papermill": {
     "duration": 0.030029,
     "end_time": "2025-02-12T06:29:08.939341",
     "exception": false,
     "start_time": "2025-02-12T06:29:08.909312",
     "status": "completed"
    },
    "tags": []
   },
   "outputs": [
    {
     "data": {
      "text/plain": [
       "(2, 493)"
      ]
     },
     "execution_count": 18,
     "metadata": {},
     "output_type": "execute_result"
    }
   ],
   "source": [
    "nclicks_per_session[\"type\"].min(), nclicks_per_session[\"type\"].max()"
   ]
  },
  {
   "cell_type": "code",
   "execution_count": 19,
   "id": "c8608dea",
   "metadata": {
    "execution": {
     "iopub.execute_input": "2025-02-12T06:29:08.979441Z",
     "iopub.status.busy": "2025-02-12T06:29:08.979071Z",
     "iopub.status.idle": "2025-02-12T06:29:08.987690Z",
     "shell.execute_reply": "2025-02-12T06:29:08.986731Z"
    },
    "papermill": {
     "duration": 0.030332,
     "end_time": "2025-02-12T06:29:08.989293",
     "exception": false,
     "start_time": "2025-02-12T06:29:08.958961",
     "status": "completed"
    },
    "tags": []
   },
   "outputs": [
    {
     "data": {
      "text/plain": [
       "type\n",
       "2     13509\n",
       "3      9750\n",
       "4      7612\n",
       "5      6149\n",
       "6      5194\n",
       "7      4409\n",
       "8      4167\n",
       "9      3567\n",
       "10     3235\n",
       "11     2937\n",
       "12     2641\n",
       "13     2617\n",
       "14     2460\n",
       "15     2191\n",
       "16     2115\n",
       "17     1954\n",
       "18     1811\n",
       "20     1770\n",
       "19     1759\n",
       "21     1583\n",
       "Name: count, dtype: int64"
      ]
     },
     "execution_count": 19,
     "metadata": {},
     "output_type": "execute_result"
    }
   ],
   "source": [
    "nclicks_per_session[\"type\"].value_counts()[0:20]"
   ]
  },
  {
   "cell_type": "code",
   "execution_count": 20,
   "id": "deb61ee9",
   "metadata": {
    "execution": {
     "iopub.execute_input": "2025-02-12T06:29:09.030025Z",
     "iopub.status.busy": "2025-02-12T06:29:09.029594Z",
     "iopub.status.idle": "2025-02-12T06:29:10.028554Z",
     "shell.execute_reply": "2025-02-12T06:29:10.027391Z"
    },
    "papermill": {
     "duration": 1.021527,
     "end_time": "2025-02-12T06:29:10.030445",
     "exception": false,
     "start_time": "2025-02-12T06:29:09.008918",
     "status": "completed"
    },
    "tags": []
   },
   "outputs": [
    {
     "data": {
      "text/plain": [
       "<seaborn.axisgrid.FacetGrid at 0x7a1cb8349300>"
      ]
     },
     "execution_count": 20,
     "metadata": {},
     "output_type": "execute_result"
    },
    {
     "data": {
      "image/png": "[encoded data removed]",
      "text/plain": [
       "<Figure size 450x300 with 1 Axes>"
      ]
     },
     "metadata": {},
     "output_type": "display_data"
    }
   ],
   "source": [
    "(\n",
    "    sns.displot(data=nclicks_per_session, x='type', log_scale=True, height=3, aspect=1.5)\n",
    "    .set(\n",
    "        title='Log Distribution of Clicks per session',\n",
    "    )\n",
    ")"
   ]
  },
  {
   "cell_type": "markdown",
   "id": "dcd073ad",
   "metadata": {
    "papermill": {
     "duration": 0.019517,
     "end_time": "2025-02-12T06:29:10.070057",
     "exception": false,
     "start_time": "2025-02-12T06:29:10.050540",
     "status": "completed"
    },
    "tags": []
   },
   "source": [
    "**Findings**:\n",
    "1. Minimum number of clicks in a session is 2, maximum is 493.\n",
    "2. Most user click at least twice.\n",
    "3. The distrubtion is very similar to that of the number of articles."
   ]
  },
  {
   "cell_type": "markdown",
   "id": "e2ec092b",
   "metadata": {
    "papermill": {
     "duration": 0.019309,
     "end_time": "2025-02-12T06:29:10.109065",
     "exception": false,
     "start_time": "2025-02-12T06:29:10.089756",
     "status": "completed"
    },
    "tags": []
   },
   "source": [
    "### Carts per session \n",
    "\n",
    "How many items are added to cart?"
   ]
  },
  {
   "cell_type": "code",
   "execution_count": 21,
   "id": "dc348b3f",
   "metadata": {
    "execution": {
     "iopub.execute_input": "2025-02-12T06:29:10.149944Z",
     "iopub.status.busy": "2025-02-12T06:29:10.149530Z",
     "iopub.status.idle": "2025-02-12T06:29:11.018443Z",
     "shell.execute_reply": "2025-02-12T06:29:11.017222Z"
    },
    "papermill": {
     "duration": 0.891532,
     "end_time": "2025-02-12T06:29:11.020526",
     "exception": false,
     "start_time": "2025-02-12T06:29:10.128994",
     "status": "completed"
    },
    "tags": []
   },
   "outputs": [],
   "source": [
    "ncarts_per_session = (\n",
    "    expanded_df\n",
    "    .loc[expanded_df[\"type\"]==\"carts\"]\n",
    "    .groupby([\"session\"])\n",
    "    [\"type\"]\n",
    "    .count()\n",
    "    .reset_index()\n",
    ")"
   ]
  },
  {
   "cell_type": "code",
   "execution_count": 22,
   "id": "4723c355",
   "metadata": {
    "execution": {
     "iopub.execute_input": "2025-02-12T06:29:11.062885Z",
     "iopub.status.busy": "2025-02-12T06:29:11.062475Z",
     "iopub.status.idle": "2025-02-12T06:29:11.070675Z",
     "shell.execute_reply": "2025-02-12T06:29:11.069754Z"
    },
    "papermill": {
     "duration": 0.031192,
     "end_time": "2025-02-12T06:29:11.072595",
     "exception": false,
     "start_time": "2025-02-12T06:29:11.041403",
     "status": "completed"
    },
    "tags": []
   },
   "outputs": [
    {
     "data": {
      "text/html": [
       "<div>\n",
       "<style scoped>\n",
       "    .dataframe tbody tr th:only-of-type {\n",
       "        vertical-align: middle;\n",
       "    }\n",
       "\n",
       "    .dataframe tbody tr th {\n",
       "        vertical-align: top;\n",
       "    }\n",
       "\n",
       "    .dataframe thead th {\n",
       "        text-align: right;\n",
       "    }\n",
       "</style>\n",
       "<table border=\"1\" class=\"dataframe\">\n",
       "  <thead>\n",
       "    <tr style=\"text-align: right;\">\n",
       "      <th></th>\n",
       "      <th>session</th>\n",
       "      <th>type</th>\n",
       "    </tr>\n",
       "  </thead>\n",
       "  <tbody>\n",
       "    <tr>\n",
       "      <th>0</th>\n",
       "      <td>0</td>\n",
       "      <td>17</td>\n",
       "    </tr>\n",
       "    <tr>\n",
       "      <th>1</th>\n",
       "      <td>1</td>\n",
       "      <td>8</td>\n",
       "    </tr>\n",
       "    <tr>\n",
       "      <th>2</th>\n",
       "      <td>2</td>\n",
       "      <td>1</td>\n",
       "    </tr>\n",
       "  </tbody>\n",
       "</table>\n",
       "</div>"
      ],
      "text/plain": [
       "   session  type\n",
       "0        0    17\n",
       "1        1     8\n",
       "2        2     1"
      ]
     },
     "execution_count": 22,
     "metadata": {},
     "output_type": "execute_result"
    }
   ],
   "source": [
    "ncarts_per_session.head(3)"
   ]
  },
  {
   "cell_type": "code",
   "execution_count": 23,
   "id": "9b3789a7",
   "metadata": {
    "execution": {
     "iopub.execute_input": "2025-02-12T06:29:11.117494Z",
     "iopub.status.busy": "2025-02-12T06:29:11.117139Z",
     "iopub.status.idle": "2025-02-12T06:29:11.124047Z",
     "shell.execute_reply": "2025-02-12T06:29:11.122951Z"
    },
    "papermill": {
     "duration": 0.031426,
     "end_time": "2025-02-12T06:29:11.125965",
     "exception": false,
     "start_time": "2025-02-12T06:29:11.094539",
     "status": "completed"
    },
    "tags": []
   },
   "outputs": [
    {
     "data": {
      "text/plain": [
       "(1, 399)"
      ]
     },
     "execution_count": 23,
     "metadata": {},
     "output_type": "execute_result"
    }
   ],
   "source": [
    "ncarts_per_session[\"type\"].min(), ncarts_per_session[\"type\"].max()"
   ]
  },
  {
   "cell_type": "code",
   "execution_count": 24,
   "id": "d90fa699",
   "metadata": {
    "execution": {
     "iopub.execute_input": "2025-02-12T06:29:11.170373Z",
     "iopub.status.busy": "2025-02-12T06:29:11.170003Z",
     "iopub.status.idle": "2025-02-12T06:29:11.178953Z",
     "shell.execute_reply": "2025-02-12T06:29:11.177959Z"
    },
    "papermill": {
     "duration": 0.033827,
     "end_time": "2025-02-12T06:29:11.180736",
     "exception": false,
     "start_time": "2025-02-12T06:29:11.146909",
     "status": "completed"
    },
    "tags": []
   },
   "outputs": [
    {
     "data": {
      "text/plain": [
       "type\n",
       "1     15668\n",
       "2      9568\n",
       "3      6759\n",
       "4      5195\n",
       "5      4167\n",
       "6      3507\n",
       "7      2861\n",
       "8      2429\n",
       "9      2110\n",
       "10     1878\n",
       "11     1579\n",
       "12     1449\n",
       "13     1216\n",
       "14     1125\n",
       "15      997\n",
       "16      873\n",
       "17      768\n",
       "18      744\n",
       "19      618\n",
       "20      580\n",
       "Name: count, dtype: int64"
      ]
     },
     "execution_count": 24,
     "metadata": {},
     "output_type": "execute_result"
    }
   ],
   "source": [
    "ncarts_per_session[\"type\"].value_counts()[0:20]"
   ]
  },
  {
   "cell_type": "code",
   "execution_count": 25,
   "id": "49cd92ca",
   "metadata": {
    "execution": {
     "iopub.execute_input": "2025-02-12T06:29:11.224231Z",
     "iopub.status.busy": "2025-02-12T06:29:11.223881Z",
     "iopub.status.idle": "2025-02-12T06:29:11.232558Z",
     "shell.execute_reply": "2025-02-12T06:29:11.231499Z"
    },
    "papermill": {
     "duration": 0.032181,
     "end_time": "2025-02-12T06:29:11.234485",
     "exception": false,
     "start_time": "2025-02-12T06:29:11.202304",
     "status": "completed"
    },
    "tags": []
   },
   "outputs": [
    {
     "data": {
      "text/plain": [
       "0.956216377764495"
      ]
     },
     "execution_count": 25,
     "metadata": {},
     "output_type": "execute_result"
    }
   ],
   "source": [
    "(\n",
    "    ncarts_per_session[\"type\"].value_counts().iloc[0:3].sum()\n",
    "    /\n",
    "    ncarts_per_session[\"type\"].value_counts().iloc[4:].sum()\n",
    ")"
   ]
  },
  {
   "cell_type": "code",
   "execution_count": 26,
   "id": "e1a70e7d",
   "metadata": {
    "execution": {
     "iopub.execute_input": "2025-02-12T06:29:11.278433Z",
     "iopub.status.busy": "2025-02-12T06:29:11.278092Z",
     "iopub.status.idle": "2025-02-12T06:29:12.410159Z",
     "shell.execute_reply": "2025-02-12T06:29:12.408987Z"
    },
    "papermill": {
     "duration": 1.156836,
     "end_time": "2025-02-12T06:29:12.412033",
     "exception": false,
     "start_time": "2025-02-12T06:29:11.255197",
     "status": "completed"
    },
    "tags": []
   },
   "outputs": [
    {
     "data": {
      "text/plain": [
       "<seaborn.axisgrid.FacetGrid at 0x7a1c9ab59420>"
      ]
     },
     "execution_count": 26,
     "metadata": {},
     "output_type": "execute_result"
    },
    {
     "data": {
      "image/png": "[encoded data removed]",
      "text/plain": [
       "<Figure size 450x300 with 1 Axes>"
      ]
     },
     "metadata": {},
     "output_type": "display_data"
    }
   ],
   "source": [
    "(\n",
    "    sns.displot(data=ncarts_per_session, x='type', log_scale=True, height=3, aspect=1.5)\n",
    "    .set(\n",
    "        title='Log Distribution of Carts per session',\n",
    "    )\n",
    ")"
   ]
  },
  {
   "cell_type": "markdown",
   "id": "b0a5572b",
   "metadata": {
    "papermill": {
     "duration": 0.020852,
     "end_time": "2025-02-12T06:29:12.454667",
     "exception": false,
     "start_time": "2025-02-12T06:29:12.433815",
     "status": "completed"
    },
    "tags": []
   },
   "source": [
    "**Findings**:\n",
    "1. Most users add 1 article to card, followed by 2 and 3 articles.\n",
    "2. The max number of items added to card are 399.\n",
    "3. The number of users adding 1 and 2 or 3 articles to card is about the same as the users adding 4 or more articles to cart."
   ]
  },
  {
   "cell_type": "markdown",
   "id": "d6b2cc75",
   "metadata": {
    "papermill": {
     "duration": 0.021925,
     "end_time": "2025-02-12T06:29:12.498626",
     "exception": false,
     "start_time": "2025-02-12T06:29:12.476701",
     "status": "completed"
    },
    "tags": []
   },
   "source": [
    "### Orders per session\n",
    "\n",
    "How many articles are ordered per session?"
   ]
  },
  {
   "cell_type": "code",
   "execution_count": 27,
   "id": "8714b7c6",
   "metadata": {
    "execution": {
     "iopub.execute_input": "2025-02-12T06:29:12.542366Z",
     "iopub.status.busy": "2025-02-12T06:29:12.541881Z",
     "iopub.status.idle": "2025-02-12T06:29:13.361836Z",
     "shell.execute_reply": "2025-02-12T06:29:13.360772Z"
    },
    "papermill": {
     "duration": 0.843953,
     "end_time": "2025-02-12T06:29:13.363676",
     "exception": false,
     "start_time": "2025-02-12T06:29:12.519723",
     "status": "completed"
    },
    "tags": []
   },
   "outputs": [
    {
     "data": {
      "text/plain": [
       "(1, 89)"
      ]
     },
     "execution_count": 27,
     "metadata": {},
     "output_type": "execute_result"
    }
   ],
   "source": [
    "norders_per_session = (\n",
    "    expanded_df\n",
    "    .loc[expanded_df[\"type\"]==\"orders\"]\n",
    "    .groupby([\"session\"])\n",
    "    [\"type\"]\n",
    "    .count()\n",
    "    .reset_index()\n",
    ")\n",
    "\n",
    "norders_per_session[\"type\"].min(), norders_per_session[\"type\"].max()"
   ]
  },
  {
   "cell_type": "code",
   "execution_count": 28,
   "id": "4e9ab030",
   "metadata": {
    "execution": {
     "iopub.execute_input": "2025-02-12T06:29:13.408056Z",
     "iopub.status.busy": "2025-02-12T06:29:13.407704Z",
     "iopub.status.idle": "2025-02-12T06:29:13.416101Z",
     "shell.execute_reply": "2025-02-12T06:29:13.414868Z"
    },
    "papermill": {
     "duration": 0.033108,
     "end_time": "2025-02-12T06:29:13.417914",
     "exception": false,
     "start_time": "2025-02-12T06:29:13.384806",
     "status": "completed"
    },
    "tags": []
   },
   "outputs": [
    {
     "data": {
      "text/plain": [
       "type\n",
       "1    11680\n",
       "2     6964\n",
       "3     4606\n",
       "4     3242\n",
       "5     2372\n",
       "Name: count, dtype: int64"
      ]
     },
     "execution_count": 28,
     "metadata": {},
     "output_type": "execute_result"
    }
   ],
   "source": [
    "norders_per_session[\"type\"].value_counts()[0:5]"
   ]
  },
  {
   "cell_type": "code",
   "execution_count": 29,
   "id": "cce30163",
   "metadata": {
    "execution": {
     "iopub.execute_input": "2025-02-12T06:29:13.464210Z",
     "iopub.status.busy": "2025-02-12T06:29:13.463823Z",
     "iopub.status.idle": "2025-02-12T06:29:13.472203Z",
     "shell.execute_reply": "2025-02-12T06:29:13.471275Z"
    },
    "papermill": {
     "duration": 0.033998,
     "end_time": "2025-02-12T06:29:13.473982",
     "exception": false,
     "start_time": "2025-02-12T06:29:13.439984",
     "status": "completed"
    },
    "tags": []
   },
   "outputs": [
    {
     "data": {
      "text/plain": [
       "0.1500271016699791"
      ]
     },
     "execution_count": 29,
     "metadata": {},
     "output_type": "execute_result"
    }
   ],
   "source": [
    "norders_per_session[\"type\"].value_counts().iloc[0:3].sum()/norders_per_session['type'].sum()"
   ]
  },
  {
   "cell_type": "code",
   "execution_count": 30,
   "id": "c2c2e5ae",
   "metadata": {
    "execution": {
     "iopub.execute_input": "2025-02-12T06:29:13.520278Z",
     "iopub.status.busy": "2025-02-12T06:29:13.519916Z",
     "iopub.status.idle": "2025-02-12T06:29:15.146903Z",
     "shell.execute_reply": "2025-02-12T06:29:15.145888Z"
    },
    "papermill": {
     "duration": 1.651418,
     "end_time": "2025-02-12T06:29:15.148716",
     "exception": false,
     "start_time": "2025-02-12T06:29:13.497298",
     "status": "completed"
    },
    "tags": []
   },
   "outputs": [
    {
     "data": {
      "text/plain": [
       "<seaborn.axisgrid.FacetGrid at 0x7a1ca79928f0>"
      ]
     },
     "execution_count": 30,
     "metadata": {},
     "output_type": "execute_result"
    },
    {
     "data": {
      "image/png": "[encoded data removed]",
      "text/plain": [
       "<Figure size 450x300 with 1 Axes>"
      ]
     },
     "metadata": {},
     "output_type": "display_data"
    }
   ],
   "source": [
    "(\n",
    "    sns.displot(data=norders_per_session, x='type', log_scale=False, height=3, aspect=1.5)\n",
    "    .set(\n",
    "        title='Distribution of Orders per session',\n",
    "    )\n",
    ")"
   ]
  },
  {
   "cell_type": "markdown",
   "id": "d29547e0",
   "metadata": {
    "execution": {
     "iopub.execute_input": "2025-02-12T06:11:22.993605Z",
     "iopub.status.busy": "2025-02-12T06:11:22.992848Z",
     "iopub.status.idle": "2025-02-12T06:11:23.007165Z",
     "shell.execute_reply": "2025-02-12T06:11:23.005461Z",
     "shell.execute_reply.started": "2025-02-12T06:11:22.993540Z"
    },
    "papermill": {
     "duration": 0.021367,
     "end_time": "2025-02-12T06:29:15.192091",
     "exception": false,
     "start_time": "2025-02-12T06:29:15.170724",
     "status": "completed"
    },
    "tags": []
   },
   "source": [
    "**Findings**:\n",
    "1. Most users order 1 article, followed by 2 and 3 articles.\n",
    "2. The max number of items added ordered are 89."
   ]
  },
  {
   "cell_type": "markdown",
   "id": "97119178",
   "metadata": {
    "papermill": {
     "duration": 0.020962,
     "end_time": "2025-02-12T06:29:15.234549",
     "exception": false,
     "start_time": "2025-02-12T06:29:15.213587",
     "status": "completed"
    },
    "tags": []
   },
   "source": [
    "# Understanding Articles\n",
    "\n",
    "`clicks` per `aid` (i.e. most to least clicked articles), `carts` per `aid` (which items are added to cart the most), `orders` per `aid` (are there specific articles which trigger the ordering), co-occurence of `aid` (how likely are two `aid` to co-occur in a session), transition matrix of `aid` (which article will be clicked on next)"
   ]
  },
  {
   "cell_type": "markdown",
   "id": "43f3c7fa",
   "metadata": {
    "papermill": {
     "duration": 0.022029,
     "end_time": "2025-02-12T06:29:15.278055",
     "exception": false,
     "start_time": "2025-02-12T06:29:15.256026",
     "status": "completed"
    },
    "tags": []
   },
   "source": [
    "### Clicks, Carts and Orders per `aid`\n",
    "\n",
    "- Most to least clicked articles\n",
    "- Which items are added to the cart most\n",
    "- Are there specific articles which trigger the order"
   ]
  },
  {
   "cell_type": "code",
   "execution_count": 31,
   "id": "85cb2577",
   "metadata": {
    "execution": {
     "iopub.execute_input": "2025-02-12T06:29:15.322765Z",
     "iopub.status.busy": "2025-02-12T06:29:15.322386Z",
     "iopub.status.idle": "2025-02-12T06:29:17.826974Z",
     "shell.execute_reply": "2025-02-12T06:29:17.825904Z"
    },
    "papermill": {
     "duration": 2.529027,
     "end_time": "2025-02-12T06:29:17.828885",
     "exception": false,
     "start_time": "2025-02-12T06:29:15.299858",
     "status": "completed"
    },
    "tags": []
   },
   "outputs": [],
   "source": [
    "n_per_aid = (\n",
    "    expanded_df\n",
    "    .groupby([\"aid\",\"type\"])\n",
    "    [\"session\"]\n",
    "    .count()\n",
    "    .reset_index()\n",
    "    .rename(columns={\"session\":\"count\"})\n",
    ")"
   ]
  },
  {
   "cell_type": "code",
   "execution_count": 32,
   "id": "3671a9a2",
   "metadata": {
    "execution": {
     "iopub.execute_input": "2025-02-12T06:29:17.874389Z",
     "iopub.status.busy": "2025-02-12T06:29:17.874061Z",
     "iopub.status.idle": "2025-02-12T06:29:18.464935Z",
     "shell.execute_reply": "2025-02-12T06:29:18.463966Z"
    },
    "papermill": {
     "duration": 0.615611,
     "end_time": "2025-02-12T06:29:18.466773",
     "exception": false,
     "start_time": "2025-02-12T06:29:17.851162",
     "status": "completed"
    },
    "tags": []
   },
   "outputs": [
    {
     "name": "stdout",
     "output_type": "stream",
     "text": [
      "% of clicked articles with more than 5 clicks is :25.64%\n",
      "% of articles added to cart with more than 5 add to cart is :8.41%\n",
      "% of ordered articles with more than 3 orders is :9.02%\n"
     ]
    }
   ],
   "source": [
    "x = n_per_aid.loc[(n_per_aid[\"type\"]==\"clicks\") & (n_per_aid[\"count\"]>5), 'aid'].nunique()\n",
    "y = n_per_aid.loc[(n_per_aid[\"type\"]==\"clicks\"), 'aid'].nunique()\n",
    "print(f\"% of clicked articles with more than 5 clicks is :{x*100/y:.2f}%\")\n",
    "\n",
    "x = n_per_aid.loc[(n_per_aid[\"type\"]==\"carts\") & (n_per_aid[\"count\"]>5), 'aid'].nunique()\n",
    "y = n_per_aid.loc[(n_per_aid[\"type\"]==\"carts\"), 'aid'].nunique()\n",
    "print(f\"% of articles added to cart with more than 5 add to cart is :{x*100/y:.2f}%\")\n",
    "\n",
    "x = n_per_aid.loc[(n_per_aid[\"type\"]==\"orders\") & (n_per_aid[\"count\"]>3), 'aid'].nunique()\n",
    "y = n_per_aid.loc[(n_per_aid[\"type\"]==\"orders\"), 'aid'].nunique()\n",
    "print(f\"% of ordered articles with more than 3 orders is :{x*100/y:.2f}%\")"
   ]
  },
  {
   "cell_type": "code",
   "execution_count": 33,
   "id": "97799225",
   "metadata": {
    "execution": {
     "iopub.execute_input": "2025-02-12T06:29:18.515213Z",
     "iopub.status.busy": "2025-02-12T06:29:18.514879Z",
     "iopub.status.idle": "2025-02-12T06:29:18.828185Z",
     "shell.execute_reply": "2025-02-12T06:29:18.826954Z"
    },
    "papermill": {
     "duration": 0.339659,
     "end_time": "2025-02-12T06:29:18.829992",
     "exception": false,
     "start_time": "2025-02-12T06:29:18.490333",
     "status": "completed"
    },
    "tags": []
   },
   "outputs": [
    {
     "name": "stdout",
     "output_type": "stream",
     "text": [
      "Average conversion rate from clicks to carts is: 25.71%\n",
      "Average conversion rate from carts to orders is: 38.62%\n",
      "Average conversion rate from clicks to orders is: 9.93%\n"
     ]
    }
   ],
   "source": [
    "x = n_per_aid.loc[(n_per_aid[\"type\"]==\"clicks\"), 'aid'].nunique()\n",
    "y = n_per_aid.loc[(n_per_aid[\"type\"]==\"carts\"), 'aid'].nunique()\n",
    "z = n_per_aid.loc[(n_per_aid[\"type\"]==\"orders\"), 'aid'].nunique()\n",
    "\n",
    "print(f\"Average conversion rate from clicks to carts is: {y*100/x:.2f}%\")\n",
    "print(f\"Average conversion rate from carts to orders is: {z*100/y:.2f}%\")\n",
    "print(f\"Average conversion rate from clicks to orders is: {z*100/x:.2f}%\")"
   ]
  },
  {
   "cell_type": "code",
   "execution_count": 34,
   "id": "eb51ce02",
   "metadata": {
    "execution": {
     "iopub.execute_input": "2025-02-12T06:29:18.876735Z",
     "iopub.status.busy": "2025-02-12T06:29:18.876340Z",
     "iopub.status.idle": "2025-02-12T06:29:21.861231Z",
     "shell.execute_reply": "2025-02-12T06:29:21.860180Z"
    },
    "papermill": {
     "duration": 3.009924,
     "end_time": "2025-02-12T06:29:21.862994",
     "exception": false,
     "start_time": "2025-02-12T06:29:18.853070",
     "status": "completed"
    },
    "tags": []
   },
   "outputs": [
    {
     "data": {
      "text/plain": [
       "<seaborn.axisgrid.FacetGrid at 0x7a1cb8349f30>"
      ]
     },
     "execution_count": 34,
     "metadata": {},
     "output_type": "execute_result"
    },
    {
     "data": {
      "image/png": "[encoded data removed]",
      "text/plain": [
       "<Figure size 547.375x300 with 1 Axes>"
      ]
     },
     "metadata": {},
     "output_type": "display_data"
    }
   ],
   "source": [
    "(\n",
    "    sns.displot(\n",
    "        data=n_per_aid.loc[n_per_aid[\"type\"]==\"clicks\"], \n",
    "        x='count',\n",
    "        hue='type',\n",
    "        log_scale=True,\n",
    "        multiple='dodge',\n",
    "        height=3, \n",
    "        aspect=1.5,\n",
    "    )\n",
    "    .set(\n",
    "        title='Log Distribution of Clicks per aid',\n",
    "    )\n",
    ")"
   ]
  },
  {
   "cell_type": "code",
   "execution_count": 35,
   "id": "8fe4ae68",
   "metadata": {
    "execution": {
     "iopub.execute_input": "2025-02-12T06:29:21.910925Z",
     "iopub.status.busy": "2025-02-12T06:29:21.910503Z",
     "iopub.status.idle": "2025-02-12T06:29:24.036297Z",
     "shell.execute_reply": "2025-02-12T06:29:24.035145Z"
    },
    "papermill": {
     "duration": 2.152347,
     "end_time": "2025-02-12T06:29:24.038199",
     "exception": false,
     "start_time": "2025-02-12T06:29:21.885852",
     "status": "completed"
    },
    "tags": []
   },
   "outputs": [
    {
     "data": {
      "text/plain": [
       "<seaborn.axisgrid.FacetGrid at 0x7a1c9a026e30>"
      ]
     },
     "execution_count": 35,
     "metadata": {},
     "output_type": "execute_result"
    },
    {
     "data": {
      "image/png": "[encoded data removed]",
      "text/plain": [
       "<Figure size 543.25x300 with 1 Axes>"
      ]
     },
     "metadata": {},
     "output_type": "display_data"
    }
   ],
   "source": [
    "(\n",
    "    sns.displot(\n",
    "        data=n_per_aid.loc[n_per_aid[\"type\"]==\"carts\"], \n",
    "        x='count',\n",
    "        hue='type',\n",
    "        log_scale=True,\n",
    "        multiple='dodge',\n",
    "        height=3, \n",
    "        aspect=1.5,\n",
    "    )\n",
    "    .set(\n",
    "        title='Log Distribution of Carts per aid',\n",
    "    )\n",
    ")"
   ]
  },
  {
   "cell_type": "code",
   "execution_count": 36,
   "id": "221154ff",
   "metadata": {
    "execution": {
     "iopub.execute_input": "2025-02-12T06:29:24.088563Z",
     "iopub.status.busy": "2025-02-12T06:29:24.088211Z",
     "iopub.status.idle": "2025-02-12T06:29:25.872169Z",
     "shell.execute_reply": "2025-02-12T06:29:25.870721Z"
    },
    "papermill": {
     "duration": 1.811652,
     "end_time": "2025-02-12T06:29:25.874405",
     "exception": false,
     "start_time": "2025-02-12T06:29:24.062753",
     "status": "completed"
    },
    "tags": []
   },
   "outputs": [
    {
     "data": {
      "text/plain": [
       "<seaborn.axisgrid.FacetGrid at 0x7a1c99e6e590>"
      ]
     },
     "execution_count": 36,
     "metadata": {},
     "output_type": "execute_result"
    },
    {
     "data": {
      "image/png": "[encoded data removed]",
      "text/plain": [
       "<Figure size 554.125x300 with 1 Axes>"
      ]
     },
     "metadata": {},
     "output_type": "display_data"
    }
   ],
   "source": [
    "(\n",
    "    sns.displot(\n",
    "        data=n_per_aid.loc[n_per_aid[\"type\"]==\"orders\"], \n",
    "        x='count',\n",
    "        hue='type',\n",
    "        log_scale=True,\n",
    "        multiple='dodge',\n",
    "        height=3, \n",
    "        aspect=1.5,\n",
    "    )\n",
    "    .set(\n",
    "        title='Log Distribution of Orders per aid',\n",
    "    )\n",
    ")"
   ]
  },
  {
   "cell_type": "markdown",
   "id": "dbdc447c",
   "metadata": {
    "papermill": {
     "duration": 0.025791,
     "end_time": "2025-02-12T06:29:25.926521",
     "exception": false,
     "start_time": "2025-02-12T06:29:25.900730",
     "status": "completed"
    },
    "tags": []
   },
   "source": [
    "**Findings**:\n",
    "1. Clicks per `aid`: About 75% of the articles are clicked on 1 to 5 times. This means that most items are clicked on pretty uniformly.\n",
    "2. Carts per `aid`, and orders per `aid`: About 90% of articles that are added to card or ordered are done so 1 to 3 times. This is also a pretty uniform distribution.\n",
    "3. Conversion rate: The percentage of items that are clicked on and added to cart is about 25%. The percentage of items clicked on and ordered is about 10%. The conversion rate from carts to orders is about 40%."
   ]
  },
  {
   "cell_type": "markdown",
   "id": "407067ff",
   "metadata": {
    "papermill": {
     "duration": 0.026008,
     "end_time": "2025-02-12T06:29:25.978302",
     "exception": false,
     "start_time": "2025-02-12T06:29:25.952294",
     "status": "completed"
    },
    "tags": []
   },
   "source": [
    "### Co-occurence Matrix\n",
    "\n",
    "Aka Co-Visitation Matrix\n",
    "\n",
    "Approach:\n",
    "1. `sample_train_df` has two columns,`session` and `events`. `session` contains the session ID, and `events` contains a list of dictionaries. One of the key in the dictionary is the article ID.\n",
    "2. We will concatenate all the article IDs into a string for each session.\n",
    "3. Then we will use the CountVectorizer from sklearn to obtain a sparse matrix containing the counts of each article ID in each document. Let's call this matrix X.\n",
    "4. The dot product of X transpose and X gives us the **article-article co-occurrence matrix**.  "
   ]
  },
  {
   "cell_type": "code",
   "execution_count": 37,
   "id": "b4a20f54",
   "metadata": {
    "execution": {
     "iopub.execute_input": "2025-02-12T06:29:26.032497Z",
     "iopub.status.busy": "2025-02-12T06:29:26.032159Z",
     "iopub.status.idle": "2025-02-12T06:29:26.080860Z",
     "shell.execute_reply": "2025-02-12T06:29:26.079676Z"
    },
    "papermill": {
     "duration": 0.078822,
     "end_time": "2025-02-12T06:29:26.083857",
     "exception": false,
     "start_time": "2025-02-12T06:29:26.005035",
     "status": "completed"
    },
    "tags": []
   },
   "outputs": [
    {
     "data": {
      "text/html": [
       "<div>\n",
       "<style scoped>\n",
       "    .dataframe tbody tr th:only-of-type {\n",
       "        vertical-align: middle;\n",
       "    }\n",
       "\n",
       "    .dataframe tbody tr th {\n",
       "        vertical-align: top;\n",
       "    }\n",
       "\n",
       "    .dataframe thead th {\n",
       "        text-align: right;\n",
       "    }\n",
       "</style>\n",
       "<table border=\"1\" class=\"dataframe\">\n",
       "  <thead>\n",
       "    <tr style=\"text-align: right;\">\n",
       "      <th></th>\n",
       "      <th>session</th>\n",
       "      <th>events</th>\n",
       "    </tr>\n",
       "  </thead>\n",
       "  <tbody>\n",
       "    <tr>\n",
       "      <th>0</th>\n",
       "      <td>0</td>\n",
       "      <td>[{'aid': 1517085, 'ts': 1659304800025, 'type':...</td>\n",
       "    </tr>\n",
       "    <tr>\n",
       "      <th>1</th>\n",
       "      <td>1</td>\n",
       "      <td>[{'aid': 424964, 'ts': 1659304800025, 'type': ...</td>\n",
       "    </tr>\n",
       "    <tr>\n",
       "      <th>2</th>\n",
       "      <td>2</td>\n",
       "      <td>[{'aid': 763743, 'ts': 1659304800038, 'type': ...</td>\n",
       "    </tr>\n",
       "  </tbody>\n",
       "</table>\n",
       "</div>"
      ],
      "text/plain": [
       "   session                                             events\n",
       "0        0  [{'aid': 1517085, 'ts': 1659304800025, 'type':...\n",
       "1        1  [{'aid': 424964, 'ts': 1659304800025, 'type': ...\n",
       "2        2  [{'aid': 763743, 'ts': 1659304800038, 'type': ..."
      ]
     },
     "execution_count": 37,
     "metadata": {},
     "output_type": "execute_result"
    }
   ],
   "source": [
    "sample_train_df.head(3)"
   ]
  },
  {
   "cell_type": "code",
   "execution_count": 38,
   "id": "04551d1d",
   "metadata": {
    "execution": {
     "iopub.execute_input": "2025-02-12T06:29:26.134911Z",
     "iopub.status.busy": "2025-02-12T06:29:26.134503Z",
     "iopub.status.idle": "2025-02-12T06:29:26.141095Z",
     "shell.execute_reply": "2025-02-12T06:29:26.140110Z"
    },
    "papermill": {
     "duration": 0.034494,
     "end_time": "2025-02-12T06:29:26.142768",
     "exception": false,
     "start_time": "2025-02-12T06:29:26.108274",
     "status": "completed"
    },
    "tags": []
   },
   "outputs": [
    {
     "data": {
      "text/plain": [
       "'424964 1492293 1492293 910862 910862 1491172 1491172 424964 1515526 440486 109488 1507622 1734061 854637 854637 718983 215311 215311 718983 711125 711125 50049 105393 105393 959544 1734061 1842593 1464360 207905 1628317 376932 497868'"
      ]
     },
     "execution_count": 38,
     "metadata": {},
     "output_type": "execute_result"
    }
   ],
   "source": [
    "# Example\n",
    "\" \".join([f\"{y['aid']}\" for y in sample_train_df.loc[1,'events']])"
   ]
  },
  {
   "cell_type": "code",
   "execution_count": 39,
   "id": "4cc6f6e6",
   "metadata": {
    "execution": {
     "iopub.execute_input": "2025-02-12T06:29:26.195619Z",
     "iopub.status.busy": "2025-02-12T06:29:26.195275Z",
     "iopub.status.idle": "2025-02-12T06:29:27.845303Z",
     "shell.execute_reply": "2025-02-12T06:29:27.844222Z"
    },
    "papermill": {
     "duration": 1.678475,
     "end_time": "2025-02-12T06:29:27.847093",
     "exception": false,
     "start_time": "2025-02-12T06:29:26.168618",
     "status": "completed"
    },
    "tags": []
   },
   "outputs": [
    {
     "data": {
      "text/html": [
       "<div>\n",
       "<style scoped>\n",
       "    .dataframe tbody tr th:only-of-type {\n",
       "        vertical-align: middle;\n",
       "    }\n",
       "\n",
       "    .dataframe tbody tr th {\n",
       "        vertical-align: top;\n",
       "    }\n",
       "\n",
       "    .dataframe thead th {\n",
       "        text-align: right;\n",
       "    }\n",
       "</style>\n",
       "<table border=\"1\" class=\"dataframe\">\n",
       "  <thead>\n",
       "    <tr style=\"text-align: right;\">\n",
       "      <th></th>\n",
       "      <th>session</th>\n",
       "      <th>article_string</th>\n",
       "    </tr>\n",
       "  </thead>\n",
       "  <tbody>\n",
       "    <tr>\n",
       "      <th>0</th>\n",
       "      <td>0</td>\n",
       "      <td>1517085 1563459 1309446 16246 1781822 1152674 ...</td>\n",
       "    </tr>\n",
       "    <tr>\n",
       "      <th>1</th>\n",
       "      <td>1</td>\n",
       "      <td>424964 1492293 1492293 910862 910862 1491172 1...</td>\n",
       "    </tr>\n",
       "    <tr>\n",
       "      <th>2</th>\n",
       "      <td>2</td>\n",
       "      <td>763743 137492 504789 137492 795863 378348 7958...</td>\n",
       "    </tr>\n",
       "  </tbody>\n",
       "</table>\n",
       "</div>"
      ],
      "text/plain": [
       "   session                                     article_string\n",
       "0        0  1517085 1563459 1309446 16246 1781822 1152674 ...\n",
       "1        1  424964 1492293 1492293 910862 910862 1491172 1...\n",
       "2        2  763743 137492 504789 137492 795863 378348 7958..."
      ]
     },
     "execution_count": 39,
     "metadata": {},
     "output_type": "execute_result"
    }
   ],
   "source": [
    "article_string_df = pd.DataFrame(\n",
    "    {\n",
    "        'session': sample_train_df['session'], \n",
    "        'article_string': sample_train_df['events'].transform(lambda x: \" \".join([f\"{y['aid']}\" for y in x]))\n",
    "    }\n",
    ")\n",
    "\n",
    "article_string_df.head(3)"
   ]
  },
  {
   "cell_type": "code",
   "execution_count": 40,
   "id": "32eff03b",
   "metadata": {
    "execution": {
     "iopub.execute_input": "2025-02-12T06:29:27.955867Z",
     "iopub.status.busy": "2025-02-12T06:29:27.955269Z",
     "iopub.status.idle": "2025-02-12T06:29:29.430424Z",
     "shell.execute_reply": "2025-02-12T06:29:29.429348Z"
    },
    "papermill": {
     "duration": 1.50453,
     "end_time": "2025-02-12T06:29:29.432999",
     "exception": false,
     "start_time": "2025-02-12T06:29:27.928469",
     "status": "completed"
    },
    "tags": []
   },
   "outputs": [],
   "source": [
    "aid_dict = (\n",
    "    expanded_df[['aid']]\n",
    "    .drop_duplicates()\n",
    "    .astype(str)\n",
    "    .reset_index(drop=True)\n",
    "    .to_dict()\n",
    "    ['aid']\n",
    ")"
   ]
  },
  {
   "cell_type": "code",
   "execution_count": 41,
   "id": "1350987a",
   "metadata": {
    "execution": {
     "iopub.execute_input": "2025-02-12T06:29:29.488945Z",
     "iopub.status.busy": "2025-02-12T06:29:29.488526Z",
     "iopub.status.idle": "2025-02-12T06:29:39.144223Z",
     "shell.execute_reply": "2025-02-12T06:29:39.143125Z"
    },
    "papermill": {
     "duration": 9.687042,
     "end_time": "2025-02-12T06:29:39.146157",
     "exception": false,
     "start_time": "2025-02-12T06:29:29.459115",
     "status": "completed"
    },
    "tags": []
   },
   "outputs": [
    {
     "data": {
      "text/plain": [
       "<150000x830140 sparse matrix of type '<class 'numpy.int64'>'\n",
       "\twith 4515797 stored elements in Compressed Sparse Row format>"
      ]
     },
     "execution_count": 41,
     "metadata": {},
     "output_type": "execute_result"
    }
   ],
   "source": [
    "# Create the vocabulary dictionary\n",
    "vocabulary = {v: k for k, v in aid_dict.items()}\n",
    "\n",
    "vectorizer = CountVectorizer(vocabulary=vocabulary)\n",
    "\n",
    "X = vectorizer.fit_transform(article_string_df['article_string'])\n",
    "X"
   ]
  },
  {
   "cell_type": "code",
   "execution_count": 42,
   "id": "b192f202",
   "metadata": {
    "execution": {
     "iopub.execute_input": "2025-02-12T06:29:39.198085Z",
     "iopub.status.busy": "2025-02-12T06:29:39.197719Z",
     "iopub.status.idle": "2025-02-12T06:29:39.892368Z",
     "shell.execute_reply": "2025-02-12T06:29:39.891409Z"
    },
    "papermill": {
     "duration": 0.722492,
     "end_time": "2025-02-12T06:29:39.893827",
     "exception": false,
     "start_time": "2025-02-12T06:29:39.171335",
     "status": "completed"
    },
    "tags": []
   },
   "outputs": [
    {
     "name": "stdout",
     "output_type": "stream",
     "text": [
      "(830140,)\n"
     ]
    },
    {
     "data": {
      "text/plain": [
       "array(['1517085', '1563459', '1309446', ..., '891341', '1411609',\n",
       "       '1154833'], dtype=object)"
      ]
     },
     "execution_count": 42,
     "metadata": {},
     "output_type": "execute_result"
    }
   ],
   "source": [
    "print(vectorizer.get_feature_names_out().shape)\n",
    "vectorizer.get_feature_names_out()"
   ]
  },
  {
   "cell_type": "code",
   "execution_count": 43,
   "id": "7e3aebe2",
   "metadata": {
    "execution": {
     "iopub.execute_input": "2025-02-12T06:29:39.947748Z",
     "iopub.status.busy": "2025-02-12T06:29:39.947327Z",
     "iopub.status.idle": "2025-02-12T06:29:53.495791Z",
     "shell.execute_reply": "2025-02-12T06:29:53.494737Z"
    },
    "papermill": {
     "duration": 13.579029,
     "end_time": "2025-02-12T06:29:53.497902",
     "exception": false,
     "start_time": "2025-02-12T06:29:39.918873",
     "status": "completed"
    },
    "tags": []
   },
   "outputs": [],
   "source": [
    "X[X > 0] = 1 # to avoid spurious co-occurences. See Reference #4.\n",
    "co_matrix = (X.T * X)\n",
    "co_matrix.setdiag(0) # diagonals don't hold anything meaningful related to co-occurence"
   ]
  },
  {
   "cell_type": "code",
   "execution_count": 44,
   "id": "6aff9fdb",
   "metadata": {
    "execution": {
     "iopub.execute_input": "2025-02-12T06:29:53.549854Z",
     "iopub.status.busy": "2025-02-12T06:29:53.549465Z",
     "iopub.status.idle": "2025-02-12T06:29:53.554921Z",
     "shell.execute_reply": "2025-02-12T06:29:53.553928Z"
    },
    "papermill": {
     "duration": 0.033126,
     "end_time": "2025-02-12T06:29:53.556437",
     "exception": false,
     "start_time": "2025-02-12T06:29:53.523311",
     "status": "completed"
    },
    "tags": []
   },
   "outputs": [
    {
     "data": {
      "text/plain": [
       "<830140x830140 sparse matrix of type '<class 'numpy.int64'>'\n",
       "\twith 361631310 stored elements in Compressed Sparse Column format>"
      ]
     },
     "execution_count": 44,
     "metadata": {},
     "output_type": "execute_result"
    }
   ],
   "source": [
    "co_matrix"
   ]
  },
  {
   "cell_type": "code",
   "execution_count": 45,
   "id": "7d923e26",
   "metadata": {
    "execution": {
     "iopub.execute_input": "2025-02-12T06:29:53.610109Z",
     "iopub.status.busy": "2025-02-12T06:29:53.609749Z",
     "iopub.status.idle": "2025-02-12T06:29:53.615920Z",
     "shell.execute_reply": "2025-02-12T06:29:53.614753Z"
    },
    "papermill": {
     "duration": 0.035221,
     "end_time": "2025-02-12T06:29:53.617536",
     "exception": false,
     "start_time": "2025-02-12T06:29:53.582315",
     "status": "completed"
    },
    "tags": []
   },
   "outputs": [
    {
     "data": {
      "text/plain": [
       "((830140, 830140), 361631310)"
      ]
     },
     "execution_count": 45,
     "metadata": {},
     "output_type": "execute_result"
    }
   ],
   "source": [
    "co_matrix.shape, co_matrix.size"
   ]
  },
  {
   "cell_type": "code",
   "execution_count": 46,
   "id": "ab3554bf",
   "metadata": {
    "execution": {
     "iopub.execute_input": "2025-02-12T06:29:53.671310Z",
     "iopub.status.busy": "2025-02-12T06:29:53.670949Z",
     "iopub.status.idle": "2025-02-12T06:30:00.966274Z",
     "shell.execute_reply": "2025-02-12T06:30:00.965042Z"
    },
    "papermill": {
     "duration": 7.324547,
     "end_time": "2025-02-12T06:30:00.968332",
     "exception": false,
     "start_time": "2025-02-12T06:29:53.643785",
     "status": "completed"
    },
    "tags": []
   },
   "outputs": [],
   "source": [
    "# Keeping only the upper triangle since co-occurence matrices are symmetrical\n",
    "upper = triu(co_matrix)"
   ]
  },
  {
   "cell_type": "code",
   "execution_count": 47,
   "id": "53420100",
   "metadata": {
    "execution": {
     "iopub.execute_input": "2025-02-12T06:30:01.021099Z",
     "iopub.status.busy": "2025-02-12T06:30:01.020717Z",
     "iopub.status.idle": "2025-02-12T06:30:01.025058Z",
     "shell.execute_reply": "2025-02-12T06:30:01.023951Z"
    },
    "papermill": {
     "duration": 0.032935,
     "end_time": "2025-02-12T06:30:01.027071",
     "exception": false,
     "start_time": "2025-02-12T06:30:00.994136",
     "status": "completed"
    },
    "tags": []
   },
   "outputs": [],
   "source": [
    "del co_matrix"
   ]
  },
  {
   "cell_type": "code",
   "execution_count": 48,
   "id": "0b4d0e16",
   "metadata": {
    "execution": {
     "iopub.execute_input": "2025-02-12T06:30:01.082608Z",
     "iopub.status.busy": "2025-02-12T06:30:01.082239Z",
     "iopub.status.idle": "2025-02-12T06:30:46.313636Z",
     "shell.execute_reply": "2025-02-12T06:30:46.312452Z"
    },
    "papermill": {
     "duration": 45.262154,
     "end_time": "2025-02-12T06:30:46.315505",
     "exception": false,
     "start_time": "2025-02-12T06:30:01.053351",
     "status": "completed"
    },
    "tags": []
   },
   "outputs": [
    {
     "name": "stdout",
     "output_type": "stream",
     "text": [
      "% of non-zero co-occurence:99.839476%\n",
      "Total non-zero values: 181,230,725\n",
      "% sparse:99.973702%\n",
      "Maximum co-occurence:677\n",
      "Total co-occurence:200,239,317\n",
      "Average co-occurence for non-zero values:1.104886\n"
     ]
    }
   ],
   "source": [
    "x = upper.count_nonzero()\n",
    "y = upper.size\n",
    "print(f\"% of non-zero co-occurence:{x/y:%}\")\n",
    "print(f\"Total non-zero values: {upper.size:,}\")\n",
    "print(f\"% sparse:{1 - upper.size/(upper.shape[0]*upper.shape[1]):%}\")\n",
    "print(f\"Maximum co-occurence:{upper.max()}\")\n",
    "print(f\"Total co-occurence:{upper.sum():,}\")\n",
    "print(f\"Average co-occurence for non-zero values:{upper.sum()/upper.size:2f}\")"
   ]
  },
  {
   "cell_type": "code",
   "execution_count": 49,
   "id": "5a5f2680",
   "metadata": {
    "execution": {
     "iopub.execute_input": "2025-02-12T06:30:46.368822Z",
     "iopub.status.busy": "2025-02-12T06:30:46.368387Z",
     "iopub.status.idle": "2025-02-12T06:30:47.947247Z",
     "shell.execute_reply": "2025-02-12T06:30:47.945116Z"
    },
    "papermill": {
     "duration": 1.60837,
     "end_time": "2025-02-12T06:30:47.949610",
     "exception": false,
     "start_time": "2025-02-12T06:30:46.341240",
     "status": "completed"
    },
    "tags": []
   },
   "outputs": [],
   "source": [
    "upper.eliminate_zeros()"
   ]
  },
  {
   "cell_type": "code",
   "execution_count": 50,
   "id": "44f734fb",
   "metadata": {
    "execution": {
     "iopub.execute_input": "2025-02-12T06:30:48.016940Z",
     "iopub.status.busy": "2025-02-12T06:30:48.016439Z",
     "iopub.status.idle": "2025-02-12T06:30:48.021311Z",
     "shell.execute_reply": "2025-02-12T06:30:48.020218Z"
    },
    "papermill": {
     "duration": 0.033947,
     "end_time": "2025-02-12T06:30:48.023417",
     "exception": false,
     "start_time": "2025-02-12T06:30:47.989470",
     "status": "completed"
    },
    "tags": []
   },
   "outputs": [],
   "source": [
    "values = upper.data"
   ]
  },
  {
   "cell_type": "code",
   "execution_count": 51,
   "id": "e8164ccf",
   "metadata": {
    "execution": {
     "iopub.execute_input": "2025-02-12T06:30:48.078001Z",
     "iopub.status.busy": "2025-02-12T06:30:48.077490Z",
     "iopub.status.idle": "2025-02-12T06:30:48.084372Z",
     "shell.execute_reply": "2025-02-12T06:30:48.083468Z"
    },
    "papermill": {
     "duration": 0.036143,
     "end_time": "2025-02-12T06:30:48.086241",
     "exception": false,
     "start_time": "2025-02-12T06:30:48.050098",
     "status": "completed"
    },
    "tags": []
   },
   "outputs": [
    {
     "data": {
      "text/plain": [
       "180939806"
      ]
     },
     "execution_count": 51,
     "metadata": {},
     "output_type": "execute_result"
    }
   ],
   "source": [
    "len(values)"
   ]
  },
  {
   "cell_type": "code",
   "execution_count": 52,
   "id": "847b3496",
   "metadata": {
    "execution": {
     "iopub.execute_input": "2025-02-12T06:30:48.149546Z",
     "iopub.status.busy": "2025-02-12T06:30:48.149032Z",
     "iopub.status.idle": "2025-02-12T06:30:50.709737Z",
     "shell.execute_reply": "2025-02-12T06:30:50.708597Z"
    },
    "papermill": {
     "duration": 2.591868,
     "end_time": "2025-02-12T06:30:50.711368",
     "exception": false,
     "start_time": "2025-02-12T06:30:48.119500",
     "status": "completed"
    },
    "tags": []
   },
   "outputs": [
    {
     "name": "stdout",
     "output_type": "stream",
     "text": [
      "% of values that are equal to 1: 94.754666%\n",
      "% of values that are <= 2: 98.248106%\n",
      "% of values that are <= 3: 99.094613%\n"
     ]
    }
   ],
   "source": [
    "print(f\"% of values that are equal to 1: {len(values[values==1])/len(values):%}\")\n",
    "print(f\"% of values that are <= 2: {len(values[values<=2])/len(values):%}\")\n",
    "print(f\"% of values that are <= 3: {len(values[values<=3])/len(values):%}\")"
   ]
  },
  {
   "cell_type": "markdown",
   "id": "30eb1af6",
   "metadata": {
    "papermill": {
     "duration": 0.025305,
     "end_time": "2025-02-12T06:30:50.762312",
     "exception": false,
     "start_time": "2025-02-12T06:30:50.737007",
     "status": "completed"
    },
    "tags": []
   },
   "source": [
    "**Findings**\n",
    "1. The co-occurrence matrix of shape (830,140, 830,140) is 99.97% is sparse, i.e. almost all the values are 0. This is not unexpected in co-oocurrence matrices. This is due to a large vocabulary size, of 830k+ article IDs.\n",
    "2. Out of all the non-zero values ~95% are equal to 1, and 99% are less than or equal to 3. This means there is not a very strong co-occurence. One caveat is that our sample size of 150K is only about 1% of the entire dataset.\n",
    "3. The maximum co-ccurence is 677.\n",
    "\n",
    "**Conclusions**  \n",
    "1. It is difficult to draw conclusions about how strong of a co-relation these non-zero values indicate. Since most the values are 0 in a sparse matrix, we cannot put a lot of emphasis on the importance on the non-zero values.\n",
    "2. The non-zero values are mostly equal to 1. If the distribution was spread out over values >1, then we would have a strong indication of co-occurence.\n",
    "3. Therefore, we can conclude that there is some level of co-occurrence in our data, but it is unclear how strong the co-occurence is. "
   ]
  },
  {
   "cell_type": "markdown",
   "id": "5d740bc9",
   "metadata": {
    "papermill": {
     "duration": 0.02633,
     "end_time": "2025-02-12T06:30:50.815098",
     "exception": false,
     "start_time": "2025-02-12T06:30:50.788768",
     "status": "completed"
    },
    "tags": []
   },
   "source": [
    "### Transition matrix of `aid` \n",
    "\n",
    "Identifying the occurence of pairs of 2 of article IDs."
   ]
  },
  {
   "cell_type": "code",
   "execution_count": 53,
   "id": "2be543cf",
   "metadata": {
    "execution": {
     "iopub.execute_input": "2025-02-12T06:30:50.872849Z",
     "iopub.status.busy": "2025-02-12T06:30:50.872416Z",
     "iopub.status.idle": "2025-02-12T06:31:29.468923Z",
     "shell.execute_reply": "2025-02-12T06:31:29.467736Z"
    },
    "papermill": {
     "duration": 38.64994,
     "end_time": "2025-02-12T06:31:29.495366",
     "exception": false,
     "start_time": "2025-02-12T06:30:50.845426",
     "status": "completed"
    },
    "tags": []
   },
   "outputs": [
    {
     "data": {
      "text/plain": [
       "<150000x5496684 sparse matrix of type '<class 'numpy.int64'>'\n",
       "\twith 6770211 stored elements in Compressed Sparse Row format>"
      ]
     },
     "execution_count": 53,
     "metadata": {},
     "output_type": "execute_result"
    }
   ],
   "source": [
    "# Setting the ngram to (2,2) to only look for bigrams. \n",
    "# In our case, the bigrams are the all the sequences of two article IDs observed in the dataset. \n",
    "vectorizer = CountVectorizer(ngram_range=(2,2))\n",
    "\n",
    "X = vectorizer.fit_transform(article_string_df['article_string'])\n",
    "X"
   ]
  },
  {
   "cell_type": "code",
   "execution_count": 54,
   "id": "a1ff8e2b",
   "metadata": {
    "execution": {
     "iopub.execute_input": "2025-02-12T06:31:29.549819Z",
     "iopub.status.busy": "2025-02-12T06:31:29.549374Z",
     "iopub.status.idle": "2025-02-12T06:31:50.845151Z",
     "shell.execute_reply": "2025-02-12T06:31:50.844075Z"
    },
    "papermill": {
     "duration": 21.326594,
     "end_time": "2025-02-12T06:31:50.847155",
     "exception": false,
     "start_time": "2025-02-12T06:31:29.520561",
     "status": "completed"
    },
    "tags": []
   },
   "outputs": [
    {
     "name": "stdout",
     "output_type": "stream",
     "text": [
      "(5496684,)\n"
     ]
    },
    {
     "data": {
      "text/plain": [
       "array(['10 1010336', '10 1712444', '100 100', ..., '999995 797470',\n",
       "       '999996 1843802', '999997 1814105'], dtype=object)"
      ]
     },
     "execution_count": 54,
     "metadata": {},
     "output_type": "execute_result"
    }
   ],
   "source": [
    "print(vectorizer.get_feature_names_out().shape)\n",
    "vectorizer.get_feature_names_out()"
   ]
  },
  {
   "cell_type": "code",
   "execution_count": 55,
   "id": "aaa04028",
   "metadata": {
    "execution": {
     "iopub.execute_input": "2025-02-12T06:31:50.903847Z",
     "iopub.status.busy": "2025-02-12T06:31:50.903457Z",
     "iopub.status.idle": "2025-02-12T06:31:50.917866Z",
     "shell.execute_reply": "2025-02-12T06:31:50.916767Z"
    },
    "papermill": {
     "duration": 0.044389,
     "end_time": "2025-02-12T06:31:50.919871",
     "exception": false,
     "start_time": "2025-02-12T06:31:50.875482",
     "status": "completed"
    },
    "tags": []
   },
   "outputs": [],
   "source": [
    "X.eliminate_zeros()"
   ]
  },
  {
   "cell_type": "code",
   "execution_count": 56,
   "id": "d5478cc4",
   "metadata": {
    "execution": {
     "iopub.execute_input": "2025-02-12T06:31:50.975716Z",
     "iopub.status.busy": "2025-02-12T06:31:50.975333Z",
     "iopub.status.idle": "2025-02-12T06:31:50.979782Z",
     "shell.execute_reply": "2025-02-12T06:31:50.978598Z"
    },
    "papermill": {
     "duration": 0.035979,
     "end_time": "2025-02-12T06:31:50.981436",
     "exception": false,
     "start_time": "2025-02-12T06:31:50.945457",
     "status": "completed"
    },
    "tags": []
   },
   "outputs": [],
   "source": [
    "values = X.data"
   ]
  },
  {
   "cell_type": "code",
   "execution_count": 57,
   "id": "32cb6d83",
   "metadata": {
    "execution": {
     "iopub.execute_input": "2025-02-12T06:31:51.046309Z",
     "iopub.status.busy": "2025-02-12T06:31:51.045792Z",
     "iopub.status.idle": "2025-02-12T06:31:51.054460Z",
     "shell.execute_reply": "2025-02-12T06:31:51.053085Z"
    },
    "papermill": {
     "duration": 0.043936,
     "end_time": "2025-02-12T06:31:51.056792",
     "exception": false,
     "start_time": "2025-02-12T06:31:51.012856",
     "status": "completed"
    },
    "tags": []
   },
   "outputs": [
    {
     "data": {
      "text/plain": [
       "array([1, 1, 1, ..., 1, 1, 1])"
      ]
     },
     "execution_count": 57,
     "metadata": {},
     "output_type": "execute_result"
    }
   ],
   "source": [
    "values"
   ]
  },
  {
   "cell_type": "code",
   "execution_count": 58,
   "id": "2379d7f4",
   "metadata": {
    "execution": {
     "iopub.execute_input": "2025-02-12T06:31:51.114217Z",
     "iopub.status.busy": "2025-02-12T06:31:51.113756Z",
     "iopub.status.idle": "2025-02-12T06:31:51.120695Z",
     "shell.execute_reply": "2025-02-12T06:31:51.119709Z"
    },
    "papermill": {
     "duration": 0.037319,
     "end_time": "2025-02-12T06:31:51.122816",
     "exception": false,
     "start_time": "2025-02-12T06:31:51.085497",
     "status": "completed"
    },
    "tags": []
   },
   "outputs": [
    {
     "data": {
      "text/plain": [
       "6770211"
      ]
     },
     "execution_count": 58,
     "metadata": {},
     "output_type": "execute_result"
    }
   ],
   "source": [
    "len(values)"
   ]
  },
  {
   "cell_type": "code",
   "execution_count": 59,
   "id": "a43780ed",
   "metadata": {
    "execution": {
     "iopub.execute_input": "2025-02-12T06:31:51.219059Z",
     "iopub.status.busy": "2025-02-12T06:31:51.218628Z",
     "iopub.status.idle": "2025-02-12T06:31:51.325986Z",
     "shell.execute_reply": "2025-02-12T06:31:51.324443Z"
    },
    "papermill": {
     "duration": 0.158233,
     "end_time": "2025-02-12T06:31:51.330023",
     "exception": false,
     "start_time": "2025-02-12T06:31:51.171790",
     "status": "completed"
    },
    "tags": []
   },
   "outputs": [
    {
     "name": "stdout",
     "output_type": "stream",
     "text": [
      "% of values that are equal to 1: 92.591989%\n",
      "% of values that are <= 2: 97.538216%\n",
      "% of values that are <= 3: 98.807807%\n"
     ]
    }
   ],
   "source": [
    "print(f\"% of values that are equal to 1: {len(values[values==1])/len(values):%}\")\n",
    "print(f\"% of values that are <= 2: {len(values[values<=2])/len(values):%}\")\n",
    "print(f\"% of values that are <= 3: {len(values[values<=3])/len(values):%}\")"
   ]
  },
  {
   "cell_type": "markdown",
   "id": "46848112",
   "metadata": {
    "papermill": {
     "duration": 0.028218,
     "end_time": "2025-02-12T06:31:51.385661",
     "exception": false,
     "start_time": "2025-02-12T06:31:51.357443",
     "status": "completed"
    },
    "tags": []
   },
   "source": [
    "**Findings**\n",
    "1. Among the non-zero bigrams of article IDs, ~93% are equal to 1, and ~98% are less than or equal to 1.\n",
    "\n",
    "**Conclusion**\n",
    "There is some evidence of certain sequences of article IDs occuring more than once. However, given the small sample size and sparsity of the dataset, it is inconclusive how significant this evidence is."
   ]
  },
  {
   "cell_type": "markdown",
   "id": "a2c25785",
   "metadata": {
    "papermill": {
     "duration": 0.025635,
     "end_time": "2025-02-12T06:31:51.437795",
     "exception": false,
     "start_time": "2025-02-12T06:31:51.412160",
     "status": "completed"
    },
    "tags": []
   },
   "source": [
    "### Understanding Time Spent\n",
    "\n",
    "1. Calculate difference of last and first `ts` as `time_elapsed`\n",
    "2. `time_elapsed` per `session` (how much tiime does a user spend per session)\n",
    "3. time elapsed per `aid` (how much time is spent per article), time elapsed on an `aid` right before `carts` (how much time is spent on an article before adding to cart), time elapsed on `aid` added to cart and those `aid` not added to cart"
   ]
  },
  {
   "cell_type": "code",
   "execution_count": 60,
   "id": "021572a6",
   "metadata": {
    "execution": {
     "iopub.execute_input": "2025-02-12T06:31:51.493667Z",
     "iopub.status.busy": "2025-02-12T06:31:51.493241Z",
     "iopub.status.idle": "2025-02-12T06:31:58.197393Z",
     "shell.execute_reply": "2025-02-12T06:31:58.196036Z"
    },
    "papermill": {
     "duration": 6.733783,
     "end_time": "2025-02-12T06:31:58.199462",
     "exception": false,
     "start_time": "2025-02-12T06:31:51.465679",
     "status": "completed"
    },
    "tags": []
   },
   "outputs": [],
   "source": [
    "expanded_df = expanded_df.sort_values(by=['session', 'ts'])"
   ]
  },
  {
   "cell_type": "code",
   "execution_count": 61,
   "id": "492db98b",
   "metadata": {
    "execution": {
     "iopub.execute_input": "2025-02-12T06:31:58.257382Z",
     "iopub.status.busy": "2025-02-12T06:31:58.257045Z",
     "iopub.status.idle": "2025-02-12T06:31:58.269495Z",
     "shell.execute_reply": "2025-02-12T06:31:58.268510Z"
    },
    "papermill": {
     "duration": 0.044686,
     "end_time": "2025-02-12T06:31:58.271435",
     "exception": false,
     "start_time": "2025-02-12T06:31:58.226749",
     "status": "completed"
    },
    "tags": []
   },
   "outputs": [
    {
     "data": {
      "text/html": [
       "<div>\n",
       "<style scoped>\n",
       "    .dataframe tbody tr th:only-of-type {\n",
       "        vertical-align: middle;\n",
       "    }\n",
       "\n",
       "    .dataframe tbody tr th {\n",
       "        vertical-align: top;\n",
       "    }\n",
       "\n",
       "    .dataframe thead th {\n",
       "        text-align: right;\n",
       "    }\n",
       "</style>\n",
       "<table border=\"1\" class=\"dataframe\">\n",
       "  <thead>\n",
       "    <tr style=\"text-align: right;\">\n",
       "      <th></th>\n",
       "      <th>session</th>\n",
       "      <th>aid</th>\n",
       "      <th>ts</th>\n",
       "      <th>type</th>\n",
       "    </tr>\n",
       "  </thead>\n",
       "  <tbody>\n",
       "    <tr>\n",
       "      <th>0</th>\n",
       "      <td>0</td>\n",
       "      <td>1517085</td>\n",
       "      <td>1659304800025</td>\n",
       "      <td>clicks</td>\n",
       "    </tr>\n",
       "    <tr>\n",
       "      <th>1</th>\n",
       "      <td>0</td>\n",
       "      <td>1563459</td>\n",
       "      <td>1659304904511</td>\n",
       "      <td>clicks</td>\n",
       "    </tr>\n",
       "    <tr>\n",
       "      <th>2</th>\n",
       "      <td>0</td>\n",
       "      <td>1309446</td>\n",
       "      <td>1659367439426</td>\n",
       "      <td>clicks</td>\n",
       "    </tr>\n",
       "    <tr>\n",
       "      <th>3</th>\n",
       "      <td>0</td>\n",
       "      <td>16246</td>\n",
       "      <td>1659367719997</td>\n",
       "      <td>clicks</td>\n",
       "    </tr>\n",
       "    <tr>\n",
       "      <th>4</th>\n",
       "      <td>0</td>\n",
       "      <td>1781822</td>\n",
       "      <td>1659367871344</td>\n",
       "      <td>clicks</td>\n",
       "    </tr>\n",
       "    <tr>\n",
       "      <th>...</th>\n",
       "      <td>...</td>\n",
       "      <td>...</td>\n",
       "      <td>...</td>\n",
       "      <td>...</td>\n",
       "    </tr>\n",
       "    <tr>\n",
       "      <th>7841822</th>\n",
       "      <td>149998</td>\n",
       "      <td>752186</td>\n",
       "      <td>1659332590213</td>\n",
       "      <td>clicks</td>\n",
       "    </tr>\n",
       "    <tr>\n",
       "      <th>7841823</th>\n",
       "      <td>149999</td>\n",
       "      <td>1752139</td>\n",
       "      <td>1659332465811</td>\n",
       "      <td>clicks</td>\n",
       "    </tr>\n",
       "    <tr>\n",
       "      <th>7841824</th>\n",
       "      <td>149999</td>\n",
       "      <td>276163</td>\n",
       "      <td>1659332518642</td>\n",
       "      <td>clicks</td>\n",
       "    </tr>\n",
       "    <tr>\n",
       "      <th>7841825</th>\n",
       "      <td>149999</td>\n",
       "      <td>1617030</td>\n",
       "      <td>1660131815785</td>\n",
       "      <td>clicks</td>\n",
       "    </tr>\n",
       "    <tr>\n",
       "      <th>7841826</th>\n",
       "      <td>149999</td>\n",
       "      <td>674554</td>\n",
       "      <td>1660132675505</td>\n",
       "      <td>clicks</td>\n",
       "    </tr>\n",
       "  </tbody>\n",
       "</table>\n",
       "<p>7841827 rows × 4 columns</p>\n",
       "</div>"
      ],
      "text/plain": [
       "         session      aid             ts    type\n",
       "0              0  1517085  1659304800025  clicks\n",
       "1              0  1563459  1659304904511  clicks\n",
       "2              0  1309446  1659367439426  clicks\n",
       "3              0    16246  1659367719997  clicks\n",
       "4              0  1781822  1659367871344  clicks\n",
       "...          ...      ...            ...     ...\n",
       "7841822   149998   752186  1659332590213  clicks\n",
       "7841823   149999  1752139  1659332465811  clicks\n",
       "7841824   149999   276163  1659332518642  clicks\n",
       "7841825   149999  1617030  1660131815785  clicks\n",
       "7841826   149999   674554  1660132675505  clicks\n",
       "\n",
       "[7841827 rows x 4 columns]"
      ]
     },
     "execution_count": 61,
     "metadata": {},
     "output_type": "execute_result"
    }
   ],
   "source": [
    "expanded_df"
   ]
  },
  {
   "cell_type": "markdown",
   "id": "72b2b3e7",
   "metadata": {
    "papermill": {
     "duration": 0.025641,
     "end_time": "2025-02-12T06:31:58.325452",
     "exception": false,
     "start_time": "2025-02-12T06:31:58.299811",
     "status": "completed"
    },
    "tags": []
   },
   "source": [
    "### Time Spent per Session"
   ]
  },
  {
   "cell_type": "code",
   "execution_count": 62,
   "id": "762f02a0",
   "metadata": {
    "execution": {
     "iopub.execute_input": "2025-02-12T06:31:58.380512Z",
     "iopub.status.busy": "2025-02-12T06:31:58.380177Z",
     "iopub.status.idle": "2025-02-12T06:32:04.170019Z",
     "shell.execute_reply": "2025-02-12T06:32:04.168773Z"
    },
    "papermill": {
     "duration": 5.819245,
     "end_time": "2025-02-12T06:32:04.172126",
     "exception": false,
     "start_time": "2025-02-12T06:31:58.352881",
     "status": "completed"
    },
    "tags": []
   },
   "outputs": [
    {
     "data": {
      "text/plain": [
       "session\n",
       "0         1659304800025\n",
       "1         1659304800025\n",
       "2         1659304800038\n",
       "3         1659304800095\n",
       "4         1659304800119\n",
       "              ...      \n",
       "149995    1659332465408\n",
       "149996    1659332465484\n",
       "149997    1659332465575\n",
       "149998    1659332465804\n",
       "149999    1659332465811\n",
       "Name: ts, Length: 150000, dtype: int64"
      ]
     },
     "execution_count": 62,
     "metadata": {},
     "output_type": "execute_result"
    }
   ],
   "source": [
    "expanded_df.groupby('session')['ts'].apply(lambda x: x.iloc[0])"
   ]
  },
  {
   "cell_type": "code",
   "execution_count": 63,
   "id": "92eacb04",
   "metadata": {
    "execution": {
     "iopub.execute_input": "2025-02-12T06:32:04.232156Z",
     "iopub.status.busy": "2025-02-12T06:32:04.231796Z",
     "iopub.status.idle": "2025-02-12T06:32:09.037058Z",
     "shell.execute_reply": "2025-02-12T06:32:09.035942Z"
    },
    "papermill": {
     "duration": 4.835832,
     "end_time": "2025-02-12T06:32:09.038744",
     "exception": false,
     "start_time": "2025-02-12T06:32:04.202912",
     "status": "completed"
    },
    "tags": []
   },
   "outputs": [
    {
     "data": {
      "text/plain": [
       "session\n",
       "0         1661684983707\n",
       "1         1661714854992\n",
       "2         1661714215659\n",
       "3         1661109666771\n",
       "4         1661586681303\n",
       "              ...      \n",
       "149995    1659332612416\n",
       "149996    1661635584506\n",
       "149997    1661365442340\n",
       "149998    1659332590213\n",
       "149999    1660132675505\n",
       "Name: ts, Length: 150000, dtype: int64"
      ]
     },
     "execution_count": 63,
     "metadata": {},
     "output_type": "execute_result"
    }
   ],
   "source": [
    "expanded_df.groupby('session')['ts'].apply(lambda x: x.iloc[-1])"
   ]
  },
  {
   "cell_type": "code",
   "execution_count": 64,
   "id": "d02d8645",
   "metadata": {
    "execution": {
     "iopub.execute_input": "2025-02-12T06:32:09.094311Z",
     "iopub.status.busy": "2025-02-12T06:32:09.093918Z",
     "iopub.status.idle": "2025-02-12T06:32:14.934337Z",
     "shell.execute_reply": "2025-02-12T06:32:14.933069Z"
    },
    "papermill": {
     "duration": 5.869307,
     "end_time": "2025-02-12T06:32:14.936225",
     "exception": false,
     "start_time": "2025-02-12T06:32:09.066918",
     "status": "completed"
    },
    "tags": []
   },
   "outputs": [
    {
     "data": {
      "text/plain": [
       "session\n",
       "0         2380183682\n",
       "1         2410054967\n",
       "2         2409415621\n",
       "3         1804866676\n",
       "4         2281881184\n",
       "             ...    \n",
       "149995        147008\n",
       "149996    2303119022\n",
       "149997    2032976765\n",
       "149998        124409\n",
       "149999     800209694\n",
       "Name: ts, Length: 150000, dtype: int64"
      ]
     },
     "execution_count": 64,
     "metadata": {},
     "output_type": "execute_result"
    }
   ],
   "source": [
    "time_elapsed = expanded_df.groupby('session')['ts'].apply(lambda x: x.iloc[-1] - x.iloc[0])\n",
    "time_elapsed"
   ]
  },
  {
   "cell_type": "code",
   "execution_count": 65,
   "id": "b33c68e9",
   "metadata": {
    "execution": {
     "iopub.execute_input": "2025-02-12T06:32:14.994504Z",
     "iopub.status.busy": "2025-02-12T06:32:14.994018Z",
     "iopub.status.idle": "2025-02-12T06:32:15.496537Z",
     "shell.execute_reply": "2025-02-12T06:32:15.495533Z"
    },
    "papermill": {
     "duration": 0.534655,
     "end_time": "2025-02-12T06:32:15.498379",
     "exception": false,
     "start_time": "2025-02-12T06:32:14.963724",
     "status": "completed"
    },
    "tags": []
   },
   "outputs": [
    {
     "data": {
      "text/plain": [
       "session\n",
       "0        27 days 13:09:43.682000\n",
       "1        27 days 21:27:34.967000\n",
       "2        27 days 21:16:55.621000\n",
       "3        20 days 21:21:06.676000\n",
       "4        26 days 09:51:21.184000\n",
       "                   ...          \n",
       "149995    0 days 00:02:27.008000\n",
       "149996   26 days 15:45:19.022000\n",
       "149997   23 days 12:42:56.765000\n",
       "149998    0 days 00:02:04.409000\n",
       "149999    9 days 06:16:49.694000\n",
       "Name: ts, Length: 150000, dtype: timedelta64[ns]"
      ]
     },
     "execution_count": 65,
     "metadata": {},
     "output_type": "execute_result"
    }
   ],
   "source": [
    "time_elapsed.apply(lambda x: timedelta(milliseconds=int(x)))"
   ]
  },
  {
   "cell_type": "code",
   "execution_count": 66,
   "id": "fc720d3c",
   "metadata": {
    "execution": {
     "iopub.execute_input": "2025-02-12T06:32:15.553695Z",
     "iopub.status.busy": "2025-02-12T06:32:15.553322Z",
     "iopub.status.idle": "2025-02-12T06:32:15.667187Z",
     "shell.execute_reply": "2025-02-12T06:32:15.665804Z"
    },
    "papermill": {
     "duration": 0.143666,
     "end_time": "2025-02-12T06:32:15.669200",
     "exception": false,
     "start_time": "2025-02-12T06:32:15.525534",
     "status": "completed"
    },
    "tags": []
   },
   "outputs": [
    {
     "data": {
      "text/plain": [
       "session\n",
       "0         27.548422\n",
       "1         27.894155\n",
       "2         27.886755\n",
       "3         20.889661\n",
       "4         26.410662\n",
       "            ...    \n",
       "149995     0.001701\n",
       "149996    26.656470\n",
       "149997    23.529824\n",
       "149998     0.001440\n",
       "149999     9.261686\n",
       "Name: ts, Length: 150000, dtype: float64"
      ]
     },
     "execution_count": 66,
     "metadata": {},
     "output_type": "execute_result"
    }
   ],
   "source": [
    "days = time_elapsed.apply(int) / (1000 * 60 * 60 * 24)\n",
    "days"
   ]
  },
  {
   "cell_type": "code",
   "execution_count": 67,
   "id": "082aeca1",
   "metadata": {
    "execution": {
     "iopub.execute_input": "2025-02-12T06:32:15.724782Z",
     "iopub.status.busy": "2025-02-12T06:32:15.724365Z",
     "iopub.status.idle": "2025-02-12T06:32:16.442712Z",
     "shell.execute_reply": "2025-02-12T06:32:16.441539Z"
    },
    "papermill": {
     "duration": 0.748201,
     "end_time": "2025-02-12T06:32:16.444591",
     "exception": false,
     "start_time": "2025-02-12T06:32:15.696390",
     "status": "completed"
    },
    "tags": []
   },
   "outputs": [
    {
     "data": {
      "text/plain": [
       "<seaborn.axisgrid.FacetGrid at 0x7a1c999f7f70>"
      ]
     },
     "execution_count": 67,
     "metadata": {},
     "output_type": "execute_result"
    },
    {
     "data": {
      "image/png": "[encoded data removed]",
      "text/plain": [
       "<Figure size 450x300 with 1 Axes>"
      ]
     },
     "metadata": {},
     "output_type": "display_data"
    }
   ],
   "source": [
    "(\n",
    "    sns.displot(data=days, log_scale=False, height=3, aspect=1.5)\n",
    "    .set(\n",
    "        title='Distribution of Time Spent per session (Days)',\n",
    "    )\n",
    ")"
   ]
  },
  {
   "cell_type": "code",
   "execution_count": 68,
   "id": "e655d51a",
   "metadata": {
    "execution": {
     "iopub.execute_input": "2025-02-12T06:32:16.502737Z",
     "iopub.status.busy": "2025-02-12T06:32:16.502359Z",
     "iopub.status.idle": "2025-02-12T06:32:17.330728Z",
     "shell.execute_reply": "2025-02-12T06:32:17.329620Z"
    },
    "papermill": {
     "duration": 0.858536,
     "end_time": "2025-02-12T06:32:17.332637",
     "exception": false,
     "start_time": "2025-02-12T06:32:16.474101",
     "status": "completed"
    },
    "tags": []
   },
   "outputs": [
    {
     "data": {
      "text/plain": [
       "<seaborn.axisgrid.FacetGrid at 0x7a1c9a26ca30>"
      ]
     },
     "execution_count": 68,
     "metadata": {},
     "output_type": "execute_result"
    },
    {
     "data": {
      "image/png": "[encoded data removed]",
      "text/plain": [
       "<Figure size 450x300 with 1 Axes>"
      ]
     },
     "metadata": {},
     "output_type": "display_data"
    }
   ],
   "source": [
    "hours = time_elapsed.apply(int) / (1000 * 60 * 60)\n",
    "(\n",
    "    sns.displot(data=hours, log_scale=False, height=3, aspect=1.5)\n",
    "    .set(\n",
    "        title='Distribution of Time Spent per session (Hours)',\n",
    "    )\n",
    ")"
   ]
  },
  {
   "cell_type": "markdown",
   "id": "ae262d0c",
   "metadata": {
    "papermill": {
     "duration": 0.028994,
     "end_time": "2025-02-12T06:32:17.389479",
     "exception": false,
     "start_time": "2025-02-12T06:32:17.360485",
     "status": "completed"
    },
    "tags": []
   },
   "source": [
    "**Findings**  \n",
    "1. Time spent in a session can last from hours to days."
   ]
  },
  {
   "cell_type": "markdown",
   "id": "e523959d",
   "metadata": {
    "papermill": {
     "duration": 0.045079,
     "end_time": "2025-02-12T06:32:17.474557",
     "exception": false,
     "start_time": "2025-02-12T06:32:17.429478",
     "status": "completed"
    },
    "tags": []
   },
   "source": [
    "### Time Spent per aid per Event"
   ]
  },
  {
   "cell_type": "code",
   "execution_count": 69,
   "id": "261107ef",
   "metadata": {
    "execution": {
     "iopub.execute_input": "2025-02-12T06:32:17.540302Z",
     "iopub.status.busy": "2025-02-12T06:32:17.539948Z",
     "iopub.status.idle": "2025-02-12T06:32:17.928284Z",
     "shell.execute_reply": "2025-02-12T06:32:17.927166Z"
    },
    "papermill": {
     "duration": 0.422202,
     "end_time": "2025-02-12T06:32:17.930707",
     "exception": false,
     "start_time": "2025-02-12T06:32:17.508505",
     "status": "completed"
    },
    "tags": []
   },
   "outputs": [
    {
     "data": {
      "text/html": [
       "<div>\n",
       "<style scoped>\n",
       "    .dataframe tbody tr th:only-of-type {\n",
       "        vertical-align: middle;\n",
       "    }\n",
       "\n",
       "    .dataframe tbody tr th {\n",
       "        vertical-align: top;\n",
       "    }\n",
       "\n",
       "    .dataframe thead th {\n",
       "        text-align: right;\n",
       "    }\n",
       "</style>\n",
       "<table border=\"1\" class=\"dataframe\">\n",
       "  <thead>\n",
       "    <tr style=\"text-align: right;\">\n",
       "      <th></th>\n",
       "      <th>session</th>\n",
       "      <th>aid</th>\n",
       "      <th>ts</th>\n",
       "      <th>type</th>\n",
       "      <th>time_spent</th>\n",
       "    </tr>\n",
       "  </thead>\n",
       "  <tbody>\n",
       "    <tr>\n",
       "      <th>0</th>\n",
       "      <td>0</td>\n",
       "      <td>1517085</td>\n",
       "      <td>1659304800025</td>\n",
       "      <td>clicks</td>\n",
       "      <td>104486.0</td>\n",
       "    </tr>\n",
       "    <tr>\n",
       "      <th>1</th>\n",
       "      <td>0</td>\n",
       "      <td>1563459</td>\n",
       "      <td>1659304904511</td>\n",
       "      <td>clicks</td>\n",
       "      <td>62534915.0</td>\n",
       "    </tr>\n",
       "    <tr>\n",
       "      <th>2</th>\n",
       "      <td>0</td>\n",
       "      <td>1309446</td>\n",
       "      <td>1659367439426</td>\n",
       "      <td>clicks</td>\n",
       "      <td>280571.0</td>\n",
       "    </tr>\n",
       "    <tr>\n",
       "      <th>3</th>\n",
       "      <td>0</td>\n",
       "      <td>16246</td>\n",
       "      <td>1659367719997</td>\n",
       "      <td>clicks</td>\n",
       "      <td>151347.0</td>\n",
       "    </tr>\n",
       "    <tr>\n",
       "      <th>4</th>\n",
       "      <td>0</td>\n",
       "      <td>1781822</td>\n",
       "      <td>1659367871344</td>\n",
       "      <td>clicks</td>\n",
       "      <td>14452.0</td>\n",
       "    </tr>\n",
       "  </tbody>\n",
       "</table>\n",
       "</div>"
      ],
      "text/plain": [
       "   session      aid             ts    type  time_spent\n",
       "0        0  1517085  1659304800025  clicks    104486.0\n",
       "1        0  1563459  1659304904511  clicks  62534915.0\n",
       "2        0  1309446  1659367439426  clicks    280571.0\n",
       "3        0    16246  1659367719997  clicks    151347.0\n",
       "4        0  1781822  1659367871344  clicks     14452.0"
      ]
     },
     "execution_count": 69,
     "metadata": {},
     "output_type": "execute_result"
    }
   ],
   "source": [
    "expanded_df['time_spent'] = expanded_df.groupby('session')['ts'].diff().shift(-1)  # Shift to get the next event\n",
    "expanded_df.head()"
   ]
  },
  {
   "cell_type": "code",
   "execution_count": 70,
   "id": "47e8e505",
   "metadata": {
    "execution": {
     "iopub.execute_input": "2025-02-12T06:32:17.989049Z",
     "iopub.status.busy": "2025-02-12T06:32:17.988624Z",
     "iopub.status.idle": "2025-02-12T06:32:17.994371Z",
     "shell.execute_reply": "2025-02-12T06:32:17.993347Z"
    },
    "papermill": {
     "duration": 0.036759,
     "end_time": "2025-02-12T06:32:17.995928",
     "exception": false,
     "start_time": "2025-02-12T06:32:17.959169",
     "status": "completed"
    },
    "tags": []
   },
   "outputs": [
    {
     "data": {
      "text/plain": [
       "39209.135"
      ]
     },
     "execution_count": 70,
     "metadata": {},
     "output_type": "execute_result"
    }
   ],
   "source": [
    "expanded_df.shape[0]*0.005"
   ]
  },
  {
   "cell_type": "code",
   "execution_count": 71,
   "id": "603c0cda",
   "metadata": {
    "execution": {
     "iopub.execute_input": "2025-02-12T06:32:18.055913Z",
     "iopub.status.busy": "2025-02-12T06:32:18.055519Z",
     "iopub.status.idle": "2025-02-12T06:32:27.355981Z",
     "shell.execute_reply": "2025-02-12T06:32:27.354771Z"
    },
    "papermill": {
     "duration": 9.333112,
     "end_time": "2025-02-12T06:32:27.358223",
     "exception": false,
     "start_time": "2025-02-12T06:32:18.025111",
     "status": "completed"
    },
    "tags": []
   },
   "outputs": [
    {
     "data": {
      "text/plain": [
       "<seaborn.axisgrid.FacetGrid at 0x7a1c99e2fcd0>"
      ]
     },
     "execution_count": 71,
     "metadata": {},
     "output_type": "execute_result"
    },
    {
     "data": {
      "image/png": "[encoded data removed]",
      "text/plain": [
       "<Figure size 450x300 with 1 Axes>"
      ]
     },
     "metadata": {},
     "output_type": "display_data"
    }
   ],
   "source": [
    "(\n",
    "    sns.displot(\n",
    "        data=expanded_df['time_spent'].dropna().replace(0, 1e-6)/1000, \n",
    "        log_scale=True, height=3, aspect=1.5)\n",
    "    .set(\n",
    "        title='Distribution of Time Spent (in seconds) per aid',\n",
    "    )\n",
    ")"
   ]
  },
  {
   "cell_type": "markdown",
   "id": "f478557d",
   "metadata": {
    "papermill": {
     "duration": 0.040507,
     "end_time": "2025-02-12T06:32:27.437607",
     "exception": false,
     "start_time": "2025-02-12T06:32:27.397100",
     "status": "completed"
    },
    "tags": []
   },
   "source": [
    "**Findings**\n",
    "1. There are two peaks. One around the 30 second park. And another around 100,000 seconds mark. The 30 second value makes sense. The 100,000 seems very large.  \n",
    "2. It seems like some users resume the same session after a long time."
   ]
  },
  {
   "cell_type": "markdown",
   "id": "1b0e2adf",
   "metadata": {
    "papermill": {
     "duration": 0.053316,
     "end_time": "2025-02-12T06:32:27.539582",
     "exception": false,
     "start_time": "2025-02-12T06:32:27.486266",
     "status": "completed"
    },
    "tags": []
   },
   "source": [
    "Let's filter for sessions that last less than 6 hours.\n",
    "2 hours = 2 * 60 * 60 seconds = 7,200,000 milliseconds"
   ]
  },
  {
   "cell_type": "code",
   "execution_count": 72,
   "id": "76e0e4ef",
   "metadata": {
    "execution": {
     "iopub.execute_input": "2025-02-12T06:32:27.622721Z",
     "iopub.status.busy": "2025-02-12T06:32:27.622270Z",
     "iopub.status.idle": "2025-02-12T06:32:28.348222Z",
     "shell.execute_reply": "2025-02-12T06:32:28.346775Z"
    },
    "papermill": {
     "duration": 0.769875,
     "end_time": "2025-02-12T06:32:28.350562",
     "exception": false,
     "start_time": "2025-02-12T06:32:27.580687",
     "status": "completed"
    },
    "tags": []
   },
   "outputs": [],
   "source": [
    "hour2 = expanded_df.loc[expanded_df[\"time_spent\"]<=7_200_000]"
   ]
  },
  {
   "cell_type": "code",
   "execution_count": 73,
   "id": "66b9d14e",
   "metadata": {
    "execution": {
     "iopub.execute_input": "2025-02-12T06:32:28.419917Z",
     "iopub.status.busy": "2025-02-12T06:32:28.419524Z",
     "iopub.status.idle": "2025-02-12T06:32:38.391829Z",
     "shell.execute_reply": "2025-02-12T06:32:38.390614Z"
    },
    "papermill": {
     "duration": 10.009605,
     "end_time": "2025-02-12T06:32:38.394044",
     "exception": false,
     "start_time": "2025-02-12T06:32:28.384439",
     "status": "completed"
    },
    "tags": []
   },
   "outputs": [
    {
     "data": {
      "text/plain": [
       "<seaborn.axisgrid.FacetGrid at 0x7a1c1468ece0>"
      ]
     },
     "execution_count": 73,
     "metadata": {},
     "output_type": "execute_result"
    },
    {
     "data": {
      "image/png": "[encoded data removed]",
      "text/plain": [
       "<Figure size 450x300 with 1 Axes>"
      ]
     },
     "metadata": {},
     "output_type": "display_data"
    }
   ],
   "source": [
    "(\n",
    "    sns.displot(\n",
    "        data=hour2['time_spent'].dropna().replace(0, 1e-6)/1000, \n",
    "        log_scale=True, height=3, aspect=1.5)\n",
    "    .set(\n",
    "        title='Distribution of Time Spent (in seconds) per aid',\n",
    "    )\n",
    ")"
   ]
  },
  {
   "cell_type": "code",
   "execution_count": 74,
   "id": "cf1a50dd",
   "metadata": {
    "execution": {
     "iopub.execute_input": "2025-02-12T06:32:38.457782Z",
     "iopub.status.busy": "2025-02-12T06:32:38.457228Z",
     "iopub.status.idle": "2025-02-12T06:32:40.620009Z",
     "shell.execute_reply": "2025-02-12T06:32:40.618879Z"
    },
    "papermill": {
     "duration": 2.195961,
     "end_time": "2025-02-12T06:32:40.621728",
     "exception": false,
     "start_time": "2025-02-12T06:32:38.425767",
     "status": "completed"
    },
    "tags": []
   },
   "outputs": [
    {
     "name": "stdout",
     "output_type": "stream",
     "text": [
      "Average time spent (in seconds) per event in sessions lasting less than 2 hours: 215.6798487514162\n",
      "Average time spent (in seconds) per click in sessions lasting less than 2 hours: 218.33221415298695\n",
      "Average time spent (in seconds) per cart in sessions lasting less than 2 hours: 163.599317852587\n",
      "Average time spent (in seconds) per order in sessions lasting less than 2 hours: 315.8307176280462\n"
     ]
    }
   ],
   "source": [
    "x = hour2['time_spent'].mean()/1000\n",
    "print(f\"Average time spent (in seconds) per event in sessions lasting less than 2 hours: {x}\")\n",
    "\n",
    "x = hour2.loc[hour2['type']=='clicks', 'time_spent'].mean()/1000\n",
    "print(f\"Average time spent (in seconds) per click in sessions lasting less than 2 hours: {x}\")\n",
    "\n",
    "x = hour2.loc[hour2['type']=='carts', 'time_spent'].mean()/1000\n",
    "print(f\"Average time spent (in seconds) per cart in sessions lasting less than 2 hours: {x}\")\n",
    "\n",
    "x = hour2.loc[hour2['type']=='orders', 'time_spent'].mean()/1000\n",
    "print(f\"Average time spent (in seconds) per order in sessions lasting less than 2 hours: {x}\")"
   ]
  },
  {
   "cell_type": "markdown",
   "id": "31fcd156",
   "metadata": {
    "papermill": {
     "duration": 0.030065,
     "end_time": "2025-02-12T06:32:40.681554",
     "exception": false,
     "start_time": "2025-02-12T06:32:40.651489",
     "status": "completed"
    },
    "tags": []
   },
   "source": [
    "**Findings**\n",
    "1. Users spend less time on cart events, followed by click events, and the most time on orders."
   ]
  },
  {
   "cell_type": "markdown",
   "id": "691ca3a5",
   "metadata": {
    "papermill": {
     "duration": 0.030909,
     "end_time": "2025-02-12T06:32:40.750354",
     "exception": false,
     "start_time": "2025-02-12T06:32:40.719445",
     "status": "completed"
    },
    "tags": []
   },
   "source": [
    "Let's check if users spend more time on those articles that are added to cart or ordered, compared to those that are not. "
   ]
  },
  {
   "cell_type": "code",
   "execution_count": 75,
   "id": "0642462e",
   "metadata": {
    "execution": {
     "iopub.execute_input": "2025-02-12T06:32:40.813269Z",
     "iopub.status.busy": "2025-02-12T06:32:40.812917Z",
     "iopub.status.idle": "2025-02-12T06:32:42.302340Z",
     "shell.execute_reply": "2025-02-12T06:32:42.301466Z"
    },
    "papermill": {
     "duration": 1.523234,
     "end_time": "2025-02-12T06:32:42.304217",
     "exception": false,
     "start_time": "2025-02-12T06:32:40.780983",
     "status": "completed"
    },
    "tags": []
   },
   "outputs": [],
   "source": [
    "cart_aids = expanded_df.loc[expanded_df['type']=='carts', 'aid'].unique()\n",
    "ordered_aids = expanded_df.loc[expanded_df['type']=='orders', 'aid'].unique()"
   ]
  },
  {
   "cell_type": "code",
   "execution_count": 76,
   "id": "8da53baa",
   "metadata": {
    "execution": {
     "iopub.execute_input": "2025-02-12T06:32:42.367807Z",
     "iopub.status.busy": "2025-02-12T06:32:42.367229Z",
     "iopub.status.idle": "2025-02-12T06:32:42.580821Z",
     "shell.execute_reply": "2025-02-12T06:32:42.579596Z"
    },
    "papermill": {
     "duration": 0.247486,
     "end_time": "2025-02-12T06:32:42.582578",
     "exception": false,
     "start_time": "2025-02-12T06:32:42.335092",
     "status": "completed"
    },
    "tags": []
   },
   "outputs": [
    {
     "data": {
      "text/plain": [
       "(830140, 211613, 81729)"
      ]
     },
     "execution_count": 76,
     "metadata": {},
     "output_type": "execute_result"
    }
   ],
   "source": [
    "len(expanded_df['aid'].unique()), len(cart_aids), len(ordered_aids)"
   ]
  },
  {
   "cell_type": "code",
   "execution_count": 77,
   "id": "c61f4250",
   "metadata": {
    "execution": {
     "iopub.execute_input": "2025-02-12T06:32:42.645617Z",
     "iopub.status.busy": "2025-02-12T06:32:42.645208Z",
     "iopub.status.idle": "2025-02-12T06:32:43.740919Z",
     "shell.execute_reply": "2025-02-12T06:32:43.739804Z"
    },
    "papermill": {
     "duration": 1.128936,
     "end_time": "2025-02-12T06:32:43.743310",
     "exception": false,
     "start_time": "2025-02-12T06:32:42.614374",
     "status": "completed"
    },
    "tags": []
   },
   "outputs": [],
   "source": [
    "hour2_cart_aids = (\n",
    "    expanded_df\n",
    "    .loc[\n",
    "        (expanded_df[\"time_spent\"]<=7_200_000) & (expanded_df[\"aid\"].isin(cart_aids))\n",
    "    ]\n",
    ")\n",
    "\n",
    "hour2_ordered_aids = (\n",
    "    expanded_df\n",
    "    .loc[\n",
    "        (expanded_df[\"time_spent\"]<=7_200_000) & (expanded_df[\"aid\"].isin(ordered_aids))\n",
    "    ]\n",
    ")"
   ]
  },
  {
   "cell_type": "code",
   "execution_count": 78,
   "id": "714c1d79",
   "metadata": {
    "execution": {
     "iopub.execute_input": "2025-02-12T06:32:43.808460Z",
     "iopub.status.busy": "2025-02-12T06:32:43.808070Z",
     "iopub.status.idle": "2025-02-12T06:32:51.543328Z",
     "shell.execute_reply": "2025-02-12T06:32:51.542175Z"
    },
    "papermill": {
     "duration": 7.76918,
     "end_time": "2025-02-12T06:32:51.545099",
     "exception": false,
     "start_time": "2025-02-12T06:32:43.775919",
     "status": "completed"
    },
    "tags": []
   },
   "outputs": [
    {
     "data": {
      "text/plain": [
       "<seaborn.axisgrid.FacetGrid at 0x7a1c24d430a0>"
      ]
     },
     "execution_count": 78,
     "metadata": {},
     "output_type": "execute_result"
    },
    {
     "data": {
      "image/png": "[encoded data removed]",
      "text/plain": [
       "<Figure size 450x300 with 1 Axes>"
      ]
     },
     "metadata": {},
     "output_type": "display_data"
    }
   ],
   "source": [
    "(\n",
    "    sns.displot(\n",
    "        data=(\n",
    "            hour2_cart_aids\n",
    "            .loc[hour2_cart_aids['type']=='clicks', 'time_spent']\n",
    "            .dropna()\n",
    "            .replace(0, 1e-6)\n",
    "            /1000), \n",
    "        log_scale=True, height=3, aspect=1.5)\n",
    "    .set(\n",
    "        title='Distribution of Time Spent (in seconds) clicking on aid that are added to cart',\n",
    "    )\n",
    ")"
   ]
  },
  {
   "cell_type": "code",
   "execution_count": 79,
   "id": "612be80c",
   "metadata": {
    "execution": {
     "iopub.execute_input": "2025-02-12T06:32:51.611631Z",
     "iopub.status.busy": "2025-02-12T06:32:51.611285Z",
     "iopub.status.idle": "2025-02-12T06:32:56.553071Z",
     "shell.execute_reply": "2025-02-12T06:32:56.551837Z"
    },
    "papermill": {
     "duration": 4.976001,
     "end_time": "2025-02-12T06:32:56.554968",
     "exception": false,
     "start_time": "2025-02-12T06:32:51.578967",
     "status": "completed"
    },
    "tags": []
   },
   "outputs": [
    {
     "data": {
      "text/plain": [
       "<seaborn.axisgrid.FacetGrid at 0x7a1c99ddd7e0>"
      ]
     },
     "execution_count": 79,
     "metadata": {},
     "output_type": "execute_result"
    },
    {
     "data": {
      "image/png": "[encoded data removed]",
      "text/plain": [
       "<Figure size 450x300 with 1 Axes>"
      ]
     },
     "metadata": {},
     "output_type": "display_data"
    }
   ],
   "source": [
    "(\n",
    "    sns.displot(\n",
    "        data=(\n",
    "            hour2_ordered_aids\n",
    "            .loc[hour2_ordered_aids['type']=='clicks', 'time_spent']\n",
    "            .dropna()\n",
    "            .replace(0, 1e-6)\n",
    "            /1000), \n",
    "        log_scale=True, height=3, aspect=1.5)\n",
    "    .set(\n",
    "        title='Distribution of Time Spent (in seconds) clicking on aid that are added to cart',\n",
    "    )\n",
    ")"
   ]
  },
  {
   "cell_type": "code",
   "execution_count": 80,
   "id": "e7dcf9fa",
   "metadata": {
    "execution": {
     "iopub.execute_input": "2025-02-12T06:32:56.621360Z",
     "iopub.status.busy": "2025-02-12T06:32:56.621015Z",
     "iopub.status.idle": "2025-02-12T06:32:57.653014Z",
     "shell.execute_reply": "2025-02-12T06:32:57.651762Z"
    },
    "papermill": {
     "duration": 1.06755,
     "end_time": "2025-02-12T06:32:57.655115",
     "exception": false,
     "start_time": "2025-02-12T06:32:56.587565",
     "status": "completed"
    },
    "tags": []
   },
   "outputs": [
    {
     "name": "stdout",
     "output_type": "stream",
     "text": [
      "Average time spent (in sec) in sessions lasting <2 hrs on aids that are added to cart: 217.39948061245255\n",
      "Average time spent (in sec) in sessions lasting <2 hrs on aids that are ordered: 228.65500035220165\n"
     ]
    }
   ],
   "source": [
    "x = hour2_cart_aids.loc[hour2_cart_aids['type']=='clicks', 'time_spent'].mean()/1000\n",
    "print(f\"Average time spent (in sec) in sessions lasting <2 hrs on aids that are added to cart: {x}\")\n",
    "\n",
    "x = hour2_ordered_aids.loc[hour2_ordered_aids['type']=='clicks', 'time_spent'].mean()/1000\n",
    "print(f\"Average time spent (in sec) in sessions lasting <2 hrs on aids that are ordered: {x}\")"
   ]
  },
  {
   "cell_type": "markdown",
   "id": "9547f774",
   "metadata": {
    "papermill": {
     "duration": 0.033017,
     "end_time": "2025-02-12T06:32:57.722109",
     "exception": false,
     "start_time": "2025-02-12T06:32:57.689092",
     "status": "completed"
    },
    "tags": []
   },
   "source": [
    "**Findings**\n",
    "1. Users tend to spend more time clicking on articles that are ordered."
   ]
  },
  {
   "cell_type": "markdown",
   "id": "da9c9e09",
   "metadata": {
    "papermill": {
     "duration": 0.031539,
     "end_time": "2025-02-12T06:32:57.786315",
     "exception": false,
     "start_time": "2025-02-12T06:32:57.754776",
     "status": "completed"
    },
    "tags": []
   },
   "source": [
    "# Overall Conclusions\n",
    "\n",
    "1. Users spend more time clicking on articles that are ordered versus those that are not. In a given session, if a user spends a lot of time on an item, it could be a good predictor of the item getting ordered.  \n",
    "2. There are some sessions which are much longer than others, even more than 24 hours in some cases. It is possible that there are different categories of sessions, with different characteristics associated with them.  \n",
    "3. Most users look at <6 items in a session. Most users add to card and order <3 items. Such sessions should be easier to predict.\n",
    "4. Although most articles are clicked 1 to 5 times, there are about 25% articles that are clicked more than 5 times. These articles with more clicks can be good predictions.\n",
    "5. The co-occurence and transition matrices are inconclusive in determining relationships between articles given the small sample size."
   ]
  }
 ],
 "metadata": {
  "kaggle": {
   "accelerator": "none",
   "dataSources": [
    {
     "databundleVersionId": 4493939,
     "sourceId": 38760,
     "sourceType": "competition"
    }
   ],
   "dockerImageVersionId": 30822,
   "isGpuEnabled": false,
   "isInternetEnabled": true,
   "language": "python",
   "sourceType": "notebook"
  },
  "kernelspec": {
   "display_name": "Python 3",
   "language": "python",
   "name": "python3"
  },
  "language_info": {
   "codemirror_mode": {
    "name": "ipython",
    "version": 3
   },
   "file_extension": ".py",
   "mimetype": "text/x-python",
   "name": "python",
   "nbconvert_exporter": "python",
   "pygments_lexer": "ipython3",
   "version": "3.10.12"
  },
  "papermill": {
   "default_parameters": {},
   "duration": 299.304863,
   "end_time": "2025-02-12T06:33:00.845793",
   "environment_variables": {},
   "exception": null,
   "input_path": "__notebook__.ipynb",
   "output_path": "__notebook__.ipynb",
   "parameters": {},
   "start_time": "2025-02-12T06:28:01.540930",
   "version": "2.6.0"
  }
 },
 "nbformat": 4,
 "nbformat_minor": 5
}
